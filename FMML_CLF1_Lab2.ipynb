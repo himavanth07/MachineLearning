{
  "nbformat": 4,
  "nbformat_minor": 0,
  "metadata": {
    "colab": {
      "name": "FMML_CLF1_Lab2.ipynb",
      "provenance": [],
      "collapsed_sections": [],
      "include_colab_link": true
    },
    "kernelspec": {
      "name": "python3",
      "display_name": "Python 3"
    },
    "language_info": {
      "name": "python"
    }
  },
  "cells": [
    {
      "cell_type": "markdown",
      "metadata": {
        "id": "view-in-github",
        "colab_type": "text"
      },
      "source": [
        "<a href=\"https://colab.research.google.com/github/himavanth07/fmml2021/blob/main/FMML_CLF1_Lab2.ipynb\" target=\"_parent\"><img src=\"https://colab.research.google.com/assets/colab-badge.svg\" alt=\"Open In Colab\"/></a>"
      ]
    },
    {
      "cell_type": "markdown",
      "metadata": {
        "id": "ihr08YTg2ifn"
      },
      "source": [
        "# **FOUNDATIONS OF MODERN MACHINE LEARNING, IIIT Hyderabad**\n",
        "### MODULE: CLASSIFICATION-1\n",
        "### LAB-2 : Implement KNN from scratch and visualize algo. performance\n",
        "#### Module Coordinator: Sahil Manoj Bhatt\n",
        "\n",
        "NOTE: YOU ONLY NEED TO MAKE CHANGES/WRITE CODE IN CELLS THAT SPECIFICALLY MENTION TASK-1, TASK-2, etc.\n",
        "\n",
        "WRITE ANY OBSERVATION(S), IF REQUIRED BY THE TASK, IN A SEPARATE CELL AT THE BOTTOM OF THE NOTEBOOK.  \n",
        "\n",
        "---\n",
        "\n"
      ]
    },
    {
      "cell_type": "markdown",
      "metadata": {
        "id": "HIJdUKMs1QV0"
      },
      "source": [
        "## KNN\n",
        "\n",
        "In the last lab, you learnt distance metrics and their importance in classification algorithms. You also saw how the KNN algorithm works for two cases: i) a synthetic dataset and ii) a real-world Iris dataset.  \n",
        "\n",
        "However, the question still remains: *What is KNN?*  \n",
        "### What is KNN ?\n",
        "\n",
        "K-NN (K- Nearest Neighbours) is a classification technique where the output is a class membership.  \n",
        "An object is classified by a **plurality vote of its neighbors**, with the object being assigned to the class most common among its k nearest neighbors (k is a positive integer, typically small). If k = 1, then the object is simply assigned to the class of that single nearest neighbor.  \n",
        "\n",
        "### What is so unique about KNN ?  \n",
        "First off, KNN is a **supervised learning** algorithm, ie, the idea is to learn a function that can map an input to an output given some example pairs.  \n",
        "\n",
        "It is a **non-parametric** algorithm, since it doesn't assume anything about the form of the mapping function, which makes it very flexible to use. Certain algorithms are parametric (such as Naive Bayes), which are constrained as they require a specified form. KNN can, thus, be a good algorithm to try if the form is unknown.  \n",
        "\n",
        "Moreover, KNN is an **instance-based algorithm**, since it compares new problems/inputs with those which were seen during model training and that were stored in memory.  "
      ]
    },
    {
      "cell_type": "code",
      "metadata": {
        "id": "A7877e44n6Kd"
      },
      "source": [
        "import pandas as pd\n",
        "import numpy as np\n",
        "from sklearn.model_selection import train_test_split\n",
        "from sklearn.metrics import accuracy_score\n",
        "from sklearn import preprocessing\n",
        "from collections import Counter"
      ],
      "execution_count": 152,
      "outputs": []
    },
    {
      "cell_type": "code",
      "metadata": {
        "id": "nHzdQE_8oPM1"
      },
      "source": [
        "def predict(X_train, y_train, X_test, k):\n",
        "    distances = []\n",
        "    targets = []\n",
        "\n",
        "    for i in range(len(X_train)):\n",
        "        # compute and store L2 distance\n",
        "        distances.append([np.sqrt(np.sum(np.square(X_test - X_train[i, :]))), i])\n",
        "\n",
        "    distances = sorted(distances)\n",
        "\n",
        "    for i in range(k):\n",
        "        index = distances[i][1]\n",
        "        targets.append(y_train[index])\n",
        "\n",
        "    # return most common target\n",
        "    return Counter(targets).most_common(1)[0][0]"
      ],
      "execution_count": 153,
      "outputs": []
    },
    {
      "cell_type": "code",
      "metadata": {
        "id": "9_kulEM0oWJ-"
      },
      "source": [
        "def k_nearest_neighbor(X_train, y_train, X_test, k):\n",
        "\n",
        "    assert k <= len(X_train), \"[!] K cannot be larger than number of samples.\"\n",
        "\n",
        "    # loop over all observations\n",
        "    predictions = []\n",
        "    for i in range(len(X_test)):\n",
        "        predictions.append(predict(X_train, y_train, X_test[i, :], k))\n",
        "\n",
        "    return np.asarray(predictions)"
      ],
      "execution_count": 154,
      "outputs": []
    },
    {
      "cell_type": "markdown",
      "metadata": {
        "id": "KlLazZsPbXml"
      },
      "source": [
        "# **Iris Dataset**"
      ]
    },
    {
      "cell_type": "markdown",
      "metadata": {
        "id": "j7wJgGQOxbDv"
      },
      "source": [
        "Download the Dataset"
      ]
    },
    {
      "cell_type": "code",
      "metadata": {
        "colab": {
          "resources": {
            "http://localhost:8080/nbextensions/google.colab/files.js": {
              "data": "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",
              "ok": true,
              "headers": [
                [
                  "content-type",
                  "application/javascript"
                ]
              ],
              "status": 200,
              "status_text": ""
            }
          },
          "base_uri": "https://localhost:8080/",
          "height": 73
        },
        "id": "9gPMkdpxwq3k",
        "outputId": "69cdf1e2-ef49-4452-e9bf-e82e6aabb904"
      },
      "source": [
        "# Upload the Iris data CSV file that has been shared with you.\n",
        "# Run this cell, click on the 'Choose files' button and upload the file.\n",
        "from google.colab import files\n",
        "uploaded = files.upload()"
      ],
      "execution_count": 155,
      "outputs": [
        {
          "output_type": "display_data",
          "data": {
            "text/html": [
              "\n",
              "     <input type=\"file\" id=\"files-f7c4c2d7-1fa7-4639-8c6f-8b9e50a4773a\" name=\"files[]\" multiple disabled\n",
              "        style=\"border:none\" />\n",
              "     <output id=\"result-f7c4c2d7-1fa7-4639-8c6f-8b9e50a4773a\">\n",
              "      Upload widget is only available when the cell has been executed in the\n",
              "      current browser session. Please rerun this cell to enable.\n",
              "      </output>\n",
              "      <script src=\"/nbextensions/google.colab/files.js\"></script> "
            ],
            "text/plain": [
              "<IPython.core.display.HTML object>"
            ]
          },
          "metadata": {}
        },
        {
          "output_type": "stream",
          "name": "stdout",
          "text": [
            "Saving iris.csv to iris (4).csv\n"
          ]
        }
      ]
    },
    {
      "cell_type": "markdown",
      "metadata": {
        "id": "i2KaMd3xxfVK"
      },
      "source": [
        "Explore the Dataset"
      ]
    },
    {
      "cell_type": "code",
      "metadata": {
        "id": "MReMSexyoXj4",
        "colab": {
          "base_uri": "https://localhost:8080/",
          "height": 424
        },
        "outputId": "79d643c4-8985-4796-a77d-a199e32c7367"
      },
      "source": [
        "df = pd.read_csv('iris.csv')\n",
        "df = df.drop(columns='Id')\n",
        "df"
      ],
      "execution_count": 156,
      "outputs": [
        {
          "output_type": "execute_result",
          "data": {
            "text/html": [
              "\n",
              "  <div id=\"df-a02fbcff-5012-4b88-8ae4-366757783428\">\n",
              "    <div class=\"colab-df-container\">\n",
              "      <div>\n",
              "<style scoped>\n",
              "    .dataframe tbody tr th:only-of-type {\n",
              "        vertical-align: middle;\n",
              "    }\n",
              "\n",
              "    .dataframe tbody tr th {\n",
              "        vertical-align: top;\n",
              "    }\n",
              "\n",
              "    .dataframe thead th {\n",
              "        text-align: right;\n",
              "    }\n",
              "</style>\n",
              "<table border=\"1\" class=\"dataframe\">\n",
              "  <thead>\n",
              "    <tr style=\"text-align: right;\">\n",
              "      <th></th>\n",
              "      <th>SepalLengthCm</th>\n",
              "      <th>SepalWidthCm</th>\n",
              "      <th>PetalLengthCm</th>\n",
              "      <th>PetalWidthCm</th>\n",
              "      <th>Species</th>\n",
              "    </tr>\n",
              "  </thead>\n",
              "  <tbody>\n",
              "    <tr>\n",
              "      <th>0</th>\n",
              "      <td>5.1</td>\n",
              "      <td>3.5</td>\n",
              "      <td>1.4</td>\n",
              "      <td>0.2</td>\n",
              "      <td>Iris-setosa</td>\n",
              "    </tr>\n",
              "    <tr>\n",
              "      <th>1</th>\n",
              "      <td>4.9</td>\n",
              "      <td>3.0</td>\n",
              "      <td>1.4</td>\n",
              "      <td>0.2</td>\n",
              "      <td>Iris-setosa</td>\n",
              "    </tr>\n",
              "    <tr>\n",
              "      <th>2</th>\n",
              "      <td>4.7</td>\n",
              "      <td>3.2</td>\n",
              "      <td>1.3</td>\n",
              "      <td>0.2</td>\n",
              "      <td>Iris-setosa</td>\n",
              "    </tr>\n",
              "    <tr>\n",
              "      <th>3</th>\n",
              "      <td>4.6</td>\n",
              "      <td>3.1</td>\n",
              "      <td>1.5</td>\n",
              "      <td>0.2</td>\n",
              "      <td>Iris-setosa</td>\n",
              "    </tr>\n",
              "    <tr>\n",
              "      <th>4</th>\n",
              "      <td>5.0</td>\n",
              "      <td>3.6</td>\n",
              "      <td>1.4</td>\n",
              "      <td>0.2</td>\n",
              "      <td>Iris-setosa</td>\n",
              "    </tr>\n",
              "    <tr>\n",
              "      <th>...</th>\n",
              "      <td>...</td>\n",
              "      <td>...</td>\n",
              "      <td>...</td>\n",
              "      <td>...</td>\n",
              "      <td>...</td>\n",
              "    </tr>\n",
              "    <tr>\n",
              "      <th>145</th>\n",
              "      <td>6.7</td>\n",
              "      <td>3.0</td>\n",
              "      <td>5.2</td>\n",
              "      <td>2.3</td>\n",
              "      <td>Iris-virginica</td>\n",
              "    </tr>\n",
              "    <tr>\n",
              "      <th>146</th>\n",
              "      <td>6.3</td>\n",
              "      <td>2.5</td>\n",
              "      <td>5.0</td>\n",
              "      <td>1.9</td>\n",
              "      <td>Iris-virginica</td>\n",
              "    </tr>\n",
              "    <tr>\n",
              "      <th>147</th>\n",
              "      <td>6.5</td>\n",
              "      <td>3.0</td>\n",
              "      <td>5.2</td>\n",
              "      <td>2.0</td>\n",
              "      <td>Iris-virginica</td>\n",
              "    </tr>\n",
              "    <tr>\n",
              "      <th>148</th>\n",
              "      <td>6.2</td>\n",
              "      <td>3.4</td>\n",
              "      <td>5.4</td>\n",
              "      <td>2.3</td>\n",
              "      <td>Iris-virginica</td>\n",
              "    </tr>\n",
              "    <tr>\n",
              "      <th>149</th>\n",
              "      <td>5.9</td>\n",
              "      <td>3.0</td>\n",
              "      <td>5.1</td>\n",
              "      <td>1.8</td>\n",
              "      <td>Iris-virginica</td>\n",
              "    </tr>\n",
              "  </tbody>\n",
              "</table>\n",
              "<p>150 rows × 5 columns</p>\n",
              "</div>\n",
              "      <button class=\"colab-df-convert\" onclick=\"convertToInteractive('df-a02fbcff-5012-4b88-8ae4-366757783428')\"\n",
              "              title=\"Convert this dataframe to an interactive table.\"\n",
              "              style=\"display:none;\">\n",
              "        \n",
              "  <svg xmlns=\"http://www.w3.org/2000/svg\" height=\"24px\"viewBox=\"0 0 24 24\"\n",
              "       width=\"24px\">\n",
              "    <path d=\"M0 0h24v24H0V0z\" fill=\"none\"/>\n",
              "    <path d=\"M18.56 5.44l.94 2.06.94-2.06 2.06-.94-2.06-.94-.94-2.06-.94 2.06-2.06.94zm-11 1L8.5 8.5l.94-2.06 2.06-.94-2.06-.94L8.5 2.5l-.94 2.06-2.06.94zm10 10l.94 2.06.94-2.06 2.06-.94-2.06-.94-.94-2.06-.94 2.06-2.06.94z\"/><path d=\"M17.41 7.96l-1.37-1.37c-.4-.4-.92-.59-1.43-.59-.52 0-1.04.2-1.43.59L10.3 9.45l-7.72 7.72c-.78.78-.78 2.05 0 2.83L4 21.41c.39.39.9.59 1.41.59.51 0 1.02-.2 1.41-.59l7.78-7.78 2.81-2.81c.8-.78.8-2.07 0-2.86zM5.41 20L4 18.59l7.72-7.72 1.47 1.35L5.41 20z\"/>\n",
              "  </svg>\n",
              "      </button>\n",
              "      \n",
              "  <style>\n",
              "    .colab-df-container {\n",
              "      display:flex;\n",
              "      flex-wrap:wrap;\n",
              "      gap: 12px;\n",
              "    }\n",
              "\n",
              "    .colab-df-convert {\n",
              "      background-color: #E8F0FE;\n",
              "      border: none;\n",
              "      border-radius: 50%;\n",
              "      cursor: pointer;\n",
              "      display: none;\n",
              "      fill: #1967D2;\n",
              "      height: 32px;\n",
              "      padding: 0 0 0 0;\n",
              "      width: 32px;\n",
              "    }\n",
              "\n",
              "    .colab-df-convert:hover {\n",
              "      background-color: #E2EBFA;\n",
              "      box-shadow: 0px 1px 2px rgba(60, 64, 67, 0.3), 0px 1px 3px 1px rgba(60, 64, 67, 0.15);\n",
              "      fill: #174EA6;\n",
              "    }\n",
              "\n",
              "    [theme=dark] .colab-df-convert {\n",
              "      background-color: #3B4455;\n",
              "      fill: #D2E3FC;\n",
              "    }\n",
              "\n",
              "    [theme=dark] .colab-df-convert:hover {\n",
              "      background-color: #434B5C;\n",
              "      box-shadow: 0px 1px 3px 1px rgba(0, 0, 0, 0.15);\n",
              "      filter: drop-shadow(0px 1px 2px rgba(0, 0, 0, 0.3));\n",
              "      fill: #FFFFFF;\n",
              "    }\n",
              "  </style>\n",
              "\n",
              "      <script>\n",
              "        const buttonEl =\n",
              "          document.querySelector('#df-a02fbcff-5012-4b88-8ae4-366757783428 button.colab-df-convert');\n",
              "        buttonEl.style.display =\n",
              "          google.colab.kernel.accessAllowed ? 'block' : 'none';\n",
              "\n",
              "        async function convertToInteractive(key) {\n",
              "          const element = document.querySelector('#df-a02fbcff-5012-4b88-8ae4-366757783428');\n",
              "          const dataTable =\n",
              "            await google.colab.kernel.invokeFunction('convertToInteractive',\n",
              "                                                     [key], {});\n",
              "          if (!dataTable) return;\n",
              "\n",
              "          const docLinkHtml = 'Like what you see? Visit the ' +\n",
              "            '<a target=\"_blank\" href=https://colab.research.google.com/notebooks/data_table.ipynb>data table notebook</a>'\n",
              "            + ' to learn more about interactive tables.';\n",
              "          element.innerHTML = '';\n",
              "          dataTable['output_type'] = 'display_data';\n",
              "          await google.colab.output.renderOutput(dataTable, element);\n",
              "          const docLink = document.createElement('div');\n",
              "          docLink.innerHTML = docLinkHtml;\n",
              "          element.appendChild(docLink);\n",
              "        }\n",
              "      </script>\n",
              "    </div>\n",
              "  </div>\n",
              "  "
            ],
            "text/plain": [
              "     SepalLengthCm  SepalWidthCm  PetalLengthCm  PetalWidthCm         Species\n",
              "0              5.1           3.5            1.4           0.2     Iris-setosa\n",
              "1              4.9           3.0            1.4           0.2     Iris-setosa\n",
              "2              4.7           3.2            1.3           0.2     Iris-setosa\n",
              "3              4.6           3.1            1.5           0.2     Iris-setosa\n",
              "4              5.0           3.6            1.4           0.2     Iris-setosa\n",
              "..             ...           ...            ...           ...             ...\n",
              "145            6.7           3.0            5.2           2.3  Iris-virginica\n",
              "146            6.3           2.5            5.0           1.9  Iris-virginica\n",
              "147            6.5           3.0            5.2           2.0  Iris-virginica\n",
              "148            6.2           3.4            5.4           2.3  Iris-virginica\n",
              "149            5.9           3.0            5.1           1.8  Iris-virginica\n",
              "\n",
              "[150 rows x 5 columns]"
            ]
          },
          "metadata": {},
          "execution_count": 156
        }
      ]
    },
    {
      "cell_type": "markdown",
      "metadata": {
        "id": "lI5ikdtwXICl"
      },
      "source": [
        "As you can see above, the last column consists of strings as classes. These need to be converted into appropriate numerical classes. For this, you can use the Label encoder module provided by scikit-learn.  "
      ]
    },
    {
      "cell_type": "code",
      "metadata": {
        "id": "3k-c7xhfpErX",
        "colab": {
          "base_uri": "https://localhost:8080/",
          "height": 424
        },
        "outputId": "0f0654ef-462c-4491-bba2-4a54ba70801a"
      },
      "source": [
        "le = preprocessing.LabelEncoder()\n",
        "orig_species = df['Species']\n",
        "le.fit(df['Species'])\n",
        "df['Species']=le.transform(df['Species'])\n",
        "df"
      ],
      "execution_count": 157,
      "outputs": [
        {
          "output_type": "execute_result",
          "data": {
            "text/html": [
              "\n",
              "  <div id=\"df-f85f4ada-64cb-4adc-8972-4cbd1487f262\">\n",
              "    <div class=\"colab-df-container\">\n",
              "      <div>\n",
              "<style scoped>\n",
              "    .dataframe tbody tr th:only-of-type {\n",
              "        vertical-align: middle;\n",
              "    }\n",
              "\n",
              "    .dataframe tbody tr th {\n",
              "        vertical-align: top;\n",
              "    }\n",
              "\n",
              "    .dataframe thead th {\n",
              "        text-align: right;\n",
              "    }\n",
              "</style>\n",
              "<table border=\"1\" class=\"dataframe\">\n",
              "  <thead>\n",
              "    <tr style=\"text-align: right;\">\n",
              "      <th></th>\n",
              "      <th>SepalLengthCm</th>\n",
              "      <th>SepalWidthCm</th>\n",
              "      <th>PetalLengthCm</th>\n",
              "      <th>PetalWidthCm</th>\n",
              "      <th>Species</th>\n",
              "    </tr>\n",
              "  </thead>\n",
              "  <tbody>\n",
              "    <tr>\n",
              "      <th>0</th>\n",
              "      <td>5.1</td>\n",
              "      <td>3.5</td>\n",
              "      <td>1.4</td>\n",
              "      <td>0.2</td>\n",
              "      <td>0</td>\n",
              "    </tr>\n",
              "    <tr>\n",
              "      <th>1</th>\n",
              "      <td>4.9</td>\n",
              "      <td>3.0</td>\n",
              "      <td>1.4</td>\n",
              "      <td>0.2</td>\n",
              "      <td>0</td>\n",
              "    </tr>\n",
              "    <tr>\n",
              "      <th>2</th>\n",
              "      <td>4.7</td>\n",
              "      <td>3.2</td>\n",
              "      <td>1.3</td>\n",
              "      <td>0.2</td>\n",
              "      <td>0</td>\n",
              "    </tr>\n",
              "    <tr>\n",
              "      <th>3</th>\n",
              "      <td>4.6</td>\n",
              "      <td>3.1</td>\n",
              "      <td>1.5</td>\n",
              "      <td>0.2</td>\n",
              "      <td>0</td>\n",
              "    </tr>\n",
              "    <tr>\n",
              "      <th>4</th>\n",
              "      <td>5.0</td>\n",
              "      <td>3.6</td>\n",
              "      <td>1.4</td>\n",
              "      <td>0.2</td>\n",
              "      <td>0</td>\n",
              "    </tr>\n",
              "    <tr>\n",
              "      <th>...</th>\n",
              "      <td>...</td>\n",
              "      <td>...</td>\n",
              "      <td>...</td>\n",
              "      <td>...</td>\n",
              "      <td>...</td>\n",
              "    </tr>\n",
              "    <tr>\n",
              "      <th>145</th>\n",
              "      <td>6.7</td>\n",
              "      <td>3.0</td>\n",
              "      <td>5.2</td>\n",
              "      <td>2.3</td>\n",
              "      <td>2</td>\n",
              "    </tr>\n",
              "    <tr>\n",
              "      <th>146</th>\n",
              "      <td>6.3</td>\n",
              "      <td>2.5</td>\n",
              "      <td>5.0</td>\n",
              "      <td>1.9</td>\n",
              "      <td>2</td>\n",
              "    </tr>\n",
              "    <tr>\n",
              "      <th>147</th>\n",
              "      <td>6.5</td>\n",
              "      <td>3.0</td>\n",
              "      <td>5.2</td>\n",
              "      <td>2.0</td>\n",
              "      <td>2</td>\n",
              "    </tr>\n",
              "    <tr>\n",
              "      <th>148</th>\n",
              "      <td>6.2</td>\n",
              "      <td>3.4</td>\n",
              "      <td>5.4</td>\n",
              "      <td>2.3</td>\n",
              "      <td>2</td>\n",
              "    </tr>\n",
              "    <tr>\n",
              "      <th>149</th>\n",
              "      <td>5.9</td>\n",
              "      <td>3.0</td>\n",
              "      <td>5.1</td>\n",
              "      <td>1.8</td>\n",
              "      <td>2</td>\n",
              "    </tr>\n",
              "  </tbody>\n",
              "</table>\n",
              "<p>150 rows × 5 columns</p>\n",
              "</div>\n",
              "      <button class=\"colab-df-convert\" onclick=\"convertToInteractive('df-f85f4ada-64cb-4adc-8972-4cbd1487f262')\"\n",
              "              title=\"Convert this dataframe to an interactive table.\"\n",
              "              style=\"display:none;\">\n",
              "        \n",
              "  <svg xmlns=\"http://www.w3.org/2000/svg\" height=\"24px\"viewBox=\"0 0 24 24\"\n",
              "       width=\"24px\">\n",
              "    <path d=\"M0 0h24v24H0V0z\" fill=\"none\"/>\n",
              "    <path d=\"M18.56 5.44l.94 2.06.94-2.06 2.06-.94-2.06-.94-.94-2.06-.94 2.06-2.06.94zm-11 1L8.5 8.5l.94-2.06 2.06-.94-2.06-.94L8.5 2.5l-.94 2.06-2.06.94zm10 10l.94 2.06.94-2.06 2.06-.94-2.06-.94-.94-2.06-.94 2.06-2.06.94z\"/><path d=\"M17.41 7.96l-1.37-1.37c-.4-.4-.92-.59-1.43-.59-.52 0-1.04.2-1.43.59L10.3 9.45l-7.72 7.72c-.78.78-.78 2.05 0 2.83L4 21.41c.39.39.9.59 1.41.59.51 0 1.02-.2 1.41-.59l7.78-7.78 2.81-2.81c.8-.78.8-2.07 0-2.86zM5.41 20L4 18.59l7.72-7.72 1.47 1.35L5.41 20z\"/>\n",
              "  </svg>\n",
              "      </button>\n",
              "      \n",
              "  <style>\n",
              "    .colab-df-container {\n",
              "      display:flex;\n",
              "      flex-wrap:wrap;\n",
              "      gap: 12px;\n",
              "    }\n",
              "\n",
              "    .colab-df-convert {\n",
              "      background-color: #E8F0FE;\n",
              "      border: none;\n",
              "      border-radius: 50%;\n",
              "      cursor: pointer;\n",
              "      display: none;\n",
              "      fill: #1967D2;\n",
              "      height: 32px;\n",
              "      padding: 0 0 0 0;\n",
              "      width: 32px;\n",
              "    }\n",
              "\n",
              "    .colab-df-convert:hover {\n",
              "      background-color: #E2EBFA;\n",
              "      box-shadow: 0px 1px 2px rgba(60, 64, 67, 0.3), 0px 1px 3px 1px rgba(60, 64, 67, 0.15);\n",
              "      fill: #174EA6;\n",
              "    }\n",
              "\n",
              "    [theme=dark] .colab-df-convert {\n",
              "      background-color: #3B4455;\n",
              "      fill: #D2E3FC;\n",
              "    }\n",
              "\n",
              "    [theme=dark] .colab-df-convert:hover {\n",
              "      background-color: #434B5C;\n",
              "      box-shadow: 0px 1px 3px 1px rgba(0, 0, 0, 0.15);\n",
              "      filter: drop-shadow(0px 1px 2px rgba(0, 0, 0, 0.3));\n",
              "      fill: #FFFFFF;\n",
              "    }\n",
              "  </style>\n",
              "\n",
              "      <script>\n",
              "        const buttonEl =\n",
              "          document.querySelector('#df-f85f4ada-64cb-4adc-8972-4cbd1487f262 button.colab-df-convert');\n",
              "        buttonEl.style.display =\n",
              "          google.colab.kernel.accessAllowed ? 'block' : 'none';\n",
              "\n",
              "        async function convertToInteractive(key) {\n",
              "          const element = document.querySelector('#df-f85f4ada-64cb-4adc-8972-4cbd1487f262');\n",
              "          const dataTable =\n",
              "            await google.colab.kernel.invokeFunction('convertToInteractive',\n",
              "                                                     [key], {});\n",
              "          if (!dataTable) return;\n",
              "\n",
              "          const docLinkHtml = 'Like what you see? Visit the ' +\n",
              "            '<a target=\"_blank\" href=https://colab.research.google.com/notebooks/data_table.ipynb>data table notebook</a>'\n",
              "            + ' to learn more about interactive tables.';\n",
              "          element.innerHTML = '';\n",
              "          dataTable['output_type'] = 'display_data';\n",
              "          await google.colab.output.renderOutput(dataTable, element);\n",
              "          const docLink = document.createElement('div');\n",
              "          docLink.innerHTML = docLinkHtml;\n",
              "          element.appendChild(docLink);\n",
              "        }\n",
              "      </script>\n",
              "    </div>\n",
              "  </div>\n",
              "  "
            ],
            "text/plain": [
              "     SepalLengthCm  SepalWidthCm  PetalLengthCm  PetalWidthCm  Species\n",
              "0              5.1           3.5            1.4           0.2        0\n",
              "1              4.9           3.0            1.4           0.2        0\n",
              "2              4.7           3.2            1.3           0.2        0\n",
              "3              4.6           3.1            1.5           0.2        0\n",
              "4              5.0           3.6            1.4           0.2        0\n",
              "..             ...           ...            ...           ...      ...\n",
              "145            6.7           3.0            5.2           2.3        2\n",
              "146            6.3           2.5            5.0           1.9        2\n",
              "147            6.5           3.0            5.2           2.0        2\n",
              "148            6.2           3.4            5.4           2.3        2\n",
              "149            5.9           3.0            5.1           1.8        2\n",
              "\n",
              "[150 rows x 5 columns]"
            ]
          },
          "metadata": {},
          "execution_count": 157
        }
      ]
    },
    {
      "cell_type": "code",
      "metadata": {
        "id": "dWnZ-aQxUHmO"
      },
      "source": [
        "X = np.array(df[['SepalLengthCm','SepalWidthCm','PetalLengthCm','PetalWidthCm']])\n",
        "y = np.array(df['Species'])\n",
        "X_train, X_test, y_train, y_test = train_test_split(X, y, test_size=0.33, random_state=17)"
      ],
      "execution_count": 158,
      "outputs": []
    },
    {
      "cell_type": "code",
      "metadata": {
        "id": "HczF_VrRpLGH",
        "colab": {
          "base_uri": "https://localhost:8080/"
        },
        "outputId": "45cf81df-83df-4b24-f511-b9727853ddad"
      },
      "source": [
        "# Making our predictions\n",
        "predictions = k_nearest_neighbor(X_train, y_train, X_test, 7)\n",
        "\n",
        "# evaluating accuracy\n",
        "accuracy = accuracy_score(y_test, predictions)\n",
        "print(\"The accuracy of our classifier is {} %\".format(100*accuracy))"
      ],
      "execution_count": 159,
      "outputs": [
        {
          "output_type": "stream",
          "name": "stdout",
          "text": [
            "The accuracy of our classifier is 94.0 %\n"
          ]
        }
      ]
    },
    {
      "cell_type": "markdown",
      "metadata": {
        "id": "iwQ3qP-UXY5x"
      },
      "source": [
        "Voila! You have implemented your own version of the K-Nearest Neighbours algorithm, which works very well on the Iris Dataset. Congratulations!  \n",
        "\n",
        "Now try out the sklearn implementation and compare your results.  "
      ]
    },
    {
      "cell_type": "code",
      "metadata": {
        "colab": {
          "base_uri": "https://localhost:8080/"
        },
        "id": "c0jJj5_7dg-o",
        "outputId": "bf37f29e-3449-4ae1-f07d-0adb84979666"
      },
      "source": [
        "from sklearn.neighbors import KNeighborsClassifier\n",
        "\n",
        "sklearn_knn = KNeighborsClassifier(n_neighbors=7)\n",
        "sklearn_knn.fit(X_train,y_train)\n",
        "sklearn_predictions = sklearn_knn.predict(X_test)\n",
        "accuracy = accuracy_score(y_test, sklearn_predictions)\n",
        "print(\"The accuracy of Sklearn classifier is {} %\".format(100*accuracy))"
      ],
      "execution_count": 160,
      "outputs": [
        {
          "output_type": "stream",
          "name": "stdout",
          "text": [
            "The accuracy of Sklearn classifier is 94.0 %\n"
          ]
        }
      ]
    },
    {
      "cell_type": "code",
      "metadata": {
        "id": "2hXZP4wXqtmK",
        "outputId": "0931b269-32f5-4957-ebc3-450482b5ecf9",
        "colab": {
          "base_uri": "https://localhost:8080/"
        }
      },
      "source": [
        "## TASK-1\n",
        "## Modify the KNN function you wrote to return all the K-nearest neighbours along with their distances,\n",
        "## instead of just the output that was most common. You don't need to find out accuracy, just modify the function\n",
        "## and return the k-nearest neighbours and distances.\n",
        "\n",
        "\n",
        "## This code returns all the neighbours for the test dataset (50) with their distances in ascending order.\n",
        "def dis(X_train, y_train, X_test, k):\n",
        "    distances = []\n",
        "    targets = []\n",
        "    arr = [[0]*2]*1\n",
        "    for i in range(len(X_train)):\n",
        "        # compute and store L2 distance\n",
        "        distances.append([np.sqrt(np.sum(np.square(X_test - X_train[i, :]))), i])\n",
        "\n",
        "    distances = sorted(distances)\n",
        "\n",
        "    for i in range(k):\n",
        "        index = distances[i][1]\n",
        "        targets.append(y_train[index])\n",
        "    # return most common target\n",
        "    arr[0][0]= distances\n",
        "    arr[0][1]= index\n",
        "    return arr\n",
        "\n",
        "def knn(X_train, y_train, X_test, k):\n",
        "    assert k <= len(X_train), \"[!] K cannot be larger than number of samples.\"\n",
        "    predictions = []\n",
        "    for i in range(len(X_test)):\n",
        "        predictions.append(dis(X_train, y_train, X_test[i,:], k))\n",
        "    return np.asarray(predictions)\n",
        "\n",
        "\n",
        "# Making our predictions\n",
        "predictions = knn(X_train, y_train, X_test, 7)\n",
        "print(predictions)\n"
      ],
      "execution_count": 151,
      "outputs": [
        {
          "output_type": "stream",
          "name": "stdout",
          "text": [
            "[[[list([[0.3464101615137753, 87], [0.3872983346207418, 28], [0.41231056256176646, 36], [0.4582575694955838, 44], [0.45825756949558394, 80], [0.46904157598234253, 18], [0.47958315233127247, 22], [0.519615242270663, 15], [0.5196152422706635, 89], [0.529150262212918, 72], [0.5385164807134504, 94], [0.5477225575051663, 10], [0.5744562646538031, 9], [0.6164414002968979, 46], [0.6480740698407863, 92], [0.6708203932499369, 47], [0.670820393249937, 21], [0.678232998312527, 77], [0.7000000000000002, 91], [0.7071067811865477, 60], [0.7549834435270752, 68], [0.8366600265340756, 41], [0.9273618495495709, 95], [0.9539392014169462, 84], [1.0049875621120892, 17], [1.0099504938362076, 78], [1.0488088481701516, 33], [1.0535653752852738, 12], [1.0630145812734653, 82], [1.086278049120022, 27], [1.0908712114635717, 24], [1.1269427669584646, 35], [1.1661903789690604, 32], [1.236931687685298, 5], [1.4317821063276353, 66], [1.4662878298615183, 74], [1.8384776310850237, 88], [2.619160170741759, 96], [2.6419689627245813, 56], [2.6608269391300143, 43], [2.6720778431774774, 49], [2.9949958263743874, 67], [2.9999999999999996, 2], [3.039736830714132, 29], [3.082207001484488, 52], [3.2680269276736387, 79], [3.2710854467592254, 4], [3.3015148038438356, 19], [3.4365680554879168, 55], [3.4568772034887214, 45], [3.59722114972099, 23], [3.59722114972099, 65], [3.6318039594669753, 59], [3.7134889255254286, 63], [3.7483329627982624, 85], [3.760319135392633, 1], [3.7603191353926335, 71], [3.7643060449437424, 73], [3.81051177665153, 76], [3.8704004960727256, 93], [3.9217343102255153, 83], [3.9509492530276824, 69], [4.052159917870962, 48], [4.095119045888654, 75], [4.115823125451336, 50], [4.130375285612677, 6], [4.1436698710201325, 58], [4.2047592083257275, 70], [4.228474902373195, 3], [4.260281680828159, 13], [4.27668095606862, 7], [4.325505750776434, 57], [4.448595283907045, 25], [4.450842616853577, 42], [4.548626166217663, 99], [4.57602447545902, 37], [4.5934736311423405, 40], [4.608687448721165, 16], [4.616275555033517, 0], [4.6551047249229525, 97], [4.718050444834179, 51], [4.752893855326459, 81], [4.852834223420372, 34], [4.856953777832357, 54], [4.929503017546495, 38], [4.98196748283246, 30], [5.050742519669757, 8], [5.070502933634888, 39], [5.073460357586328, 90], [5.085272854036448, 14], [5.2172789842982334, 98], [5.267826876426369, 26], [5.522680508593631, 11], [5.547972602672078, 20], [5.618718715152059, 61], [5.722761571129799, 62], [5.901694671871801, 86], [6.052272300549604, 31], [6.182232606429493, 64], [6.476881965884511, 53]])\n",
            "   22]]\n",
            "\n",
            " [[list([[0.19999999999999973, 59], [0.24494897427831785, 85], [0.33166247903553975, 79], [0.4358898943540673, 83], [0.48989794855663593, 55], [0.5000000000000004, 65], [0.5196152422706631, 76], [0.5477225575051661, 73], [0.574456264653803, 4], [0.6082762530298225, 52], [0.6164414002968976, 58], [0.6403124237432845, 1], [0.6403124237432845, 70], [0.640312423743285, 50], [0.6633249580710799, 45], [0.7071067811865475, 63], [0.7280109889280516, 93], [0.7280109889280518, 2], [0.7416198487095664, 23], [0.7615773105863912, 75], [0.774596669241483, 7], [0.8124038404635958, 57], [0.8602325267042624, 13], [0.8660254037844384, 48], [0.888819441731559, 3], [0.9949874371066197, 19], [0.9999999999999999, 99], [1.0, 25], [1.004987562112089, 49], [1.0049875621120894, 6], [1.0246950765959597, 29], [1.0677078252031311, 69], [1.1045361017187258, 42], [1.1357816691600549, 16], [1.1489125293076055, 97], [1.1789826122551592, 51], [1.1874342087037915, 71], [1.1958260743101397, 56], [1.236931687685298, 40], [1.3190905958272918, 54], [1.319090595827292, 0], [1.3601470508735443, 37], [1.42126704035519, 81], [1.5362291495737213, 34], [1.5588457268119895, 14], [1.5620499351813308, 8], [1.5652475842498532, 38], [1.5968719422671311, 30], [1.726267650163207, 39], [1.7464249196572983, 43], [1.74928556845359, 67], [1.7748239349298847, 96], [1.7748239349298849, 90], [1.824828759089466, 98], [1.881488772222678, 26], [2.1656407827707715, 11], [2.240535650240808, 61], [2.3430749027719964, 20], [2.4698178070456938, 62], [2.709243436828813, 31], [2.8266588050205144, 64], [2.877498913987632, 86], [3.0626785662227114, 53], [3.096772513440405, 77], [3.1843366656181313, 47], [3.184336665618132, 17], [3.190611226708763, 15], [3.2526911934581184, 21], [3.2893768406797053, 94], [3.2969683043669074, 60], [3.3331666624997918, 33], [3.402939905434711, 82], [3.414674215792775, 36], [3.4190641994557516, 72], [3.4190641994557516, 87], [3.423448553724738, 22], [3.427827300200522, 92], [3.455430508634199, 91], [3.4957116585897072, 89], [3.529872518944558, 68], [3.5355339059327378, 24], [3.5383612025908264, 12], [3.5411862419251547, 44], [3.5425979167836705, 46], [3.5623026261113755, 32], [3.5763109484495335, 10], [3.6083237105337433, 35], [3.6110940170535573, 80], [3.6110940170535577, 9], [3.638681079732051, 28], [3.641428291206625, 84], [3.6537651812890224, 27], [3.6972963094672298, 41], [3.702701716314724, 78], [3.71887079635741, 18], [3.722902093797257, 66], [3.78021163428716, 88], [3.8183766184073566, 5], [4.0484564959994325, 95], [4.052159917870962, 74]])\n",
            "   76]]\n",
            "\n",
            " [[list([[0.24494897427831822, 37], [0.3605551275463989, 25], [0.360555127546399, 81], [0.374165738677394, 40], [0.42426406871192807, 30], [0.5744562646538024, 54], [0.574456264653803, 39], [0.5916079783099613, 99], [0.6164414002968974, 38], [0.6324555320336758, 3], [0.6403124237432846, 8], [0.6633249580710797, 16], [0.6708203932499369, 0], [0.6999999999999998, 34], [0.7348469228349536, 98], [0.7615773105863906, 51], [0.7681145747868607, 58], [0.7810249675906656, 57], [0.8306623862918073, 26], [0.8831760866327845, 6], [0.92736184954957, 14], [0.9327379053088819, 42], [0.948683298050514, 83], [0.9949874371066199, 73], [1.0099504938362078, 48], [1.0344080432788603, 7], [1.0392304845413263, 70], [1.0392304845413267, 76], [1.0488088481701512, 90], [1.067707825203131, 50], [1.0908712114635715, 69], [1.1224972160321822, 65], [1.174734012447073, 1], [1.19582607431014, 75], [1.19582607431014, 85], [1.2083045973594568, 20], [1.208304597359457, 23], [1.2206555615733703, 97], [1.2247448713915887, 11], [1.2369316876852987, 59], [1.3453624047073707, 62], [1.345362404707371, 13], [1.3527749258468678, 61], [1.3820274961085255, 55], [1.4212670403551895, 93], [1.5099668870541498, 79], [1.5132745950421556, 63], [1.6763054614240203, 31], [1.8165902124584952, 4], [1.8384776310850235, 64], [1.8493242008906934, 52], [1.857417562100671, 45], [1.9000000000000001, 86], [1.949358868961793, 2], [2.012461179749811, 53], [2.0639767440550294, 19], [2.0832666655999654, 71], [2.186321110907545, 49], [2.2, 29], [2.3958297101421877, 56], [2.91032644217105, 67], [2.9461839725312475, 43], [2.9832867780352594, 96], [4.207136793592526, 77], [4.2296571965113205, 15], [4.302324952859791, 47], [4.357751713900186, 21], [4.36692111217961, 17], [4.376071297408213, 94], [4.4294469180700204, 60], [4.50111097397076, 33], [4.50111097397076, 46], [4.503332099679081, 87], [4.511097427455985, 36], [4.535416188179426, 22], [4.538722287164087, 72], [4.5628938186199335, 92], [4.581484475582124, 82], [4.598912915026768, 91], [4.609772228646444, 89], [4.616275555033517, 44], [4.661544808322666, 28], [4.672258554489466, 68], [4.689349635077342, 80], [4.695742752749559, 24], [4.699999999999999, 12], [4.701063709417263, 10], [4.71380949975707, 18], [4.727578661429125, 9], [4.7455242070818695, 32], [4.784349485562275, 35], [4.796873982084583, 84], [4.8270073544588685, 27], [4.831148931672464, 41], [4.864154602806124, 78], [4.914264950122246, 66], [4.953786430600334, 88], [4.994997497496871, 5], [5.1788029504896205, 95], [5.23545604508337, 74]])\n",
            "   39]]\n",
            "\n",
            " [[list([[0.17320508075688815, 4], [0.22360679774997935, 52], [0.26457513110645864, 2], [0.36055512754639923, 79], [0.42426406871192895, 45], [0.5196152422706629, 49], [0.556776436283002, 29], [0.6782329983125265, 59], [0.6999999999999996, 56], [0.7348469228349536, 85], [0.7348469228349537, 55], [0.741619848709566, 19], [0.8366600265340756, 63], [0.8999999999999999, 93], [0.9219544457292892, 65], [0.9327379053088817, 83], [0.9643650760992953, 76], [1.0246950765959597, 71], [1.0295630140987002, 73], [1.0344080432788596, 1], [1.0630145812734653, 50], [1.0677078252031318, 75], [1.0908712114635715, 70], [1.0908712114635717, 23], [1.1224972160321827, 58], [1.140175425099138, 13], [1.1747340124470729, 7], [1.2124355652982142, 43], [1.2369316876852978, 96], [1.2569805089976533, 67], [1.2727922061357855, 57], [1.3076696830622019, 48], [1.4177446878757827, 3], [1.486606874731851, 6], [1.489966442575134, 42], [1.489966442575134, 69], [1.5165750888103102, 99], [1.5427248620541516, 25], [1.5684387141358118, 97], [1.670329308849007, 16], [1.6941074346097416, 51], [1.7578395831246947, 40], [1.8165902124584954, 0], [1.8384776310850237, 54], [1.8788294228055935, 37], [1.9646882704388506, 81], [2.0445048300260873, 34], [2.0566963801203135, 14], [2.0928449536456353, 8], [2.109502310972899, 38], [2.1330729007701543, 30], [2.2715633383201097, 39], [2.2956480566497994, 90], [2.3685438564654024, 98], [2.4248711305964283, 26], [2.6476404589747453, 77], [2.6870057685088806, 17], [2.692582403567252, 11], [2.7239676943752467, 47], [2.7676705006196096, 61], [2.7784887978899606, 21], [2.785677655436823, 15], [2.8124722220850464, 60], [2.8266588050205135, 33], [2.8319604517012587, 94], [2.8861739379323623, 20], [2.891366458960192, 82], [2.947880594596735, 92], [2.951270912674741, 72], [2.9563490998188966, 36], [2.9698484809834995, 22], [2.9698484809834995, 91], [2.9782545223670858, 87], [3.0066592756745814, 62], [3.0232432915661946, 24], [3.0232432915661946, 89], [3.029851481508623, 12], [3.0397368307141326, 68], [3.0446674695276656, 32], [3.095157508108432, 35], [3.095157508108432, 44], [3.10322412983658, 10], [3.1336879231984796, 9], [3.1400636936215163, 84], [3.1416556144810017, 27], [3.1827660925679098, 46], [3.184336665618131, 80], [3.1937438845342623, 66], [3.1953090617340916, 78], [3.2046840717924128, 41], [3.24037034920393, 28], [3.24499614791759, 88], [3.246536616149585, 31], [3.3015148038438356, 5], [3.327160951922825, 18], [3.3541019662496847, 64], [3.408812109811863, 86], [3.5270384177096794, 74], [3.559494346111537, 95], [3.5888716889852725, 53]])\n",
            "   29]]\n",
            "\n",
            " [[list([[0.17320508075688762, 58], [0.2828427124746193, 83], [0.38729833462074154, 57], [0.4242640687119284, 70], [0.43588989435406755, 85], [0.44721359549995787, 50], [0.469041575982343, 76], [0.5000000000000003, 59], [0.5196152422706632, 7], [0.5567764362830021, 73], [0.5567764362830021, 99], [0.5744562646538031, 25], [0.5830951894845302, 3], [0.6164414002968979, 65], [0.6403124237432855, 75], [0.6782329983125266, 1], [0.7211102550927977, 48], [0.7280109889280517, 13], [0.7348469228349531, 93], [0.7416198487095663, 55], [0.7615773105863906, 79], [0.7810249675906654, 42], [0.7874007874011815, 16], [0.8124038404635958, 51], [0.812403840463596, 23], [0.8185352771872447, 63], [0.8246211251235325, 6], [0.8366600265340757, 40], [0.8774964387392121, 54], [0.9219544457292886, 97], [0.9591663046625439, 37], [0.9848857801796105, 69], [0.9848857801796107, 0], [0.9899494936611667, 4], [1.0148891565092224, 81], [1.0246950765959597, 45], [1.0677078252031316, 52], [1.1357816691600546, 8], [1.1575836902790224, 14], [1.1575836902790224, 30], [1.1575836902790226, 2], [1.1704699910719623, 34], [1.1832159566199234, 38], [1.296148139681572, 19], [1.3076696830622025, 39], [1.3711309200802086, 71], [1.407124727947029, 29], [1.4071247279470291, 98], [1.4352700094407325, 49], [1.4422205101855958, 90], [1.466287829861518, 26], [1.6186414056238645, 56], [1.772004514666935, 11], [1.8627936010197155, 61], [1.9544820285692064, 20], [2.056696380120313, 62], [2.1, 67], [2.1400934559032696, 43], [2.177154105707724, 96], [2.3086792761230384, 31], [2.428991560298224, 64], [2.5475478405714, 86], [2.636285265292814, 53], [3.5468295701936396, 77], [3.6207733980463344, 15], [3.6290494623248106, 47], [3.645545226711637, 17], [3.6891733491393435, 21], [3.7215588131856787, 94], [3.7416573867739413, 60], [3.778888725538237, 33], [3.8535697735995385, 82], [3.856163896931768, 36], [3.8600518131237567, 87], [3.8652296180175374, 72], [3.874274125562103, 22], [3.8755644750152203, 92], [3.905124837953327, 91], [3.9382737335030433, 89], [3.9572717874818757, 46], [3.9736632972611057, 44], [3.976179070414209, 24], [3.976179070414209, 68], [3.9812058474788765, 12], [4.012480529547776, 32], [4.024922359499622, 10], [4.053393639902248, 9], [4.05585995813465, 35], [4.058324777540605, 80], [4.070626487409524, 28], [4.090232267243512, 84], [4.1036569057366385, 27], [4.13763217311544, 18], [4.13763217311544, 41], [4.149698784249286, 78], [4.167733196834941, 66], [4.2, 88], [4.267317658670374, 5], [4.494441010848846, 95], [4.497777228809804, 74]])\n",
            "   76]]\n",
            "\n",
            " [[list([[0.14142135623730964, 83], [0.3605551275463989, 58], [0.42426406871192796, 70], [0.45825756949558405, 73], [0.4582575694955842, 85], [0.47958315233127147, 7], [0.5000000000000006, 59], [0.5385164807134505, 25], [0.5567764362830022, 57], [0.574456264653803, 75], [0.5916079783099615, 99], [0.6164414002968978, 50], [0.6164414002968981, 3], [0.6164414002968983, 65], [0.6164414002968983, 76], [0.6782329983125269, 16], [0.7280109889280515, 42], [0.7348469228349528, 51], [0.7348469228349533, 40], [0.7745966692414836, 1], [0.7874007874011811, 79], [0.8185352771872448, 0], [0.8366600265340759, 48], [0.8426149773176356, 54], [0.8426149773176365, 55], [0.8602325267042633, 6], [0.8660254037844384, 13], [0.8831760866327851, 23], [0.8999999999999995, 97], [0.9486832980505139, 93], [0.9695359714832661, 37], [0.9949874371066205, 81], [1.0148891565092222, 63], [1.0246950765959593, 34], [1.0246950765959602, 69], [1.0392304845413265, 4], [1.0630145812734646, 8], [1.0630145812734648, 45], [1.0677078252031316, 52], [1.0862780491200217, 38], [1.1045361017187258, 30], [1.1916375287812984, 14], [1.240967364599086, 2], [1.252996408614167, 39], [1.3341664064126333, 98], [1.3638181696985852, 71], [1.4352700094407325, 29], [1.4352700094407325, 90], [1.445683229480096, 26], [1.449137674618944, 19], [1.4832396974191329, 49], [1.7088007490635064, 56], [1.783255450012701, 11], [1.8466185312619385, 61], [1.8708286933869707, 20], [2.0615528128088303, 62], [2.193171219946131, 67], [2.213594362117866, 43], [2.23606797749979, 96], [2.2869193252058535, 31], [2.4248711305964283, 64], [2.4839484696748446, 86], [2.6400757564888173, 53], [3.54964786985977, 77], [3.645545226711637, 15], [3.6619666847201113, 17], [3.66742416417845, 47], [3.7134889255254286, 21], [3.7643060449437424, 94], [3.7709415269929605, 60], [3.8288379438153295, 33], [3.8742741255621036, 36], [3.8845849199110067, 22], [3.88587184554509, 87], [3.892300091205713, 82], [3.8961519477556315, 72], [3.908964057138413, 92], [3.9357337308308855, 91], [3.954743986657038, 46], [3.9686269665968865, 89], [4.013726448077896, 68], [4.016217125604641, 44], [4.023679907746143, 24], [4.031128874149275, 12], [4.047221268969612, 10], [4.047221268969612, 32], [4.058324777540605, 80], [4.075536774462967, 28], [4.0828911325187205, 9], [4.102438299353203, 35], [4.112177038990418, 84], [4.135214625627067, 27], [4.164132562731403, 18], [4.183300132670378, 41], [4.1856899072912706, 78], [4.208325082500163, 66], [4.2731721238443, 88], [4.295346318982906, 5], [4.514421336118285, 95], [4.535416188179426, 74]])\n",
            "   59]]\n",
            "\n",
            " [[list([[0.4898979485566356, 52], [0.509901951359278, 4], [0.519615242270663, 45], [0.58309518948453, 79], [0.7000000000000001, 75], [0.7071067811865476, 29], [0.7141428428542843, 59], [0.7348469228349531, 83], [0.7348469228349535, 71], [0.7416198487095657, 85], [0.8366600265340753, 2], [0.8774964387392117, 7], [0.9055385138137412, 70], [0.9486832980505135, 49], [0.9746794344808959, 73], [1.019803902718557, 65], [1.044030650891055, 55], [1.0723805294763604, 58], [1.1045361017187258, 50], [1.1180339887498945, 13], [1.1224972160321822, 76], [1.1313708498984758, 93], [1.1618950038622249, 63], [1.1704699910719623, 42], [1.2124355652982137, 57], [1.2247448713915885, 1], [1.2247448713915887, 19], [1.224744871391589, 56], [1.3114877048604, 23], [1.3674794331177336, 97], [1.3747727084867518, 99], [1.3964240043768938, 25], [1.4071247279470287, 3], [1.4491376746189435, 48], [1.4491376746189437, 16], [1.456021977856103, 51], [1.5, 0], [1.5165750888103104, 96], [1.5231546211727816, 40], [1.5297058540778357, 43], [1.5524174696260025, 67], [1.5556349186104046, 6], [1.6155494421403511, 54], [1.6278820596099703, 69], [1.7291616465790578, 34], [1.8055470085267786, 37], [1.8411952639521965, 8], [1.8520259177452136, 81], [1.8920887928424501, 38], [1.9287301521985907, 14], [1.9287301521985907, 30], [2.090454496036687, 39], [2.1447610589527217, 98], [2.2226110770892866, 90], [2.2825424421026654, 26], [2.5999999999999996, 11], [2.636285265292813, 61], [2.6758176320519302, 20], [2.913760456866693, 62], [2.9495762407505253, 77], [2.9949958263743874, 17], [3.099999999999999, 31], [3.10322412983658, 21], [3.1128764832546763, 47], [3.1527765540868895, 60], [3.1638584039112745, 15], [3.2031234756093934, 33], [3.2202484376209237, 94], [3.2280024783137944, 64], [3.2357379374726873, 82], [3.278719262151, 86], [3.2848135411313684, 36], [3.2908965343808667, 22], [3.3075670817082456, 92], [3.3136083051561784, 72], [3.3181320046074116, 91], [3.3436506994600976, 87], [3.3674916480965473, 32], [3.374907406137241, 89], [3.3778691508109078, 24], [3.398529093593286, 12], [3.398529093593286, 68], [3.438022687534217, 10], [3.4423828956117015, 53], [3.4423828956117015, 84], [3.453983207834109, 35], [3.4612136599753565, 27], [3.477067730142742, 9], [3.4914180500192185, 44], [3.4942810419312296, 80], [3.5014282800023193, 46], [3.508560958569767, 66], [3.5298725189445586, 78], [3.570714214271425, 28], [3.5749125863438955, 41], [3.6013886210738213, 5], [3.6027767069303644, 88], [3.7067505985701277, 18], [3.8379682124790975, 74], [3.865229618017538, 95]])\n",
            "   59]]\n",
            "\n",
            " [[list([[0.4123105625617661, 86], [0.818535277187245, 31], [0.860232526704263, 20], [1.0049875621120892, 62], [1.019803902718557, 64], [1.1357816691600549, 61], [1.22065556157337, 53], [1.240967364599086, 11], [1.284523257866513, 26], [1.349073756323204, 98], [1.4177446878757822, 39], [1.4352700094407325, 90], [1.503329637837291, 38], [1.655294535724685, 30], [1.682260384126072, 81], [1.7000000000000002, 8], [1.8357559750685823, 34], [1.9131126469708992, 14], [1.9235384061671348, 37], [1.944222209522358, 16], [1.977371993328519, 54], [2.004993765576342, 40], [2.027313493271329, 0], [2.034698994937581, 51], [2.090454496036687, 25], [2.186321110907545, 3], [2.20454076850486, 6], [2.2248595461286986, 99], [2.3430749027719964, 69], [2.418677324489565, 97], [2.4617067250182347, 48], [2.563201123595259, 58], [2.5632011235952596, 73], [2.5748786379167465, 57], [2.6495282598983545, 70], [2.6851443164195112, 42], [2.6907248094147427, 1], [2.7018512172212596, 83], [2.709243436828814, 76], [2.716615541441225, 50], [2.716615541441225, 65], [2.723967694375247, 23], [2.73313007374329, 7], [2.8301943396169813, 85], [2.8722813232690148, 59], [2.9478805945967355, 75], [2.971531591620725, 13], [3.01164406927512, 55], [3.1843366656181313, 93], [3.2109188716004646, 63], [3.2588341473600644, 79], [3.5454195802471675, 45], [3.552463933666323, 52], [3.5608987629529714, 4], [3.695943722515266, 2], [3.765634076752546, 19], [3.823610858861032, 71], [3.954743986657038, 49], [3.992492955535426, 29], [4.13763217311544, 56], [4.712748667179272, 67], [4.747630988187688, 43], [4.774934554525329, 96], [5.710516614107694, 15], [5.748043145279966, 77], [5.869412236331676, 47], [5.885575587824865, 46], [5.967411499134277, 17], [5.977457653551383, 94], [5.995831885568507, 21], [6.028266749240614, 87], [6.058052492344384, 60], [6.063827174318213, 22], [6.086871117413281, 36], [6.090155991434046, 28], [6.113918547053109, 72], [6.1473571557214735, 80], [6.156297588648554, 18], [6.159545437773797, 33], [6.161168720299746, 92], [6.171709649683789, 44], [6.20403094769844, 91], [6.208864630510155, 89], [6.237788069500278, 82], [6.278534860936905, 10], [6.295236294214857, 68], [6.336402764976356, 9], [6.369458375717672, 12], [6.383572667401853, 24], [6.414047084329831, 32], [6.439720490828776, 84], [6.445928947793329, 35], [6.473020933072903, 41], [6.485368146836385, 27], [6.520736154760443, 78], [6.6174013026262815, 66], [6.664082832618455, 5], [6.727555276621665, 88], [6.7926430790966785, 95], [6.926037828369117, 74]])\n",
            "   53]]\n",
            "\n",
            " [[list([[0.42426406871192857, 56], [0.447213595499958, 2], [0.529150262212918, 29], [0.5477225575051664, 4], [0.5830951894845299, 49], [0.5830951894845301, 19], [0.6403124237432855, 45], [0.7071067811865475, 52], [0.714142842854285, 67], [0.7211102550927979, 43], [0.7874007874011809, 96], [0.9165151389911683, 79], [1.02469507659596, 63], [1.0862780491200217, 93], [1.104536101718726, 71], [1.1618950038622253, 55], [1.2041594578792292, 59], [1.2288205727444508, 85], [1.374772708486752, 13], [1.4, 76], [1.4212670403551897, 50], [1.449137674618944, 83], [1.4491376746189444, 65], [1.4628738838327788, 1], [1.4798648586948744, 75], [1.5099668870541498, 70], [1.5427248620541516, 23], [1.5588457268119897, 58], [1.5842979517754858, 7], [1.584297951775486, 73], [1.6522711641858305, 57], [1.7146428199482244, 48], [1.8973665961010278, 3], [1.9052558883257649, 42], [1.9313207915827961, 97], [1.9467922333931786, 69], [1.9467922333931786, 99], [1.954482028569207, 6], [2.032240143290158, 25], [2.1494185260204675, 51], [2.1633307652783937, 16], [2.2671568097509267, 40], [2.2825424421026654, 54], [2.343074902771997, 0], [2.3622023622035435, 37], [2.4310491562286436, 17], [2.4372115213907883, 14], [2.4515301344262532, 81], [2.4939927826679855, 77], [2.4959967948697366, 47], [2.5019992006393608, 33], [2.559296778413945, 21], [2.563201123595259, 8], [2.563201123595259, 34], [2.565151067676132, 60], [2.5748786379167465, 82], [2.6057628441590763, 94], [2.619160170741759, 30], [2.6191601707417593, 38], [2.6551836094703507, 15], [2.692582403567252, 24], [2.694438717061496, 92], [2.7, 12], [2.711088342345192, 91], [2.7202941017470885, 32], [2.7202941017470885, 72], [2.7386127875258306, 90], [2.7586228448267445, 35], [2.7622454633866265, 68], [2.762245463386627, 36], [2.7658633371878665, 39], [2.787471972953271, 22], [2.787471972953271, 89], [2.7928480087537886, 87], [2.8106938645110393, 88], [2.8319604517012595, 27], [2.8337254630609507, 66], [2.8600699292150185, 98], [2.8653097563788807, 84], [2.874021572639983, 10], [2.875760768909681, 44], [2.8861739379323628, 26], [2.8879058156387303, 78], [2.8896366553599777, 9], [2.908607914449797, 41], [2.98496231131986, 5], [3.0446674695276656, 80], [3.1144823004794873, 11], [3.132091952673165, 28], [3.13368792319848, 46], [3.1764760348537178, 74], [3.196873472629156, 18], [3.198437118343895, 61], [3.3015148038438356, 95], [3.402939905434711, 20], [3.4539832078341086, 62], [3.689173349139343, 31], [3.770941526992961, 64], [3.910242959203431, 86], [3.9912404086950217, 53]])\n",
            "   45]]\n",
            "\n",
            " [[list([[0.26457513110645897, 7], [0.33166247903553986, 75], [0.5196152422706629, 42], [0.547722557505166, 70], [0.6082762530298217, 57], [0.648074069840786, 83], [0.6557438524302, 13], [0.6708203932499366, 58], [0.7874007874011808, 50], [0.7937253933193773, 99], [0.877496438739212, 85], [0.9165151389911679, 93], [0.94339811320566, 97], [0.9591663046625435, 51], [0.9643650760992953, 25], [0.9643650760992954, 59], [0.9746794344808962, 54], [0.9899494936611664, 71], [1.0246950765959597, 45], [1.067707825203131, 76], [1.0677078252031313, 16], [1.077032961426901, 40], [1.0862780491200215, 4], [1.0862780491200215, 79], [1.1180339887498945, 63], [1.1180339887498945, 73], [1.1445523142259597, 0], [1.1575836902790226, 3], [1.216552506059644, 65], [1.2489995996796799, 52], [1.2529964086141665, 8], [1.2727922061357853, 1], [1.2767145334803707, 55], [1.296148139681572, 14], [1.2999999999999996, 34], [1.3038404810405295, 48], [1.3638181696985856, 29], [1.3711309200802086, 30], [1.3784048752090223, 2], [1.3784048752090223, 37], [1.4035668847618203, 81], [1.4352700094407325, 6], [1.4422205101855958, 23], [1.4628738838327795, 38], [1.4764823060233399, 19], [1.5842979517754863, 39], [1.61245154965971, 98], [1.6186414056238645, 49], [1.6217274740226855, 69], [1.7406895185529208, 26], [1.8055470085267789, 56], [1.816590212458495, 90], [1.997498435543818, 67], [2.0493901531919194, 11], [2.102379604162864, 43], [2.109502310972898, 61], [2.130727575266252, 96], [2.2181073012818833, 20], [2.355843797877949, 62], [2.5357444666211926, 31], [2.6419689627245813, 64], [2.7766886753829643, 53], [2.9137604568666933, 86], [3.770941526992961, 77], [3.8039453203220472, 17], [3.874274125562103, 21], [3.8768543949960255, 47], [3.9268307832143723, 60], [3.933192087859427, 15], [3.9420806688854046, 33], [3.963584236521283, 94], [3.996248240537617, 82], [4.075536774462966, 36], [4.08166632639171, 92], [4.091454509095757, 72], [4.097560249709575, 91], [4.104875150354759, 22], [4.112177038990418, 24], [4.125530268947254, 87], [4.1303752856126765, 32], [4.134005321718878, 12], [4.148493702538308, 89], [4.162931659299729, 68], [4.198809355043403, 35], [4.22729227756965, 84], [4.230839160261236, 10], [4.230839160261236, 27], [4.2391036788453285, 44], [4.2485291572496005, 66], [4.249705872175156, 88], [4.250882261366456, 9], [4.291852746774987, 46], [4.291852746774987, 78], [4.319722213291035, 41], [4.32087954009366, 80], [4.371498598878879, 5], [4.3737855457258075, 28], [4.465422712353221, 18], [4.585847795119241, 74], [4.654030511288039, 95]])\n",
            "   13]]\n",
            "\n",
            " [[list([[0.24494897427831785, 30], [0.30000000000000016, 39], [0.31622776601683794, 98], [0.3999999999999999, 38], [0.43588989435406783, 34], [0.47958315233127174, 8], [0.5477225575051663, 40], [0.5744562646538027, 81], [0.6244997998398398, 0], [0.6708203932499366, 26], [0.6928203230275515, 37], [0.7071067811865474, 20], [0.714142842854285, 54], [0.7937253933193772, 25], [0.8124038404635959, 16], [0.9055385138137418, 51], [0.9848857801796104, 99], [1.067707825203131, 14], [1.0770329614269007, 90], [1.104536101718726, 3], [1.1224972160321822, 11], [1.1357816691600546, 62], [1.1704699910719623, 61], [1.1958260743101403, 42], [1.284523257866513, 58], [1.2845232578665131, 57], [1.3114877048604001, 6], [1.3674794331177336, 31], [1.371130920080209, 83], [1.3747727084867523, 7], [1.4035668847618201, 73], [1.4212670403551897, 70], [1.4387494569938162, 97], [1.5099668870541503, 48], [1.5198684153570663, 69], [1.5329709716755893, 75], [1.5588457268119897, 86], [1.5620499351813306, 50], [1.5811388300841898, 64], [1.58113883008419, 76], [1.5937377450509227, 65], [1.6522711641858308, 85], [1.679285562374667, 1], [1.6941074346097422, 59], [1.7146428199482244, 23], [1.7233687939614086, 53], [1.786057109949175, 13], [1.9104973174542803, 55], [1.9748417658131499, 93], [1.9949937343260002, 79], [2.071231517720798, 63], [2.293468988235943, 4], [2.3021728866442683, 52], [2.3043437243605824, 45], [2.4413111231467406, 71], [2.469817807045694, 2], [2.615339366124404, 19], [2.6570660511172846, 29], [2.6870057685088806, 49], [2.929163703175362, 56], [3.416138170507745, 67], [3.4496376621320683, 43], [3.472751070837068, 96], [4.654030511288039, 77], [4.7, 15], [4.794788837894741, 47], [4.832183771339827, 21], [4.832183771339828, 17], [4.873397172404482, 94], [4.91121166312347, 60], [4.9254441424099005, 46], [4.976946855251722, 36], [4.9779513858614575, 87], [4.990991885387112, 22], [5.0079936102195655, 33], [5.021951811795888, 72], [5.049752469181039, 92], [5.07444578254611, 82], [5.082322303829225, 91], [5.092150822589606, 89], [5.101960407529639, 28], [5.111751167652823, 44], [5.127377497317708, 80], [5.1643005334701435, 68], [5.173006862551025, 10], [5.180733538795447, 18], [5.199038372622383, 24], [5.206726418777926, 12], [5.208646657242167, 9], [5.232590180780452, 32], [5.26782687642637, 84], [5.286775955154521, 35], [5.310367218940702, 27], [5.332916650389353, 41], [5.3535035257296695, 78], [5.406477596365309, 66], [5.472659317004851, 5], [5.4808758424178885, 88], [5.646237685397242, 95], [5.724508712544684, 74]])\n",
            "   40]]\n",
            "\n",
            " [[list([[0.17320508075688784, 12], [0.1732050807568881, 82], [0.17320508075688812, 35], [0.19999999999999993, 33], [0.26457513110645875, 68], [0.2645751311064593, 24], [0.31622776601683805, 78], [0.3162277660168386, 32], [0.3316624790355397, 91], [0.3464101615137754, 41], [0.3464101615137761, 27], [0.3741657386773936, 92], [0.4472135954999578, 60], [0.4795831523312723, 84], [0.4999999999999996, 89], [0.49999999999999983, 9], [0.5099019513592783, 72], [0.5196152422706631, 17], [0.529150262212918, 10], [0.5567764362830022, 5], [0.5567764362830023, 66], [0.6244997998398397, 47], [0.6557438524302, 21], [0.6557438524302001, 94], [0.6999999999999998, 36], [0.7280109889280523, 74], [0.7416198487095659, 22], [0.7549834435270747, 44], [0.7745966692414836, 95], [0.7874007874011811, 87], [0.8831760866327844, 77], [0.9380831519646863, 88], [1.0440306508910546, 80], [1.0999999999999996, 15], [1.260952021291849, 28], [1.3114877048603997, 18], [1.5556349186104046, 46], [2.1307275752662513, 96], [2.16794833886788, 43], [2.3874672772626644, 56], [2.4556058315617353, 67], [2.5258661880630173, 49], [2.7748873851023212, 29], [2.817800560721074, 2], [2.949576240750525, 52], [3.0133038346638727, 19], [3.0626785662227105, 4], [3.1984371183438953, 45], [3.2031234756093934, 79], [3.4014702703389896, 55], [3.4525353003264136, 71], [3.52845575287547, 63], [3.5707142142714243, 59], [3.6359317925395684, 65], [3.6523964735499352, 23], [3.661966684720111, 85], [3.6687872655688283, 93], [3.738983819167983, 1], [3.7709415269929596, 76], [3.8065732621348563, 73], [3.8729833462074166, 83], [3.968626966596886, 75], [3.97994974842648, 50], [4.028647415696738, 13], [4.034848200366402, 48], [4.043513323831146, 69], [4.070626487409524, 58], [4.071854614300467, 70], [4.143669871020132, 7], [4.1856899072912706, 6], [4.220189569201838, 57], [4.249705872175156, 3], [4.376071297408212, 42], [4.457577817604534, 25], [4.4821869662029945, 99], [4.493328387732194, 97], [4.59782557302906, 16], [4.641120554348917, 40], [4.658325879540846, 51], [4.6690470119715, 37], [4.672258554489467, 0], [4.811444689487764, 54], [4.817675788178362, 81], [4.914264950122245, 34], [4.991993589739474, 38], [4.99799959983992, 14], [5.033885179461287, 30], [5.046781152378217, 8], [5.102940328869229, 90], [5.146843692983108, 39], [5.274466797696237, 98], [5.3113086899558, 26], [5.544366510251644, 11], [5.632938842203064, 61], [5.697367813297645, 20], [5.818075283115542, 62], [6.091797764207214, 86], [6.108191221630181, 31], [6.211280061307813, 64], [6.487680633323437, 53]])\n",
            "   78]]\n",
            "\n",
            " [[list([[0.3162277660168378, 45], [0.33166247903553986, 4], [0.45825756949558405, 79], [0.4582575694955845, 52], [0.4690415759823425, 59], [0.4690415759823426, 85], [0.6244997998398398, 2], [0.6855654600401043, 83], [0.7348469228349537, 55], [0.7416198487095659, 70], [0.7874007874011808, 63], [0.7937253933193773, 29], [0.8062257748298548, 50], [0.8062257748298548, 93], [0.8124038404635963, 75], [0.8306623862918072, 76], [0.8306623862918079, 65], [0.8602325267042623, 7], [0.8602325267042624, 13], [0.8602325267042625, 73], [0.8831760866327846, 58], [0.8888194417315587, 19], [0.9110433579144294, 1], [0.9110433579144299, 49], [0.9433981132056601, 71], [1.0295630140986998, 57], [1.0535653752852738, 23], [1.0630145812734648, 56], [1.1445523142259593, 48], [1.191637528781298, 97], [1.2041594578792296, 3], [1.224744871391589, 99], [1.2569805089976531, 42], [1.2884098726725126, 25], [1.315294643796591, 6], [1.352774925846868, 51], [1.3527749258468684, 16], [1.378404875209022, 69], [1.489966442575134, 67], [1.5066519173319366, 43], [1.5132745950421556, 40], [1.5264337522473748, 96], [1.5297058540778354, 54], [1.5556349186104046, 0], [1.7, 37], [1.7262676501632073, 81], [1.7406895185529208, 14], [1.7720045146669348, 34], [1.7832554500127007, 8], [1.824828759089466, 38], [1.8734993995195193, 30], [2.0099751242241783, 39], [2.0174241001832014, 90], [2.080865204668481, 98], [2.1447610589527217, 26], [2.41039415863879, 11], [2.461706725018234, 61], [2.6248809496813372, 20], [2.7568097504180438, 62], [2.949576240750525, 31], [2.9883105594967874, 77], [3.023243291566195, 17], [3.054504869860253, 64], [3.082207001484488, 47], [3.1368774282716245, 15], [3.1432467291003423, 21], [3.15277655408689, 86], [3.1733263305244863, 60], [3.1859064644147987, 33], [3.2031234756093934, 94], [3.2434549480453714, 82], [3.286335345030997, 53], [3.306055050963308, 92], [3.3090784215548594, 72], [3.3136083051561784, 22], [3.3136083051561784, 36], [3.3256578296631782, 91], [3.3331666624997918, 87], [3.385262175962152, 24], [3.385262175962152, 89], [3.3911649915626345, 12], [3.3926390907374753, 32], [3.4000000000000004, 68], [3.4496376621320683, 35], [3.4568772034887214, 10], [3.4612136599753565, 44], [3.48998567332303, 84], [3.4914180500192185, 27], [3.4957116585897072, 9], [3.5171010790137953, 46], [3.518522417151836, 80], [3.538361202590827, 66], [3.551056180912941, 78], [3.570714214271425, 41], [3.580502757993632, 28], [3.595830919273041, 88], [3.646916505762094, 5], [3.681032463861192, 18], [3.872983346207417, 74], [3.9127995093027708, 95]])\n",
            "   2]]\n",
            "\n",
            " [[list([[0.22360679774997916, 91], [0.2828427124746191, 60], [0.2999999999999998, 17], [0.2999999999999998, 82], [0.3000000000000002, 84], [0.30000000000000027, 68], [0.31622776601683783, 92], [0.3464101615137755, 27], [0.3464101615137758, 10], [0.37416573867739394, 78], [0.3741657386773941, 32], [0.38729833462074165, 89], [0.38729833462074187, 9], [0.42426406871192884, 72], [0.4472135954999579, 33], [0.45825756949558394, 24], [0.458257569495584, 35], [0.4582575694955841, 12], [0.4582575694955841, 21], [0.479583152331272, 36], [0.4898979485566357, 41], [0.49999999999999983, 22], [0.5385164807134499, 5], [0.6082762530298225, 47], [0.6164414002968974, 77], [0.6403124237432855, 94], [0.6633249580710802, 95], [0.6708203932499367, 66], [0.6782329983125275, 87], [0.768114574786861, 44], [0.818535277187245, 74], [0.818535277187245, 80], [0.9949874371066202, 15], [1.081665382639197, 28], [1.1832159566199232, 88], [1.2328828005937953, 18], [1.363818169698586, 46], [2.1307275752662513, 96], [2.1863211109075444, 43], [2.387467277262665, 56], [2.4698178070456938, 49], [2.5, 67], [2.7166155414412247, 29], [2.78926513619627, 2], [2.8740215726399825, 52], [3.0166206257996713, 4], [3.0463092423455636, 19], [3.13368792319848, 79], [3.1575306807693893, 45], [3.3630343441600474, 55], [3.388214869219483, 71], [3.5057096285916205, 59], [3.536947836765479, 63], [3.5637059362410923, 65], [3.6027767069303644, 23], [3.6041642581880198, 85], [3.6742346141747673, 93], [3.7013511046643495, 1], [3.7188707963574106, 73], [3.7336309405188937, 76], [3.794733192202055, 83], [3.889730067755345, 75], [3.954743986657038, 50], [3.9912404086950213, 69], [4.004996878900157, 48], [4.016217125604641, 13], [4.017461885320133, 70], [4.023679907746143, 58], [4.077989700820736, 7], [4.132795663954366, 6], [4.1844951905815355, 57], [4.192851058647325, 3], [4.295346318982905, 42], [4.387482193696061, 25], [4.430575583375144, 99], [4.446346815083142, 97], [4.518849411078001, 16], [4.54972526643093, 40], [4.561797891182818, 0], [4.589117562233506, 51], [4.6, 37], [4.746577714522327, 54], [4.748684028233507, 81], [4.805205510693585, 34], [4.903060268852505, 38], [4.953786430600334, 30], [4.961854492022111, 14], [4.968903299521937, 8], [5.051732376126035, 90], [5.06655701635736, 39], [5.1903757089443925, 98], [5.248809388804284, 26], [5.500909015790027, 11], [5.581218504950329, 61], [5.598214000911362, 20], [5.764546816532935, 62], [6.004165220911231, 86], [6.050619802962338, 31], [6.166036003787198, 64], [6.445928947793329, 53]])\n",
            "   92]]\n",
            "\n",
            " [[list([[0.22360679774997935, 25], [0.374165738677394, 40], [0.4242640687119286, 3], [0.46904157598234314, 16], [0.5099019513592786, 37], [0.5196152422706639, 81], [0.5567764362830022, 99], [0.5567764362830023, 0], [0.6082762530298216, 73], [0.6082762530298218, 58], [0.648074069840786, 83], [0.6480740698407862, 51], [0.6480740698407865, 38], [0.6557438524302003, 54], [0.6782329983125268, 6], [0.6782329983125268, 30], [0.7, 34], [0.7416198487095664, 57], [0.7549834435270752, 8], [0.781024967590666, 39], [0.7874007874011808, 65], [0.812403840463596, 70], [0.8124038404635961, 76], [0.8366600265340757, 48], [0.8660254037844388, 7], [0.877496438739212, 69], [0.8774964387392122, 85], [0.9000000000000002, 42], [0.9000000000000002, 59], [0.9055385138137417, 50], [0.9055385138137422, 98], [0.9165151389911681, 1], [0.9486832980505133, 23], [1.0049875621120894, 75], [1.0246950765959604, 26], [1.0295630140987004, 14], [1.063014581273465, 97], [1.086278049120022, 90], [1.1090536506409416, 55], [1.2083045973594566, 79], [1.2288205727444508, 13], [1.3038404810405295, 93], [1.3527749258468682, 63], [1.3784048752090223, 20], [1.4071247279470291, 11], [1.4866068747318506, 61], [1.5297058540778357, 52], [1.5362291495737215, 4], [1.5779733838059498, 45], [1.6031219541881399, 62], [1.6792855623746665, 2], [1.8601075237738272, 19], [1.8708286933869702, 71], [1.8734993995195193, 31], [1.907878402833891, 49], [1.9339079605813714, 29], [2.002498439450079, 86], [2.0396078054371145, 64], [2.135415650406262, 56], [2.2649503305812253, 53], [2.692582403567252, 67], [2.701851217221259, 43], [2.7276363393971708, 96], [3.888444419044716, 77], [3.9306488014067087, 15], [4.006245124802025, 47], [4.050925820105818, 17], [4.068169121361598, 21], [4.095119045888653, 94], [4.135214625627066, 60], [4.195235392680606, 46], [4.202380277890138, 87], [4.21070065428546, 36], [4.216633728461602, 33], [4.220189569201838, 22], [4.240283009422837, 72], [4.266145801540308, 92], [4.288356328478313, 82], [4.3, 91], [4.316248370981447, 89], [4.332435804486894, 44], [4.350861983561418, 28], [4.366921112179609, 80], [4.380639222761902, 68], [4.397726685459204, 10], [4.417012565071555, 24], [4.41927595879687, 12], [4.424929377967517, 18], [4.435087372307337, 9], [4.451965857910413, 32], [4.497777228809803, 35], [4.497777228809804, 84], [4.532107677449864, 27], [4.54972526643093, 41], [4.573838650411709, 78], [4.629254799641083, 66], [4.699999999999999, 5], [4.705316142407437, 88], [4.880573736764972, 95], [4.948737212663448, 74]])\n",
            "   99]]\n",
            "\n",
            " [[list([[0.14142135623730928, 36], [0.14142135623730953, 22], [0.26457513110645875, 10], [0.31622776601683783, 89], [0.33166247903553997, 72], [0.3316624790355405, 87], [0.37416573867739383, 9], [0.37416573867739417, 80], [0.41231056256176596, 77], [0.41231056256176596, 92], [0.4242640687119283, 91], [0.4358898943540672, 60], [0.44721359549995776, 21], [0.5099019513592788, 94], [0.529150262212918, 68], [0.5477225575051663, 44], [0.5477225575051664, 47], [0.5830951894845305, 28], [0.6324555320336763, 15], [0.6480740698407859, 17], [0.648074069840786, 84], [0.6855654600401041, 41], [0.7416198487095662, 95], [0.7549834435270745, 78], [0.7745966692414831, 82], [0.793725393319377, 27], [0.7937253933193774, 18], [0.8185352771872447, 33], [0.8366600265340752, 12], [0.8544003745317539, 46], [0.8602325267042624, 24], [0.8660254037844384, 32], [0.8831760866327845, 35], [0.9486832980505131, 5], [1.1489125293076052, 66], [1.2165525060596436, 74], [1.6278820596099706, 88], [2.3937418407171642, 96], [2.4474476501040834, 43], [2.5079872407968904, 56], [2.543619468395381, 49], [2.782085548648711, 67], [2.8618176042508368, 29], [2.875760768909681, 2], [2.9410882339705484, 52], [3.122498999199199, 4], [3.1638584039112754, 79], [3.179622619116929, 19], [3.2893768406797057, 45], [3.3674916480965473, 55], [3.5298725189445577, 59], [3.5341194094144583, 65], [3.5594943461115376, 23], [3.562302626111375, 71], [3.6193922141707717, 63], [3.641428291206625, 85], [3.6905284174491872, 73], [3.6972963094672298, 1], [3.74299345444258, 76], [3.7696153649941526, 93], [3.819685850956856, 83], [3.9268307832143723, 69], [3.9623225512317903, 75], [3.9987498046264407, 48], [4.016217125604641, 50], [4.057092555020159, 58], [4.0828911325187205, 70], [4.090232267243512, 6], [4.1303752856126765, 13], [4.149698784249285, 7], [4.172529209005013, 3], [4.235563716909474, 57], [4.342810150121693, 42], [4.3794976880916385, 25], [4.460941604639093, 99], [4.519955751995809, 16], [4.523273151159457, 97], [4.52658811910251, 40], [4.536518488885503, 0], [4.548626166217663, 37], [4.616275555033516, 51], [4.709564735726648, 81], [4.768647607026546, 54], [4.777028364998475, 34], [4.867237409455184, 38], [4.92645917470144, 30], [4.969909455915671, 8], [4.998999899979995, 14], [5.022947341949744, 90], [5.023942674832188, 39], [5.158488150611572, 98], [5.219195340279955, 26], [5.478138369920935, 11], [5.518151864528558, 20], [5.562373594069352, 61], [5.706137047074842, 62], [5.894064811316551, 86], [6.0116553460756545, 31], [6.1392181912683315, 64], [6.431174076325411, 53]])\n",
            "   9]]\n",
            "\n",
            " [[list([[0.14142135623730948, 66], [0.20000000000000018, 5], [0.244948974278318, 74], [0.29999999999999954, 32], [0.2999999999999996, 27], [0.3605551275463989, 78], [0.424264068711928, 24], [0.424264068711928, 35], [0.46904157598234253, 84], [0.5099019513592781, 82], [0.5099019513592784, 12], [0.6403124237432847, 41], [0.6708203932499366, 33], [0.6782329983125264, 68], [0.6999999999999998, 95], [0.7141428428542852, 88], [0.748331477354788, 91], [0.7874007874011809, 9], [0.8062257748298548, 60], [0.8246211251235317, 17], [0.8306623862918068, 92], [0.854400374531753, 10], [0.8717797887081341, 89], [0.9273618495495702, 21], [0.9643650760992953, 72], [1.0295630140986998, 36], [1.1045361017187254, 22], [1.1135528725660044, 94], [1.1489125293076057, 47], [1.2083045973594568, 44], [1.2369316876852976, 77], [1.2369316876852983, 87], [1.3784048752090219, 80], [1.5811388300841893, 15], [1.630950643030009, 28], [1.7233687939614082, 18], [1.9313207915827968, 46], [2.29128784747792, 96], [2.343074902771996, 43], [2.615339366124404, 67], [2.7073972741361767, 56], [2.8195744359743364, 49], [2.9883105594967865, 29], [3.1320919526731648, 2], [3.2388269481403293, 52], [3.3361654635224554, 19], [3.3391615714128, 4], [3.4612136599753565, 45], [3.5142566781611158, 79], [3.60416425818802, 71], [3.7709415269929605, 55], [3.8626415831655936, 63], [3.9012818406262313, 59], [3.976179070414209, 93], [3.987480407475377, 85], [3.996248240537617, 65], [4.043513323831146, 23], [4.11703777004778, 1], [4.126742056392669, 76], [4.149698784249286, 73], [4.167733196834941, 83], [4.204759208325728, 75], [4.3023249528597916, 50], [4.310452412450461, 13], [4.364630568559039, 70], [4.384062043356596, 58], [4.402272140611028, 7], [4.414748010928823, 48], [4.449719092257398, 69], [4.521061822182927, 57], [4.572745346069471, 6], [4.607602413403309, 3], [4.613025037868318, 42], [4.7812132351527685, 25], [4.793745925682753, 97], [4.793745925682754, 99], [4.920365840057018, 16], [4.944694126030446, 40], [4.961854492022112, 0], [4.966890375275057, 51], [5.01098792654702, 37], [5.112729212465687, 54], [5.165268628057984, 81], [5.205766033928148, 34], [5.324471804789654, 14], [5.324471804789654, 38], [5.350700888668698, 30], [5.353503525729669, 8], [5.481788029466299, 90], [5.48270006474912, 39], [5.600892785976178, 98], [5.662155066756826, 26], [5.913543776789007, 11], [5.998333101787529, 61], [6.04400529450463, 20], [6.191930232165087, 62], [6.476109943476871, 31], [6.491532946846993, 86], [6.582552696332936, 64], [6.842514157822401, 53]])\n",
            "   24]]\n",
            "\n",
            " [[list([[0.1414213562373093, 16], [0.24494897427831783, 51], [0.3605551275463988, 25], [0.38729833462074154, 99], [0.38729833462074165, 54], [0.5, 8], [0.5099019513592785, 38], [0.5196152422706635, 81], [0.5477225575051662, 3], [0.5830951894845299, 40], [0.6164414002968976, 14], [0.6480740698407859, 30], [0.6999999999999996, 58], [0.7000000000000002, 39], [0.7000000000000002, 97], [0.7141428428542846, 0], [0.7348469228349535, 98], [0.7348469228349536, 70], [0.7416198487095663, 57], [0.7549834435270748, 34], [0.761577310586391, 37], [0.7810249675906653, 26], [0.787400787401181, 6], [0.7874007874011811, 90], [0.8602325267042625, 50], [0.8602325267042628, 83], [0.8660254037844389, 7], [0.8831760866327849, 48], [0.8999999999999998, 73], [0.9695359714832661, 76], [0.9848857801796105, 85], [1.0246950765959602, 42], [1.0392304845413267, 1], [1.0440306508910548, 69], [1.0630145812734655, 59], [1.0677078252031311, 65], [1.104536101718726, 11], [1.1090536506409416, 13], [1.118033988749895, 75], [1.1357816691600544, 61], [1.1916375287812984, 23], [1.3038404810405297, 20], [1.3076696830622023, 55], [1.349073756323204, 93], [1.4106735979665883, 63], [1.4317821063276353, 62], [1.4628738838327788, 79], [1.5842979517754854, 31], [1.6522711641858305, 45], [1.6852299546352716, 4], [1.7204650534085255, 64], [1.7378147196982772, 52], [1.8574175621006712, 86], [1.8708286933869709, 2], [1.944222209522358, 19], [1.9519221295943139, 53], [1.9544820285692062, 71], [2.1213203435596424, 29], [2.1633307652783937, 49], [2.33238075793812, 56], [2.808914381037628, 67], [2.86705423736629, 43], [2.898275349237888, 96], [4.1856899072912706, 77], [4.2391036788453285, 15], [4.286023798347368, 47], [4.309292285283049, 17], [4.376071297408213, 21], [4.396589587396122, 94], [4.424929377967517, 60], [4.474371464239419, 33], [4.50111097397076, 87], [4.513313638558703, 22], [4.517742799230607, 36], [4.527692569068709, 72], [4.534313619501853, 46], [4.546427168667722, 82], [4.547526800360829, 92], [4.5793012567421245, 91], [4.611941023040083, 89], [4.631414470763764, 44], [4.659399102888698, 68], [4.6679760067935225, 80], [4.6701177715342475, 28], [4.682947789587238, 12], [4.685082710048992, 24], [4.688283267892417, 10], [4.709564735726647, 32], [4.731807265728392, 9], [4.747630988187687, 18], [4.752893855326458, 35], [4.778074926160116, 84], [4.797916214358063, 27], [4.831148931672464, 41], [4.8456165758342875, 78], [4.877499359302879, 66], [4.937610758251404, 88], [4.964876634922564, 5], [5.174939613174245, 95], [5.204805471869242, 74]])\n",
            "   38]]\n",
            "\n",
            " [[list([[0.42426406871192884, 34], [0.5099019513592784, 8], [0.5567764362830022, 98], [0.6082762530298224, 30], [0.6403124237432849, 38], [0.6480740698407857, 0], [0.7071067811865479, 39], [0.7416198487095665, 40], [0.761577310586391, 54], [0.8888194417315588, 16], [0.9, 51], [0.9486832980505134, 26], [0.953939201416946, 20], [0.9591663046625439, 81], [1.0099504938362076, 25], [1.104536101718726, 99], [1.1180339887498953, 37], [1.148912529307606, 42], [1.1532562594670794, 14], [1.3190905958272918, 61], [1.3228756555322954, 90], [1.3341664064126335, 7], [1.3527749258468686, 11], [1.374772708486752, 3], [1.3784048752090223, 97], [1.414213562373095, 57], [1.435270009440732, 58], [1.438749456993816, 70], [1.4491376746189442, 62], [1.452583904633395, 83], [1.4832396974191324, 75], [1.5165750888103098, 31], [1.5811388300841893, 73], [1.6155494421403511, 6], [1.6881943016134129, 50], [1.7175564037317672, 64], [1.7606816861659007, 85], [1.7748239349298849, 48], [1.7944358444926367, 86], [1.802775637731995, 76], [1.8083141320025125, 65], [1.8165902124584947, 13], [1.8165902124584954, 53], [1.8165902124584954, 59], [1.8439088914585773, 69], [1.9104973174542803, 1], [1.9924858845171272, 23], [2.114237451186597, 93], [2.1189620100417086, 79], [2.1213203435596424, 55], [2.2360679774997894, 63], [2.31948270094864, 45], [2.343074902771996, 71], [2.351595203260969, 4], [2.3727621035409348, 52], [2.5903667693977237, 2], [2.681417535558384, 29], [2.747726332806817, 19], [2.80178514522438, 49], [3.057776970284131, 56], [3.4467375879228173, 67], [3.4971416900091423, 43], [3.5085609585697664, 96], [4.7864391775097275, 77], [4.8928519290900265, 15], [4.935585071701226, 17], [4.959838707054898, 47], [4.969909455915671, 21], [5.046781152378217, 60], [5.047771785649585, 94], [5.121523210920751, 46], [5.124451190127583, 36], [5.132250968142537, 22], [5.141011573610781, 33], [5.1487862647424, 87], [5.175905717843014, 72], [5.1903757089443925, 82], [5.195190083144215, 92], [5.219195340279955, 91], [5.242136968832463, 89], [5.278257288158659, 80], [5.282045058497702, 28], [5.297169055259611, 44], [5.304714883949937, 68], [5.313191131514092, 10], [5.323532661682465, 24], [5.33572862878164, 32], [5.338539126015655, 12], [5.3535035257296695, 9], [5.375872022286245, 84], [5.391660226683428, 18], [5.409251334519408, 35], [5.417564028232615, 27], [5.472659317004851, 78], [5.4799635035281025, 41], [5.4972720507539, 66], [5.5677643628300215, 5], [5.5830099408831435, 88], [5.768015256567895, 95], [5.818934610390463, 74]])\n",
            "   39]]\n",
            "\n",
            " [[list([[0.10000000000000009, 54], [0.30000000000000016, 8], [0.4242640687119288, 51], [0.43588989435406733, 99], [0.4690415759823429, 30], [0.4999999999999996, 25], [0.5099019513592786, 40], [0.5099019513592787, 16], [0.6000000000000001, 38], [0.6164414002968976, 14], [0.6244997998398397, 81], [0.640312423743285, 34], [0.6480740698407862, 98], [0.6557438524302003, 39], [0.6708203932499368, 0], [0.7416198487095662, 57], [0.7745966692414834, 37], [0.7937253933193769, 26], [0.8062257748298554, 42], [0.8185352771872445, 58], [0.8426149773176363, 7], [0.8602325267042625, 3], [0.8774964387392127, 97], [0.8831760866327848, 70], [1.0, 83], [1.039230484541326, 50], [1.0392304845413263, 90], [1.0816653826391969, 75], [1.1489125293076055, 6], [1.1575836902790226, 11], [1.1704699910719623, 13], [1.1958260743101394, 73], [1.2, 48], [1.212435565298214, 61], [1.2247448713915892, 76], [1.2449899597988732, 85], [1.2727922061357855, 20], [1.3304134695650074, 59], [1.3638181696985856, 1], [1.3638181696985856, 65], [1.4035668847618197, 69], [1.4106735979665883, 62], [1.4491376746189435, 93], [1.5033296378372905, 23], [1.5779733838059498, 31], [1.5842979517754856, 63], [1.5842979517754858, 55], [1.6552945357246844, 79], [1.7146428199482249, 64], [1.8138357147217052, 45], [1.849324200890693, 4], [1.8520259177452136, 53], [1.9339079605813718, 52], [1.9493588689617924, 71], [1.9824227601599012, 86], [2.0639767440550294, 2], [2.1260291625469296, 19], [2.23159136044214, 29], [2.3366642891095846, 49], [2.5258661880630173, 56], [2.9068883707497264, 67], [2.989983277545211, 43], [3.023243291566195, 96], [4.4294469180700204, 77], [4.506661735697499, 15], [4.535416188179426, 47], [4.539823785126467, 17], [4.583666654546335, 21], [4.62709412050371, 94], [4.64327470649756, 60], [4.690415759823429, 33], [4.748684028233507, 36], [4.756048780237646, 87], [4.759201613716317, 82], [4.763402145525822, 22], [4.768647607026545, 72], [4.7812132351527685, 92], [4.806245936279167, 46], [4.809365862564419, 91], [4.840454524112379, 89], [4.877499359302879, 44], [4.8836461788299115, 24], [4.8836461788299115, 68], [4.891829923454003, 12], [4.913247398615299, 32], [4.923413450036468, 10], [4.934571916590131, 80], [4.94064773081425, 28], [4.954795656734998, 9], [4.964876634922563, 35], [4.984977432245807, 84], [5.003998401278721, 27], [5.015974481593781, 18], [5.0477717856495845, 41], [5.053711507397311, 78], [5.064582904840239, 66], [5.095095681142799, 88], [5.162363799656123, 5], [5.388877434122992, 95], [5.395368384086485, 74]])\n",
            "   40]]\n",
            "\n",
            " [[list([[0.33166247903553975, 70], [0.3605551275463984, 50], [0.3741657386773937, 58], [0.46904157598234264, 85], [0.469041575982343, 99], [0.5000000000000002, 3], [0.5099019513592782, 57], [0.5385164807134505, 76], [0.5567764362830021, 83], [0.58309518948453, 97], [0.5830951894845302, 25], [0.5830951894845302, 59], [0.5916079783099616, 48], [0.5916079783099616, 51], [0.5916079783099621, 16], [0.6244997998398397, 1], [0.6480740698407857, 73], [0.648074069840786, 7], [0.6782329983125264, 13], [0.7000000000000004, 6], [0.7280109889280518, 65], [0.7874007874011812, 54], [0.8366600265340753, 55], [0.8544003745317525, 93], [0.8660254037844384, 23], [0.883176086632784, 63], [0.8831760866327847, 75], [0.9055385138137417, 69], [0.9110433579144301, 14], [0.9219544457292888, 40], [0.9486832980505145, 81], [1.0049875621120883, 79], [1.0295630140987, 42], [1.0295630140987004, 8], [1.0440306508910553, 37], [1.0488088481701516, 0], [1.0630145812734655, 38], [1.1224972160321818, 45], [1.14455231422596, 30], [1.1618950038622247, 4], [1.1618950038622256, 90], [1.1916375287812984, 34], [1.2328828005937957, 39], [1.252996408614167, 52], [1.2961481396815724, 26], [1.3000000000000005, 98], [1.337908816025965, 2], [1.3820274961085248, 19], [1.5394804318340656, 11], [1.565247584249852, 71], [1.5937377450509227, 61], [1.6340134638368187, 29], [1.6703293088490063, 49], [1.791647286716891, 56], [1.8574175621006712, 20], [1.9078784028338915, 62], [2.083266665599966, 31], [2.184032966784156, 64], [2.2671568097509263, 67], [2.3302360395462083, 43], [2.3452078799117158, 86], [2.3685438564654016, 96], [2.424871130596429, 53], [3.726929030716845, 77], [3.7894590642992827, 15], [3.7973675092095047, 47], [3.8131351929875232, 17], [3.9038442591886264, 21], [3.9166312055132275, 94], [3.938273733503043, 60], [3.958535082577897, 33], [4.033608806019741, 87], [4.034848200366403, 82], [4.043513323831146, 72], [4.047221268969612, 22], [4.052159917870962, 36], [4.05585995813465, 92], [4.08656334834051, 91], [4.1303752856126765, 89], [4.1340053217188775, 46], [4.154515615568198, 44], [4.161730409336962, 68], [4.168932717135165, 12], [4.173727350941841, 24], [4.198809355043403, 32], [4.208325082500163, 10], [4.221374183841086, 80], [4.235563716909474, 35], [4.240283009422838, 28], [4.249705872175156, 9], [4.287190222045203, 84], [4.293017586733136, 27], [4.311612227462019, 18], [4.330127018922193, 41], [4.341658669218481, 78], [4.358898943540673, 66], [4.401136216933078, 88], [4.460941604639093, 5], [4.690415759823429, 74], [4.693612681080534, 95]])\n",
            "   57]]\n",
            "\n",
            " [[list([[0.14142135623730964, 72], [0.14142135623730995, 92], [0.17320508075688806, 89], [0.22360679774997916, 68], [0.22360679774997916, 91], [0.2645751311064592, 9], [0.2828427124746193, 10], [0.30000000000000016, 94], [0.33166247903553986, 44], [0.34641016151377535, 41], [0.3464101615137757, 60], [0.36055512754639907, 47], [0.37416573867739444, 87], [0.3872983346207421, 36], [0.4582575694955841, 22], [0.48989794855663565, 33], [0.49999999999999983, 12], [0.5000000000000001, 21], [0.5385164807134506, 82], [0.547722557505166, 78], [0.5744562646538031, 24], [0.5744562646538031, 35], [0.6082762530298225, 84], [0.6324555320336763, 27], [0.6403124237432851, 17], [0.6782329983125269, 77], [0.6782329983125273, 32], [0.7141428428542846, 80], [0.714142842854285, 15], [0.7483314773547888, 95], [0.8306623862918072, 5], [0.8544003745317533, 28], [0.8717797887081346, 18], [0.9433981132056602, 66], [1.0344080432788603, 74], [1.1401754250991385, 46], [1.3114877048604003, 88], [2.3108440016582685, 96], [2.345207879911715, 43], [2.437211521390788, 56], [2.541653005427767, 49], [2.6551836094703507, 67], [2.8460498941515415, 2], [2.8600699292150185, 29], [2.9698484809834995, 52], [3.0789608636681307, 19], [3.1144823004794877, 4], [3.190611226708764, 79], [3.2756678708318407, 45], [3.363034344160048, 55], [3.553871128783373, 63], [3.5566838487557475, 59], [3.5721142198983507, 71], [3.5749125863438955, 65], [3.574912586343896, 23], [3.6592348927063973, 85], [3.695943722515265, 1], [3.7067505985701277, 93], [3.7389838191679834, 76], [3.7509998667022106, 73], [3.862641583165593, 83], [3.9509492530276824, 69], [3.989987468652, 48], [3.9949968710876362, 50], [4.001249804748512, 75], [4.06324993078201, 58], [4.090232267243512, 13], [4.096339829652808, 70], [4.113392760240627, 6], [4.17492514902962, 7], [4.197618372363071, 3], [4.22729227756965, 57], [4.38748219369606, 42], [4.419275958796871, 25], [4.47548880012005, 99], [4.531004303683676, 97], [4.571651780264984, 16], [4.591296113299598, 37], [4.59347363114234, 40], [4.62709412050371, 0], [4.654030511288038, 51], [4.752893855326458, 81], [4.801041553663121, 54], [4.867237409455182, 34], [4.935585071701227, 38], [4.981967482832459, 30], [4.99799959983992, 14], [5.020956084253277, 8], [5.047771785649585, 90], [5.082322303829225, 39], [5.221110992882645, 98], [5.256424640380569, 26], [5.493632677928148, 11], [5.588380803059148, 61], [5.605354582896607, 20], [5.736723803705385, 62], [5.974110812497539, 86], [6.047313453096341, 31], [6.159545437773798, 64], [6.445928947793328, 53]])\n",
            "   10]]\n",
            "\n",
            " [[list([[0.31622776601683766, 83], [0.33166247903553997, 7], [0.37416573867739383, 70], [0.4582575694955842, 75], [0.5385164807134497, 58], [0.6082762530298215, 85], [0.6244997998398398, 99], [0.6403124237432847, 25], [0.6403124237432849, 42], [0.6480740698407857, 51], [0.6480740698407862, 16], [0.6557438524301997, 57], [0.6708203932499363, 73], [0.6708203932499368, 59], [0.734846922834953, 50], [0.7615773105863908, 40], [0.7681145747868608, 0], [0.7810249675906653, 97], [0.7937253933193773, 54], [0.8124038404635958, 3], [0.8602325267042625, 65], [0.8602325267042625, 76], [0.8660254037844384, 13], [0.9486832980505133, 79], [0.9643650760992951, 34], [0.9999999999999994, 1], [1.004987562112089, 8], [1.048808848170151, 48], [1.0677078252031311, 6], [1.0723805294763606, 55], [1.0816653826391964, 45], [1.0862780491200212, 93], [1.0862780491200217, 38], [1.0908712114635717, 81], [1.113552872566004, 4], [1.1224972160321822, 30], [1.1224972160321822, 37], [1.1401754250991376, 23], [1.1575836902790229, 52], [1.174734012447073, 14], [1.178982612255159, 63], [1.2529964086141663, 69], [1.2727922061357855, 71], [1.2845232578665131, 39], [1.3190905958272918, 98], [1.3784048752090219, 2], [1.4730919862656233, 26], [1.4764823060233399, 29], [1.489966442575134, 90], [1.5811388300841893, 19], [1.6124515496597096, 49], [1.816590212458495, 11], [1.8439088914585773, 56], [1.8466185312619385, 61], [1.8814887722226779, 20], [2.118962010041709, 62], [2.238302928559939, 67], [2.2759613353482084, 43], [2.2869193252058535, 31], [2.2891046284519194, 96], [2.4248711305964283, 64], [2.5238858928247927, 86], [2.624880949681338, 53], [3.671511950137164, 77], [3.7643060449437424, 17], [3.806573262134856, 15], [3.8118237105091834, 47], [3.8405728739343035, 21], [3.896151947755631, 60], [3.915354390090378, 94], [3.9522145690739006, 33], [4.00374824383352, 82], [4.006245124802025, 36], [4.011234224026316, 22], [4.03236903073119, 72], [4.03236903073119, 87], [4.039801975344831, 92], [4.060788100849391, 91], [4.102438299353203, 89], [4.113392760240626, 46], [4.141255848169731, 24], [4.141255848169731, 68], [4.149698784249286, 32], [4.153311931459037, 12], [4.172529209005013, 44], [4.173727350941841, 10], [4.189272013130682, 80], [4.2130748865881795, 9], [4.217819341792628, 35], [4.217819341792628, 84], [4.224926034855522, 28], [4.240283009422838, 27], [4.298837052040936, 78], [4.302324952859791, 66], [4.315089802078283, 41], [4.33358973600409, 18], [4.374928570845472, 88], [4.3920382511995495, 5], [4.628174586162454, 95], [4.631414470763764, 74]])\n",
            "   99]]\n",
            "\n",
            " [[list([[0.30000000000000016, 2], [0.4123105625617663, 4], [0.43588989435406744, 56], [0.5196152422706634, 19], [0.5291502622129185, 45], [0.5385164807134499, 29], [0.5385164807134503, 49], [0.5744562646538027, 52], [0.7681145747868612, 79], [0.8774964387392121, 43], [0.8831760866327845, 67], [0.9055385138137421, 63], [0.932737905308881, 96], [0.9848857801796108, 93], [1.0000000000000004, 55], [1.039230484541326, 59], [1.0677078252031311, 85], [1.0999999999999994, 71], [1.2449899597988732, 76], [1.2727922061357857, 13], [1.2845232578665133, 50], [1.2845232578665136, 65], [1.2999999999999998, 1], [1.307669683062202, 83], [1.3747727084867518, 70], [1.3784048752090223, 75], [1.382027496108526, 23], [1.4212670403551897, 73], [1.42126704035519, 58], [1.4696938456699067, 7], [1.5297058540778354, 57], [1.5588457268119895, 48], [1.7406895185529214, 3], [1.7832554500127014, 69], [1.7916472867168924, 6], [1.7999999999999998, 97], [1.8055470085267786, 42], [1.8110770276274835, 99], [1.886796226411321, 25], [2.007485989988473, 51], [2.012461179749811, 16], [2.1283796653792764, 40], [2.149418526020468, 54], [2.2045407685048604, 0], [2.220360331117452, 37], [2.3021728866442683, 81], [2.304343724360583, 14], [2.424871130596428, 34], [2.4248711305964283, 8], [2.4677925358506134, 38], [2.479919353527449, 30], [2.5019992006393608, 17], [2.535744466621193, 77], [2.5495097567963927, 47], [2.582634314028992, 90], [2.5903667693977237, 33], [2.6191601707417593, 39], [2.626785107312739, 21], [2.6362852652928135, 60], [2.6645825188948455, 82], [2.6645825188948455, 94], [2.6795522013948525, 15], [2.714774392099646, 98], [2.738612787525831, 26], [2.7622454633866265, 92], [2.7802877548915688, 72], [2.7820855486487113, 91], [2.7892651361962706, 24], [2.792848008753788, 12], [2.816025568065745, 32], [2.817800560721074, 36], [2.835489375751565, 22], [2.8372521918222215, 87], [2.8390139133156778, 68], [2.8530685235374214, 35], [2.8530685235374214, 89], [2.924038303442689, 27], [2.9291637031753615, 44], [2.9376861643136762, 10], [2.9410882339705484, 88], [2.942787793912432, 66], [2.9495762407505253, 84], [2.959729717389748, 9], [2.968164415931166, 11], [2.9782545223670858, 78], [2.9916550603303182, 41], [3.0495901363953815, 61], [3.0789608636681303, 80], [3.0822070014844876, 5], [3.1416556144810017, 46], [3.1559467676119, 28], [3.22335229225724, 18], [3.2511536414017717, 20], [3.2832910318764004, 74], [3.3075670817082456, 62], [3.3808283008753937, 95], [3.5411862419251547, 31], [3.6262928728937496, 64], [3.74699879903904, 86], [3.854867053479277, 53]])\n",
            "   49]]\n",
            "\n",
            " [[list([[0.4242640687119289, 79], [0.4472135954999582, 52], [0.4690415759823427, 4], [0.519615242270663, 45], [0.5196152422706631, 59], [0.5567764362830023, 85], [0.5830951894845302, 83], [0.6708203932499371, 75], [0.7615773105863909, 2], [0.7874007874011809, 29], [0.7874007874011809, 70], [0.7937253933193773, 73], [0.8062257748298546, 7], [0.8246211251235328, 65], [0.8544003745317538, 55], [0.883176086632784, 71], [0.9110433579144301, 58], [0.9273618495495703, 49], [0.9273618495495707, 76], [0.948683298050514, 50], [1.0000000000000002, 93], [1.0148891565092222, 63], [1.0246950765959597, 13], [1.0295630140987, 1], [1.0723805294763609, 57], [1.1135528725660049, 23], [1.1180339887498947, 42], [1.1401754250991378, 19], [1.1916375287812984, 56], [1.2247448713915896, 3], [1.2369316876852983, 99], [1.2449899597988736, 25], [1.2569805089976536, 48], [1.2767145334803702, 97], [1.3190905958272925, 16], [1.3416407864998736, 51], [1.3638181696985865, 6], [1.4000000000000001, 40], [1.4035668847618203, 0], [1.431782106327636, 69], [1.5000000000000002, 54], [1.5937377450509227, 43], [1.5937377450509227, 96], [1.6155494421403511, 67], [1.634013463836819, 34], [1.6431676725154987, 37], [1.6941074346097424, 81], [1.7291616465790582, 8], [1.7606816861659014, 38], [1.8, 14], [1.8, 30], [1.951922129594314, 39], [2.0199009876724157, 98], [2.06397674405503, 90], [2.137755832643195, 26], [2.4494897427831783, 11], [2.495996794869737, 61], [2.545584412271571, 20], [2.7586228448267445, 62], [2.961418578992169, 31], [2.9765752132274437, 77], [3.0413812651491097, 17], [3.0886890422961004, 64], [3.119294792096444, 47], [3.1288975694324037, 86], [3.1352830813181765, 21], [3.151190251317746, 15], [3.184336665618132, 60], [3.2264531609803355, 94], [3.2341923257592455, 33], [3.278719262151, 82], [3.3090784215548594, 36], [3.3120990323358392, 53], [3.315116890850155, 22], [3.331666249791536, 72], [3.331666249791536, 92], [3.348133808556641, 91], [3.349626844888845, 87], [3.398529093593286, 89], [3.4190641994557516, 24], [3.420526275297414, 32], [3.427827300200522, 68], [3.433656942677879, 12], [3.4669871646719432, 10], [3.4899856733230297, 46], [3.4914180500192185, 44], [3.4942810419312296, 35], [3.4942810419312296, 84], [3.505709628591621, 9], [3.5114099732158874, 80], [3.5128336140500593, 27], [3.5707142142714248, 66], [3.570714214271425, 28], [3.5749125863438955, 78], [3.602776706930364, 41], [3.6578682316343767, 88], [3.661966684720111, 5], [3.690528417449187, 18], [3.8999999999999995, 74], [3.9115214431215892, 95]])\n",
            "   83]]\n",
            "\n",
            " [[list([[0.3741657386773941, 73], [0.4582575694955842, 65], [0.4690415759823428, 59], [0.5196152422706629, 79], [0.5385164807134503, 83], [0.5830951894845302, 85], [0.7348469228349537, 55], [0.7549834435270754, 52], [0.7937253933193772, 76], [0.7937253933193773, 23], [0.8426149773176356, 1], [0.8831760866327846, 58], [0.9110433579144298, 4], [0.9165151389911683, 75], [0.9219544457292883, 70], [0.9539392014169458, 3], [0.989949493661166, 7], [1.0246950765959597, 2], [1.0295630140986998, 45], [1.0295630140987, 25], [1.03440804327886, 50], [1.0344080432788605, 6], [1.058300524425836, 69], [1.0630145812734648, 48], [1.1135528725660042, 57], [1.1357816691600549, 16], [1.14455231422596, 49], [1.1532562594670794, 40], [1.1575836902790226, 0], [1.1747340124470729, 99], [1.183215956619923, 42], [1.1832159566199232, 63], [1.22065556157337, 93], [1.2369316876852978, 29], [1.2609520212918488, 51], [1.3038404810405295, 13], [1.3228756555322951, 37], [1.3784048752090219, 97], [1.3928388277184116, 34], [1.4000000000000004, 81], [1.4071247279470287, 54], [1.4247806848775004, 71], [1.431782106327635, 19], [1.445683229480096, 56], [1.4798648586948744, 38], [1.5588457268119893, 30], [1.5684387141358123, 8], [1.667333200053307, 39], [1.7406895185529208, 14], [1.7691806012954134, 98], [1.8138357147217055, 90], [1.8920887928424501, 26], [2.0024984394500787, 43], [2.0024984394500787, 96], [2.078460969082653, 67], [2.2022715545545237, 20], [2.2293496809607953, 11], [2.2847319317591723, 61], [2.4698178070456938, 62], [2.7166155414412243, 31], [2.745906043549197, 86], [2.8722813232690148, 64], [3.0282007859453444, 77], [3.1272991542223774, 15], [3.1272991542223783, 53], [3.1874754901018454, 47], [3.187475490101846, 17], [3.2280024783137944, 21], [3.286335345030997, 94], [3.293933818400121, 60], [3.3674916480965473, 22], [3.3674916480965473, 36], [3.3778691508109073, 87], [3.395585369269929, 33], [3.395585369269929, 46], [3.4073450074801643, 72], [3.430743359681689, 92], [3.4496376621320683, 82], [3.4583232931581165, 91], [3.4813790371058424, 89], [3.518522417151836, 80], [3.5298725189445586, 28], [3.5298725189445586, 44], [3.54682957019364, 68], [3.551056180912941, 10], [3.591656999213594, 24], [3.59722114972099, 9], [3.59722114972099, 12], [3.606937759374287, 32], [3.640054944640259, 18], [3.641428291206625, 84], [3.6687872655688283, 35], [3.683748091278773, 27], [3.726929030716845, 41], [3.7322915213043046, 78], [3.792097045171708, 66], [3.847076812334269, 5], [3.9230090491866063, 88], [4.026164427839479, 95], [4.106093033529562, 74]])\n",
            "   55]]\n",
            "\n",
            " [[list([[0.45825756949558427, 4], [0.509901951359279, 45], [0.5196152422706634, 2], [0.5196152422706634, 29], [0.5916079783099616, 19], [0.6855654600401045, 56], [0.7141428428542851, 52], [0.7280109889280518, 49], [0.824621125123532, 67], [0.8544003745317535, 79], [0.888819441731559, 93], [0.8944271909999159, 63], [0.8999999999999998, 71], [0.91104335791443, 43], [0.9746794344808963, 96], [1.1045361017187258, 59], [1.104536101718726, 85], [1.1224972160321827, 55], [1.140175425099138, 13], [1.2369316876852983, 50], [1.2489995996796799, 75], [1.2767145334803705, 83], [1.284523257866513, 76], [1.3076696830622019, 70], [1.349073756323204, 7], [1.3638181696985858, 58], [1.3820274961085257, 65], [1.38924439894498, 1], [1.42828568570857, 57], [1.489966442575134, 73], [1.5000000000000002, 23], [1.6093476939431077, 48], [1.6613247725836147, 42], [1.7378147196982763, 97], [1.7378147196982767, 99], [1.7578395831246947, 3], [1.849324200890693, 25], [1.8574175621006714, 6], [1.886796226411321, 69], [1.9519221295943132, 51], [1.9874606914351793, 16], [2.0639767440550294, 54], [2.0760539492026697, 40], [2.1587033144922905, 0], [2.193171219946131, 37], [2.2293496809607953, 14], [2.2803508501982765, 81], [2.353720459187964, 8], [2.370653918225939, 34], [2.4186773244895647, 30], [2.4433583445741234, 38], [2.5806975801127883, 39], [2.5903667693977237, 90], [2.666458325194677, 98], [2.701851217221259, 26], [2.705549851693737, 17], [2.762245463386627, 77], [2.7766886753829643, 33], [2.778488797889961, 47], [2.817800560721074, 21], [2.8337254630609507, 60], [2.8460498941515415, 82], [2.877498913987632, 94], [2.9291637031753615, 15], [2.9376861643136762, 11], [2.956349099818897, 24], [2.9698484809834995, 12], [2.9715315916207254, 92], [2.98496231131986, 32], [2.986636904613616, 91], [2.99833287011299, 72], [3.0232432915661946, 61], [3.0298514815086235, 35], [3.0298514815086235, 36], [3.0364452901377956, 68], [3.047950130825634, 88], [3.0594117081556713, 89], [3.062678566222711, 22], [3.0708305065568178, 87], [3.0886890422961004, 66], [3.096772513440405, 27], [3.1272991542223783, 84], [3.148015247739439, 10], [3.1527765540868895, 44], [3.1543620591175014, 78], [3.159113799786263, 9], [3.179622619116929, 41], [3.2295510523910282, 20], [3.2434549480453714, 5], [3.2771939216347876, 62], [3.3196385345395663, 80], [3.3926390907374753, 46], [3.402939905434711, 28], [3.4322004603461025, 74], [3.468429039204925, 18], [3.507135583350036, 31], [3.5651086939951777, 95], [3.58747822293042, 64], [3.776241517699842, 86], [3.786819245752298, 53]])\n",
            "   52]]\n",
            "\n",
            " [[list([[0.22360679774997896, 85], [0.30000000000000027, 59], [0.5099019513592785, 50], [0.5099019513592788, 76], [0.5196152422706639, 55], [0.5291502622129183, 1], [0.5830951894845297, 70], [0.6164414002968983, 65], [0.6244997998398398, 63], [0.6480740698407859, 79], [0.6480740698407861, 83], [0.670820393249937, 58], [0.670820393249937, 73], [0.6999999999999995, 45], [0.7071067811865475, 93], [0.7211102550927979, 4], [0.7348469228349536, 48], [0.741619848709566, 13], [0.7615773105863913, 23], [0.8124038404635965, 52], [0.8426149773176357, 57], [0.8602325267042629, 2], [0.8602325267042631, 3], [0.8660254037844383, 7], [0.9273618495495711, 6], [0.9433981132056598, 97], [0.9486832980505138, 19], [0.9643650760992956, 75], [0.9746794344808963, 99], [1.0049875621120894, 69], [1.0440306508910553, 25], [1.0862780491200217, 16], [1.1045361017187258, 51], [1.216552506059644, 49], [1.224744871391589, 29], [1.296148139681572, 56], [1.2999999999999998, 42], [1.3076696830622019, 54], [1.3490737563232036, 71], [1.3490737563232043, 40], [1.4212670403551895, 14], [1.4247806848775015, 81], [1.438749456993816, 0], [1.449137674618944, 37], [1.5524174696260025, 8], [1.5556349186104048, 38], [1.6186414056238647, 90], [1.6278820596099706, 34], [1.6431676725154982, 30], [1.7349351572897476, 39], [1.8138357147217057, 26], [1.8165902124584952, 98], [1.8248287590894656, 67], [1.8601075237738276, 43], [1.8973665961010275, 96], [2.0346989949375804, 11], [2.090454496036687, 61], [2.345207879911715, 20], [2.4020824298928627, 62], [2.5903667693977237, 31], [2.683281572999748, 64], [2.7874719729532713, 86], [2.941088233970549, 53], [3.2372828112477294, 77], [3.2939338184001206, 47], [3.3000000000000003, 17], [3.312099032335839, 15], [3.4161381705077445, 21], [3.424908757908742, 94], [3.438022687534217, 60], [3.443835071544513, 33], [3.5199431813596083, 82], [3.5411862419251547, 72], [3.5411862419251547, 87], [3.5496478698597698, 92], [3.551056180912941, 22], [3.5623026261113755, 36], [3.5791060336346563, 91], [3.6318039594669758, 89], [3.6537651812890224, 68], [3.6565010597564442, 12], [3.6619666847201113, 44], [3.6646964403617392, 24], [3.685105154537656, 32], [3.6878177829171555, 46], [3.706750598570128, 10], [3.7188707963574106, 35], [3.7349698793966195, 80], [3.7509998667022106, 9], [3.769615364994153, 28], [3.7815340802378077, 27], [3.782856063875548, 84], [3.823610858861032, 41], [3.8314488121336034, 78], [3.844476557348217, 18], [3.845776904605882, 66], [3.8961519477556315, 88], [3.950949253027682, 5], [4.177319714841085, 74], [4.192851058647326, 95]])\n",
            "   70]]\n",
            "\n",
            " [[list([[0.09999999999999998, 89], [0.1414213562373093, 10], [0.14142135623730964, 92], [0.14142135623730995, 72], [0.17320508075688743, 9], [0.17320508075688762, 91], [0.22360679774997896, 68], [0.30000000000000016, 36], [0.316227766016838, 60], [0.3605551275463989, 22], [0.37416573867739383, 41], [0.37416573867739483, 87], [0.3872983346207423, 94], [0.41231056256176635, 44], [0.4358898943540679, 47], [0.45825756949558394, 21], [0.509901951359278, 78], [0.5196152422706632, 84], [0.5385164807134502, 12], [0.5385164807134504, 82], [0.5477225575051662, 33], [0.58309518948453, 27], [0.5916079783099616, 17], [0.5916079783099616, 24], [0.5916079783099616, 35], [0.6164414002968975, 77], [0.6244997998398396, 80], [0.648074069840786, 32], [0.648074069840786, 95], [0.7416198487095667, 15], [0.7681145747868601, 5], [0.8062257748298554, 28], [0.8831760866327848, 18], [0.9219544457292882, 66], [0.9949874371066197, 74], [1.1045361017187267, 46], [1.3490737563232043, 88], [2.345207879911715, 96], [2.387467277262665, 43], [2.4939927826679855, 56], [2.5806975801127883, 49], [2.703701166919155, 67], [2.8879058156387303, 29], [2.8948229652260253, 2], [2.9999999999999996, 52], [3.146426544510455, 19], [3.1527765540868895, 4], [3.228002478313795, 79], [3.3120990323358397, 45], [3.416138170507745, 55], [3.591656999213594, 71], [3.59583091927304, 59], [3.6166282640050254, 65], [3.6180105030251095, 63], [3.627671429443412, 23], [3.7, 85], [3.749666651850535, 1], [3.7682887362833544, 93], [3.7854986461495406, 73], [3.792097045171708, 76], [3.8961519477556315, 83], [4.003748243833521, 69], [4.028647415696738, 75], [4.047221268969612, 48], [4.047221268969613, 50], [4.109744517606904, 58], [4.135214625627066, 70], [4.141255848169732, 13], [4.164132562731403, 6], [4.208325082500163, 7], [4.244997055358225, 3], [4.27668095606862, 57], [4.417012565071555, 42], [4.459820624195552, 25], [4.519955751995809, 99], [4.570557952810575, 97], [4.606517122512408, 16], [4.626013402488151, 40], [4.636809247747852, 37], [4.650806381693394, 0], [4.690415759823429, 51], [4.796873982084583, 81], [4.840454524112379, 54], [4.891829923454003, 34], [4.969909455915672, 38], [5.0199601592044525, 30], [5.047771785649585, 14], [5.056678751908213, 8], [5.0970579749498635, 90], [5.121523210920752, 39], [5.2573757712379665, 98], [5.301886456724625, 26], [5.546169849544818, 11], [5.636488268416782, 61], [5.639148871948673, 20], [5.788782255362521, 62], [6.014149981501959, 86], [6.0950799830683104, 31], [6.211280061307815, 64], [6.498461356351979, 53]])\n",
            "   68]]\n",
            "\n",
            " [[list([[0.14142135623730964, 2], [0.3162277660168382, 4], [0.46904157598234286, 52], [0.4898979485566356, 19], [0.5000000000000001, 45], [0.5477225575051661, 49], [0.5477225575051661, 56], [0.5477225575051663, 79], [0.6480740698407857, 29], [0.7141428428542853, 63], [0.7416198487095667, 55], [0.8062257748298546, 59], [0.8124038404635961, 93], [0.8426149773176358, 85], [0.9899494936611664, 76], [1.0295630140987004, 65], [1.0488088481701512, 1], [1.0770329614269012, 50], [1.0954451150103321, 83], [1.1224972160321824, 43], [1.1224972160321829, 23], [1.1357816691600546, 13], [1.1357816691600546, 67], [1.1489125293076052, 71], [1.1747340124470729, 96], [1.1789826122551597, 73], [1.1916375287812984, 70], [1.19582607431014, 58], [1.2369316876852985, 75], [1.3076696830622019, 7], [1.3114877048604, 48], [1.3228756555322954, 57], [1.4899664425751342, 3], [1.5264337522473752, 69], [1.5362291495737221, 6], [1.5968719422671311, 99], [1.640121946685672, 97], [1.6401219466856722, 42], [1.652271164185831, 25], [1.7944358444926363, 16], [1.8055470085267786, 51], [1.9026297590440449, 40], [1.9416487838947598, 54], [1.969771560359221, 37], [1.9924858845171276, 0], [2.056696380120314, 81], [2.1023796041628637, 14], [2.211334438749598, 34], [2.2113344387495983, 8], [2.2360679774997902, 38], [2.2494443758403984, 30], [2.349468024894146, 90], [2.381176179958132, 39], [2.485960578931211, 98], [2.503996805109783, 26], [2.6419689627245813, 77], [2.6551836094703507, 17], [2.662705391138869, 47], [2.7386127875258306, 11], [2.747726332806817, 15], [2.749545416973504, 33], [2.7513632984395207, 21], [2.7712812921102032, 60], [2.773084924772409, 94], [2.826658805020514, 61], [2.8301943396169813, 82], [2.8948229652260253, 92], [2.9017236257093817, 72], [2.9206163733020465, 91], [2.930870177950569, 36], [2.9359836511806394, 87], [2.947880594596735, 22], [2.9546573405388314, 12], [2.9546573405388314, 24], [2.978254522367086, 89], [2.981610303175115, 68], [2.989983277545211, 32], [3.009983388658482, 20], [3.0215889859476257, 35], [3.031501278244824, 44], [3.064310689208912, 62], [3.0659419433511785, 10], [3.0903074280724887, 9], [3.0919249667480613, 27], [3.1064449134018135, 84], [3.1320919526731648, 66], [3.136877428271624, 41], [3.1400636936215163, 78], [3.1432467291003423, 88], [3.1733263305244854, 80], [3.184336665618132, 46], [3.2264531609803355, 28], [3.257299494980466, 5], [3.2863353450309964, 18], [3.3120990323358384, 31], [3.402939905434711, 64], [3.468429039204925, 74], [3.5000000000000004, 86], [3.52703841770968, 95], [3.6373066958946425, 53]])\n",
            "   56]]\n",
            "\n",
            " [[list([[0.1414213562373093, 82], [0.17320508075688812, 32], [0.22360679774997935, 27], [0.30000000000000004, 78], [0.31622776601683805, 24], [0.31622776601683805, 35], [0.31622776601683805, 84], [0.3464101615137758, 12], [0.3605551275463989, 33], [0.3741657386773938, 17], [0.37416573867739383, 91], [0.374165738677394, 68], [0.4123105625617658, 60], [0.42426406871192845, 5], [0.45825756949558344, 92], [0.4690415759823431, 66], [0.5, 41], [0.5291502622129179, 9], [0.5385164807134504, 10], [0.5477225575051657, 89], [0.5830951894845299, 21], [0.5916079783099616, 72], [0.6782329983125266, 36], [0.678232998312527, 74], [0.7211102550927972, 22], [0.7280109889280519, 95], [0.7348469228349536, 47], [0.761577310586391, 94], [0.8062257748298544, 77], [0.8660254037844388, 87], [0.9055385138137414, 44], [0.9746794344808967, 88], [1.039230484541326, 80], [1.1747340124470729, 15], [1.296148139681572, 28], [1.4177446878757822, 18], [1.5779733838059502, 46], [2.0518284528683193, 96], [2.1047565179849186, 43], [2.368543856465402, 56], [2.4041630560342617, 67], [2.471841418861655, 49], [2.68886593194975, 29], [2.7838821814150108, 2], [2.8827070610799144, 52], [3.004995840263344, 4], [3.014962686336267, 19], [3.1368774282716245, 45], [3.1511902513177463, 79], [3.3451457367355464, 71], [3.388214869219483, 55], [3.5242020373412193, 63], [3.527038417709679, 59], [3.6041642581880198, 65], [3.6193922141707713, 85], [3.645545226711637, 23], [3.653765181289022, 93], [3.729611239794303, 1], [3.7536648758246915, 76], [3.760319135392633, 73], [3.8118237105091834, 83], [3.88587184554509, 75], [3.9534794801541593, 50], [3.9924929555354254, 13], [4.018706259482023, 70], [4.031128874149275, 48], [4.032369030731191, 58], [4.042276586281547, 69], [4.074309757492672, 7], [4.174925149029621, 6], [4.183300132670377, 57], [4.224926034855521, 3], [4.296510211788166, 42], [4.4136152981427825, 25], [4.440720662234903, 99], [4.445222154178573, 97], [4.546427168667722, 16], [4.581484475582123, 40], [4.59782557302906, 0], [4.605431575867781, 51], [4.637887450122092, 37], [4.760252094164762, 54], [4.78539444560216, 81], [4.841487374764081, 34], [4.942671342502958, 38], [4.968903299521937, 14], [4.984977432245807, 30], [4.991993589739473, 8], [5.08822169328342, 90], [5.104899607240087, 39], [5.225897052181568, 98], [5.282045058497703, 26], [5.530822723609933, 11], [5.612486080160911, 61], [5.6524331044250316, 20], [5.805170109479997, 62], [6.072890580275591, 86], [6.087692502089769, 31], [6.197580172938467, 64], [6.469930447848725, 53]])\n",
            "   84]]\n",
            "\n",
            " [[list([[0.3872983346207412, 96], [0.3872983346207416, 43], [0.7211102550927979, 67], [0.7937253933193776, 56], [0.9, 49], [0.9746794344808963, 29], [1.161895003862225, 2], [1.3228756555322951, 52], [1.3304134695650072, 4], [1.3820274961085255, 19], [1.4628738838327797, 45], [1.5779733838059504, 79], [1.6278820596099706, 71], [1.7088007490635062, 17], [1.7406895185529212, 33], [1.794435844492636, 21], [1.794435844492636, 82], [1.8083141320025122, 60], [1.841195263952197, 77], [1.8439088914585775, 47], [1.8654758106177634, 63], [1.881488772222678, 24], [1.8920887928424504, 55], [1.9078784028338915, 94], [1.9131126469708992, 12], [1.915724406066802, 32], [1.9261360284258224, 93], [1.9672315572906003, 92], [1.969771560359221, 91], [1.9748417658131496, 59], [1.97484176581315, 35], [1.9824227601599007, 88], [2.004993765576342, 66], [2.004993765576342, 68], [2.0174241001832014, 72], [2.0273134932713295, 27], [2.0346989949375804, 85], [2.0445048300260873, 36], [2.04939015319192, 89], [2.0639767440550294, 84], [2.085665361461421, 78], [2.0928449536456353, 15], [2.1118712081942874, 22], [2.1307275752662513, 9], [2.1330729007701543, 41], [2.142428528562855, 10], [2.1424285285628555, 65], [2.1424285285628555, 87], [2.1633307652783933, 5], [2.181742422927143, 75], [2.1840329667841556, 76], [2.188606862823929, 83], [2.2045407685048604, 44], [2.2293496809607958, 23], [2.2383029285599387, 1], [2.249444375840399, 13], [2.282542442102666, 50], [2.2847319317591728, 73], [2.345207879911715, 74], [2.3473389188611002, 70], [2.362202362203543, 7], [2.3622023622035435, 58], [2.4124676163629633, 80], [2.4657656011875906, 57], [2.503996805109783, 95], [2.511971337416094, 48], [2.533771891863986, 28], [2.5845695966640165, 42], [2.590366769397724, 46], [2.6057628441590768, 18], [2.6608269391300143, 69], [2.6776855677991773, 3], [2.7147743920996463, 6], [2.7676705006196096, 99], [2.803569153775237, 97], [2.8035691537752374, 25], [2.9647934160747194, 16], [2.974894956128703, 51], [2.98496231131986, 40], [3.0364452901377956, 0], [3.0740852297878796, 37], [3.0886890422961, 54], [3.218695387886217, 81], [3.271085446759225, 34], [3.3000000000000003, 14], [3.3555923471125038, 8], [3.371943060017473, 30], [3.389690251335659, 38], [3.5298725189445586, 39], [3.570714214271425, 90], [3.6373066958946425, 98], [3.695943722515266, 26], [3.9534794801541593, 11], [4.047221268969612, 61], [4.146082488325576, 20], [4.249705872175156, 62], [4.523273151159456, 31], [4.620606020859169, 64], [4.679743582719037, 86], [4.839421453025144, 53]])\n",
            "   2]]\n",
            "\n",
            " [[list([[0.17320508075688784, 12], [0.1732050807568881, 82], [0.17320508075688812, 35], [0.19999999999999993, 33], [0.26457513110645875, 68], [0.2645751311064593, 24], [0.31622776601683805, 78], [0.3162277660168386, 32], [0.3316624790355397, 91], [0.3464101615137754, 41], [0.3464101615137761, 27], [0.3741657386773936, 92], [0.4472135954999578, 60], [0.4795831523312723, 84], [0.4999999999999996, 89], [0.49999999999999983, 9], [0.5099019513592783, 72], [0.5196152422706631, 17], [0.529150262212918, 10], [0.5567764362830022, 5], [0.5567764362830023, 66], [0.6244997998398397, 47], [0.6557438524302, 21], [0.6557438524302001, 94], [0.6999999999999998, 36], [0.7280109889280523, 74], [0.7416198487095659, 22], [0.7549834435270747, 44], [0.7745966692414836, 95], [0.7874007874011811, 87], [0.8831760866327844, 77], [0.9380831519646863, 88], [1.0440306508910546, 80], [1.0999999999999996, 15], [1.260952021291849, 28], [1.3114877048603997, 18], [1.5556349186104046, 46], [2.1307275752662513, 96], [2.16794833886788, 43], [2.3874672772626644, 56], [2.4556058315617353, 67], [2.5258661880630173, 49], [2.7748873851023212, 29], [2.817800560721074, 2], [2.949576240750525, 52], [3.0133038346638727, 19], [3.0626785662227105, 4], [3.1984371183438953, 45], [3.2031234756093934, 79], [3.4014702703389896, 55], [3.4525353003264136, 71], [3.52845575287547, 63], [3.5707142142714243, 59], [3.6359317925395684, 65], [3.6523964735499352, 23], [3.661966684720111, 85], [3.6687872655688283, 93], [3.738983819167983, 1], [3.7709415269929596, 76], [3.8065732621348563, 73], [3.8729833462074166, 83], [3.968626966596886, 75], [3.97994974842648, 50], [4.028647415696738, 13], [4.034848200366402, 48], [4.043513323831146, 69], [4.070626487409524, 58], [4.071854614300467, 70], [4.143669871020132, 7], [4.1856899072912706, 6], [4.220189569201838, 57], [4.249705872175156, 3], [4.376071297408212, 42], [4.457577817604534, 25], [4.4821869662029945, 99], [4.493328387732194, 97], [4.59782557302906, 16], [4.641120554348917, 40], [4.658325879540846, 51], [4.6690470119715, 37], [4.672258554489467, 0], [4.811444689487764, 54], [4.817675788178362, 81], [4.914264950122245, 34], [4.991993589739474, 38], [4.99799959983992, 14], [5.033885179461287, 30], [5.046781152378217, 8], [5.102940328869229, 90], [5.146843692983108, 39], [5.274466797696237, 98], [5.3113086899558, 26], [5.544366510251644, 11], [5.632938842203064, 61], [5.697367813297645, 20], [5.818075283115542, 62], [6.091797764207214, 86], [6.108191221630181, 31], [6.211280061307813, 64], [6.487680633323437, 53]])\n",
            "   78]]\n",
            "\n",
            " [[list([[0.33166247903553986, 15], [0.3464101615137753, 87], [0.3741657386773947, 77], [0.38729833462074226, 22], [0.41231056256176646, 36], [0.45825756949558394, 80], [0.4795831523312721, 28], [0.529150262212918, 72], [0.5385164807134504, 94], [0.5385164807134505, 47], [0.5916079783099619, 89], [0.6082762530298218, 44], [0.608276253029822, 21], [0.6164414002968979, 10], [0.6164414002968979, 46], [0.6480740698407862, 60], [0.6480740698407863, 92], [0.6782329983125266, 18], [0.7000000000000001, 9], [0.7000000000000002, 91], [0.8062257748298551, 68], [0.8306623862918079, 17], [0.9695359714832658, 41], [0.9949874371066205, 84], [1.0099504938362078, 33], [1.0246950765959602, 82], [1.0862780491200215, 78], [1.0908712114635715, 12], [1.1224972160321829, 27], [1.1224972160321829, 95], [1.1269427669584646, 24], [1.1618950038622253, 35], [1.1661903789690604, 32], [1.2999999999999998, 5], [1.4594519519326423, 66], [1.5716233645501714, 74], [1.881488772222678, 88], [2.3194827009486403, 56], [2.328089345364563, 96], [2.3366642891095846, 49], [2.3748684174075834, 43], [2.660826939130014, 2], [2.705549851693737, 29], [2.7147743920996454, 67], [2.7239676943752467, 52], [2.9189039038652846, 79], [2.9223278392404914, 4], [2.983286778035259, 19], [3.0935416596516037, 55], [3.10322412983658, 45], [3.246536616149585, 65], [3.258834147360065, 23], [3.2726136343907135, 59], [3.38673884437522, 63], [3.3896902513356584, 85], [3.407345007480164, 73], [3.4146742157927736, 1], [3.4263683398023628, 71], [3.4698703145794942, 76], [3.5468295701936396, 93], [3.569313659514949, 83], [3.6124783736376886, 69], [3.7121422386541165, 48], [3.748332962798263, 75], [3.770941526992961, 50], [3.786819245752298, 6], [3.8013155617496426, 58], [3.8470768123342687, 70], [3.883297567789519, 3], [3.9179076048319463, 13], [3.9255572852781038, 7], [3.9887341350358256, 57], [4.102438299353203, 25], [4.114608122288196, 42], [4.201190307520001, 99], [4.24735211631906, 16], [4.249705872175155, 37], [4.249705872175156, 40], [4.264973622427225, 0], [4.288356328478312, 97], [4.356604182158392, 51], [4.412482294582042, 81], [4.502221673796171, 34], [4.506661735697499, 54], [4.57602447545902, 38], [4.641120554348917, 30], [4.697871858618538, 8], [4.722287581247038, 90], [4.727578661429125, 39], [4.734976240700686, 14], [4.868264577855234, 98], [4.922397789695586, 26], [5.1788029504896205, 11], [5.205766033928147, 20], [5.265928218272634, 61], [5.3916602266834275, 62], [5.5596762495670555, 86], [5.705260730238364, 31], [5.8360945845659495, 64], [6.134329629226, 53]])\n",
            "   28]]\n",
            "\n",
            " [[list([[0.3464101615137758, 56], [0.5099019513592784, 2], [0.6, 49], [0.6164414002968975, 19], [0.6164414002968975, 29], [0.6480740698407862, 43], [0.66332495807108, 4], [0.6708203932499369, 67], [0.7211102550927978, 96], [0.7549834435270751, 45], [0.7874007874011809, 52], [1.009950493836208, 79], [1.1090536506409416, 63], [1.1916375287812984, 93], [1.2247448713915887, 71], [1.2288205727444508, 55], [1.2999999999999996, 59], [1.330413469565007, 85], [1.4899664425751336, 76], [1.4933184523068077, 13], [1.5297058540778354, 50], [1.5297058540778357, 65], [1.536229149573721, 1], [1.568438714135812, 83], [1.6062378404209015, 23], [1.6155494421403513, 75], [1.6309506430300085, 70], [1.676305461424021, 73], [1.6763054614240211, 58], [1.7175564037317663, 7], [1.7748239349298844, 57], [1.7944358444926358, 48], [1.9949937343260002, 3], [2.012461179749811, 69], [2.034698994937581, 6], [2.042057785666213, 42], [2.042057785666213, 97], [2.0663978319771825, 99], [2.147091055358389, 25], [2.2671568097509267, 51], [2.2759613353482084, 16], [2.317326045251294, 17], [2.3769728648009427, 47], [2.3790754506740637, 33], [2.3874672772626644, 40], [2.3916521486202797, 77], [2.4062418831031924, 54], [2.4535688292770597, 60], [2.455605831561735, 21], [2.4556058315617353, 82], [2.463736998950984, 0], [2.4698178070456938, 37], [2.4919871588754225, 94], [2.5475478405713994, 15], [2.5495097567963922, 14], [2.559296778413946, 81], [2.574878637916747, 24], [2.5768197453450252, 92], [2.5787593916455256, 12], [2.5942243542145698, 91], [2.6038433132583076, 32], [2.6038433132583076, 72], [2.6362852652928135, 35], [2.6438608132804573, 68], [2.655183609470351, 36], [2.673948391424188, 89], [2.677685567799177, 22], [2.679552201394853, 87], [2.68514431641951, 34], [2.6851443164195103, 8], [2.6944387170614963, 88], [2.7166155414412256, 27], [2.7184554438136375, 66], [2.7313000567495327, 38], [2.7386127875258306, 30], [2.7549954627911823, 84], [2.7586228448267445, 44], [2.7604347483684526, 10], [2.771281292110204, 78], [2.7766886753829643, 9], [2.7892651361962706, 41], [2.831960451701259, 90], [2.8722813232690148, 5], [2.879236009777594, 39], [2.9376861643136762, 80], [2.9765752132274432, 98], [2.9949958263743874, 26], [3.0282007859453444, 28], [3.039736830714133, 46], [3.0610455730027937, 74], [3.0886890422961004, 18], [3.190611226708764, 95], [3.215587038162705, 11], [3.2999999999999994, 61], [3.512833614050059, 20], [3.5566838487557475, 62], [3.793415347678131, 31], [3.872983346207417, 64], [4.001249804748512, 86], [4.1000000000000005, 53]])\n",
            "   4]]\n",
            "\n",
            " [[list([[0.20000000000000018, 55], [0.34641016151377546, 59], [0.3872983346207415, 79], [0.42426406871192895, 85], [0.45825756949558427, 65], [0.47958315233127174, 76], [0.4999999999999995, 1], [0.5567764362830023, 23], [0.608276253029822, 2], [0.6164414002968978, 63], [0.6403124237432852, 4], [0.6403124237432855, 52], [0.6480740698407862, 73], [0.7416198487095663, 83], [0.7549834435270747, 93], [0.7549834435270754, 50], [0.7745966692414836, 45], [0.793725393319377, 48], [0.8124038404635964, 58], [0.8426149773176356, 19], [0.8999999999999998, 70], [0.9219544457292889, 49], [0.9486832980505139, 69], [0.9539392014169458, 3], [0.964365076099296, 6], [1.0099504938362078, 57], [1.0295630140987, 13], [1.0344080432788598, 56], [1.0954451150103321, 7], [1.0999999999999999, 29], [1.1045361017187267, 75], [1.1832159566199234, 25], [1.2, 99], [1.3304134695650072, 16], [1.3416407864998736, 97], [1.3964240043768938, 51], [1.4212670403551895, 42], [1.431782106327635, 71], [1.4594519519326423, 40], [1.4730919862656233, 37], [1.5427248620541512, 54], [1.5427248620541518, 81], [1.5684387141358125, 0], [1.7000000000000002, 43], [1.705872210923198, 14], [1.7262676501632068, 67], [1.7349351572897476, 38], [1.7406895185529208, 96], [1.7776388834631176, 34], [1.7776388834631178, 8], [1.786057109949175, 30], [1.8303005217723125, 90], [1.881488772222678, 39], [2.002498439450079, 98], [2.0049937655763426, 26], [2.2472205054244228, 11], [2.336664289109584, 61], [2.483948469674844, 20], [2.5495097567963922, 62], [2.810693864511039, 31], [2.9171904291629644, 64], [2.9308701779505695, 77], [2.9325756597230366, 86], [2.969848480983499, 15], [2.976575213227443, 47], [3.0298514815086235, 17], [3.0886890422961, 94], [3.095157508108432, 21], [3.128897569432403, 60], [3.1543620591175006, 33], [3.178049716414141, 53], [3.2140317359976396, 87], [3.2264531609803355, 72], [3.24037034920393, 36], [3.24037034920393, 82], [3.241913015489466, 92], [3.243454948045371, 22], [3.277193921634788, 91], [3.3136083051561784, 89], [3.3256578296631782, 44], [3.3391615714128, 46], [3.3496268448888453, 68], [3.3645207682521443, 12], [3.3734255586866, 24], [3.398529093593286, 10], [3.4132096331752027, 32], [3.4234485537247377, 80], [3.4351128074635335, 9], [3.435112807463534, 28], [3.438022687534217, 35], [3.491418050019218, 18], [3.4957116585897072, 84], [3.5028559776273993, 27], [3.5142566781611158, 41], [3.5425979167836705, 78], [3.5860842154082215, 66], [3.640054944640259, 88], [3.67967389859482, 5], [3.892300091205713, 95], [3.9115214431215892, 74]])\n",
            "   1]]\n",
            "\n",
            " [[list([[0.1732050807568884, 52], [0.22360679774997896, 4], [0.3000000000000001, 79], [0.3872983346207417, 2], [0.42426406871192857, 45], [0.5830951894845293, 59], [0.6082762530298221, 49], [0.6244997998398398, 29], [0.6480740698407856, 85], [0.7071067811865477, 55], [0.8185352771872451, 56], [0.8426149773176356, 19], [0.8426149773176356, 83], [0.842614977317636, 65], [0.8717797887081346, 63], [0.9219544457292883, 76], [0.9273618495495702, 73], [0.9327379053088812, 93], [0.9848857801796098, 1], [1.0, 75], [1.0148891565092215, 70], [1.0246950765959595, 71], [1.0246950765959597, 50], [1.044030650891055, 23], [1.067707825203131, 58], [1.1045361017187254, 7], [1.1224972160321822, 13], [1.2328828005937948, 57], [1.2609520212918488, 48], [1.3228756555322958, 43], [1.3379088160259653, 96], [1.345362404707371, 3], [1.3711309200802089, 67], [1.4177446878757827, 6], [1.4282856857085695, 42], [1.4282856857085697, 69], [1.4491376746189435, 99], [1.4628738838327793, 25], [1.489966442575133, 97], [1.571623364550171, 16], [1.6031219541881392, 51], [1.6703293088490063, 40], [1.7146428199482247, 0], [1.7606816861659005, 54], [1.8138357147217052, 37], [1.886796226411321, 81], [1.9442222095223574, 34], [1.9924858845171272, 14], [2.0049937655763417, 8], [2.012461179749811, 38], [2.051828452868319, 30], [2.1863211109075444, 39], [2.2158519806160335, 90], [2.2781571499789033, 98], [2.345207879911715, 26], [2.621068484416231, 11], [2.68700576850888, 61], [2.696293752542553, 77], [2.749545416973504, 17], [2.791057147390572, 20], [2.792848008753788, 47], [2.8390139133156778, 15], [2.8460498941515415, 21], [2.882707061079915, 60], [2.90516780926679, 94], [2.91032644217105, 33], [2.9359836511806394, 62], [2.9698484809835, 82], [3.0166206257996717, 36], [3.018277654557314, 72], [3.018277654557314, 92], [3.023243291566195, 22], [3.0380915061926625, 87], [3.039736830714133, 91], [3.0919249667480617, 89], [3.108054053584011, 24], [3.1144823004794877, 12], [3.1144823004794877, 68], [3.1224989991991996, 32], [3.165438358268882, 31], [3.1654383582688834, 44], [3.1670175244226235, 10], [3.178049716414141, 35], [3.203123475609394, 9], [3.209361307176243, 84], [3.217141588429083, 27], [3.217141588429083, 46], [3.2280024783137944, 80], [3.272613634390715, 78], [3.277193921634788, 66], [3.278719262151, 64], [3.2832910318764013, 28], [3.2848135411313684, 41], [3.3136083051561784, 86], [3.348133808556642, 88], [3.3763886032268267, 5], [3.3808283008753937, 18], [3.518522417151836, 53], [3.6083237105337433, 74], [3.6262928728937496, 95]])\n",
            "   49]]\n",
            "\n",
            " [[list([[0.3464101615137756, 90], [0.38729833462074187, 26], [0.43588989435406733, 61], [0.46904157598234325, 11], [0.648074069840786, 98], [0.6557438524301997, 39], [0.6633249580710799, 38], [0.741619848709566, 81], [0.7416198487095662, 62], [0.8062257748298545, 31], [0.8124038404635959, 20], [0.8544003745317534, 8], [0.8831760866327847, 30], [0.8831760866327848, 14], [0.9486832980505137, 16], [0.9695359714832661, 64], [1.02469507659596, 54], [1.02469507659596, 86], [1.0295630140987007, 51], [1.077032961426901, 37], [1.1, 25], [1.140175425099138, 3], [1.170469991071963, 34], [1.1747340124470729, 40], [1.1789826122551597, 99], [1.183215956619923, 6], [1.2845232578665127, 0], [1.2922847983320087, 53], [1.3747727084867518, 69], [1.3747727084867527, 97], [1.3856406460551023, 48], [1.5066519173319362, 58], [1.5198684153570665, 57], [1.593737745050923, 70], [1.5968719422671311, 73], [1.61245154965971, 50], [1.6309506430300096, 1], [1.643167672515499, 76], [1.7088007490635064, 83], [1.7262676501632064, 23], [1.7262676501632068, 65], [1.7406895185529214, 7], [1.774823934929885, 85], [1.813835714721706, 42], [1.8357559750685826, 59], [1.8788294228055937, 13], [1.9672315572906003, 55], [1.9924858845171278, 75], [2.083266665599966, 93], [2.1047565179849186, 63], [2.2494443758403984, 79], [2.483948469674844, 45], [2.5099800796022267, 4], [2.5416530054277673, 52], [2.6419689627245817, 2], [2.6608269391300143, 19], [2.835489375751565, 71], [2.9427877939124327, 49], [2.9698484809834995, 29], [3.082207001484488, 56], [3.629049462324811, 67], [3.685105154537656, 43], [3.722902093797257, 96], [4.832183771339827, 15], [4.851803788283282, 77], [4.9325449820554095, 47], [5.016971197844373, 17], [5.048762224545736, 94], [5.07247474118896, 21], [5.089204259999789, 46], [5.118593556827891, 60], [5.128352561983234, 87], [5.166236541235796, 22], [5.176871642217915, 33], [5.183628073077775, 36], [5.186520991955976, 72], [5.221110992882646, 92], [5.25452186216786, 28], [5.25642464038057, 44], [5.262128846769148, 82], [5.262128846769148, 91], [5.282991576748916, 89], [5.286775955154521, 80], [5.310367218940701, 18], [5.345091205957107, 68], [5.359104402789705, 10], [5.389805191284746, 12], [5.404627646748664, 24], [5.410175597889592, 9], [5.4387498563548595, 32], [5.463515351859094, 35], [5.496362433464518, 84], [5.517245689653488, 41], [5.520869496736904, 27], [5.558776843874919, 78], [5.6258332716140815, 66], [5.695612346359257, 88], [5.7, 5], [5.87196730236128, 95], [5.945586598477901, 74]])\n",
            "   38]]\n",
            "\n",
            " [[list([[0.3464101615137753, 2], [0.3999999999999998, 79], [0.4358898943540677, 55], [0.5477225575051662, 4], [0.5477225575051662, 52], [0.6403124237432846, 59], [0.648074069840786, 49], [0.6708203932499373, 63], [0.6782329983125265, 19], [0.7141428428542852, 85], [0.7348469228349531, 56], [0.7348469228349539, 65], [0.7483314773547881, 76], [0.7549834435270748, 45], [0.7874007874011809, 1], [0.7874007874011818, 23], [0.8124038404635958, 93], [0.9165151389911674, 29], [0.9327379053088817, 73], [0.9695359714832656, 83], [0.9899494936611669, 50], [1.0535653752852743, 58], [1.0677078252031311, 48], [1.1489125293076055, 70], [1.1874342087037917, 13], [1.2124355652982146, 69], [1.2206555615733703, 57], [1.2449899597988734, 75], [1.2489995996796799, 3], [1.2569805089976542, 6], [1.2922847983320083, 7], [1.3928388277184114, 71], [1.42828568570857, 43], [1.4594519519326428, 25], [1.4662878298615178, 99], [1.4764823060233394, 96], [1.4798648586948737, 67], [1.5842979517754856, 42], [1.6155494421403507, 97], [1.6370705543744901, 16], [1.691153452528776, 51], [1.7146428199482244, 40], [1.7146428199482249, 37], [1.8138357147217052, 54], [1.824828759089466, 0], [1.8248287590894665, 81], [1.9849433241279208, 14], [2.034698994937581, 38], [2.0420577856662137, 34], [2.0542638584174138, 30], [2.0615528128088303, 8], [2.1400934559032696, 90], [2.165640782770772, 39], [2.293468988235943, 98], [2.3000000000000003, 26], [2.541653005427767, 11], [2.643860813280457, 61], [2.6870057685088806, 77], [2.7110883423451915, 47], [2.729468812791236, 15], [2.7694764848252458, 17], [2.7748873851023212, 20], [2.8124722220850464, 94], [2.819574435974337, 21], [2.8301943396169813, 62], [2.853068523537421, 60], [2.86705423736629, 33], [2.958039891549808, 82], [2.9597297173897483, 72], [2.9597297173897483, 87], [2.9698484809834995, 92], [2.978254522367086, 36], [2.9949958263743874, 22], [3.004995840263344, 91], [3.0413812651491097, 89], [3.0577769702841313, 44], [3.0708305065568178, 68], [3.0740852297878796, 12], [3.0805843601498726, 24], [3.112876483254676, 31], [3.1272991542223783, 46], [3.1304951684997055, 32], [3.1336879231984796, 10], [3.151190251317746, 35], [3.1606961258558215, 9], [3.1921779399024732, 80], [3.2078029864690882, 28], [3.215587038162706, 64], [3.2202484376209237, 84], [3.221800738717403, 27], [3.2280024783137944, 41], [3.23882694814033, 86], [3.2526911934581184, 18], [3.258834147360065, 78], [3.2969683043669074, 66], [3.331666249791536, 88], [3.3985290935932855, 5], [3.465544690232692, 53], [3.6193922141707717, 95], [3.6235341863986874, 74]])\n",
            "   49]]\n",
            "\n",
            " [[list([[0.17320508075688784, 12], [0.1732050807568881, 82], [0.17320508075688812, 35], [0.19999999999999993, 33], [0.26457513110645875, 68], [0.2645751311064593, 24], [0.31622776601683805, 78], [0.3162277660168386, 32], [0.3316624790355397, 91], [0.3464101615137754, 41], [0.3464101615137761, 27], [0.3741657386773936, 92], [0.4472135954999578, 60], [0.4795831523312723, 84], [0.4999999999999996, 89], [0.49999999999999983, 9], [0.5099019513592783, 72], [0.5196152422706631, 17], [0.529150262212918, 10], [0.5567764362830022, 5], [0.5567764362830023, 66], [0.6244997998398397, 47], [0.6557438524302, 21], [0.6557438524302001, 94], [0.6999999999999998, 36], [0.7280109889280523, 74], [0.7416198487095659, 22], [0.7549834435270747, 44], [0.7745966692414836, 95], [0.7874007874011811, 87], [0.8831760866327844, 77], [0.9380831519646863, 88], [1.0440306508910546, 80], [1.0999999999999996, 15], [1.260952021291849, 28], [1.3114877048603997, 18], [1.5556349186104046, 46], [2.1307275752662513, 96], [2.16794833886788, 43], [2.3874672772626644, 56], [2.4556058315617353, 67], [2.5258661880630173, 49], [2.7748873851023212, 29], [2.817800560721074, 2], [2.949576240750525, 52], [3.0133038346638727, 19], [3.0626785662227105, 4], [3.1984371183438953, 45], [3.2031234756093934, 79], [3.4014702703389896, 55], [3.4525353003264136, 71], [3.52845575287547, 63], [3.5707142142714243, 59], [3.6359317925395684, 65], [3.6523964735499352, 23], [3.661966684720111, 85], [3.6687872655688283, 93], [3.738983819167983, 1], [3.7709415269929596, 76], [3.8065732621348563, 73], [3.8729833462074166, 83], [3.968626966596886, 75], [3.97994974842648, 50], [4.028647415696738, 13], [4.034848200366402, 48], [4.043513323831146, 69], [4.070626487409524, 58], [4.071854614300467, 70], [4.143669871020132, 7], [4.1856899072912706, 6], [4.220189569201838, 57], [4.249705872175156, 3], [4.376071297408212, 42], [4.457577817604534, 25], [4.4821869662029945, 99], [4.493328387732194, 97], [4.59782557302906, 16], [4.641120554348917, 40], [4.658325879540846, 51], [4.6690470119715, 37], [4.672258554489467, 0], [4.811444689487764, 54], [4.817675788178362, 81], [4.914264950122245, 34], [4.991993589739474, 38], [4.99799959983992, 14], [5.033885179461287, 30], [5.046781152378217, 8], [5.102940328869229, 90], [5.146843692983108, 39], [5.274466797696237, 98], [5.3113086899558, 26], [5.544366510251644, 11], [5.632938842203064, 61], [5.697367813297645, 20], [5.818075283115542, 62], [6.091797764207214, 86], [6.108191221630181, 31], [6.211280061307813, 64], [6.487680633323437, 53]])\n",
            "   78]]\n",
            "\n",
            " [[list([[0.1732050807568884, 52], [0.33166247903554, 4], [0.36055512754639907, 79], [0.43588989435406733, 2], [0.48989794855663565, 45], [0.5999999999999993, 59], [0.62449979983984, 49], [0.6782329983125265, 85], [0.6855654600401044, 29], [0.721110255092798, 55], [0.8306623862918076, 56], [0.842614977317636, 65], [0.8999999999999998, 19], [0.8999999999999998, 83], [0.9273618495495702, 73], [0.9486832980505138, 63], [0.9643650760992951, 76], [0.9949874371066193, 1], [1.0344080432788598, 93], [1.044030650891055, 23], [1.0723805294763604, 70], [1.086278049120022, 75], [1.0908712114635715, 50], [1.1090536506409414, 71], [1.1401754250991378, 58], [1.1832159566199227, 7], [1.2083045973594568, 13], [1.2845232578665124, 48], [1.3190905958272916, 57], [1.3527749258468686, 43], [1.3601470508735445, 96], [1.3747727084867518, 3], [1.4212670403551895, 69], [1.4212670403551897, 67], [1.4247806848775009, 6], [1.5099668870541498, 25], [1.5099668870541498, 99], [1.5165750888103098, 42], [1.523154621172781, 97], [1.5968719422671311, 16], [1.6401219466856718, 51], [1.7175564037317665, 40], [1.7492855684535902, 0], [1.8165902124584947, 54], [1.8627936010197155, 37], [1.9235384061671348, 81], [1.9798989873223325, 34], [2.0371548787463363, 38], [2.0420577856662137, 14], [2.0493901531919194, 8], [2.0999999999999996, 30], [2.222611077089287, 39], [2.229349680960795, 90], [2.3130067012440754, 98], [2.3790754506740637, 26], [2.6324893162176366, 77], [2.65141471671257, 11], [2.6944387170614963, 17], [2.709243436828813, 61], [2.7386127875258306, 47], [2.7748873851023212, 15], [2.8035691537752374, 21], [2.8124722220850464, 20], [2.8372521918222215, 60], [2.8600699292150185, 94], [2.8722813232690143, 33], [2.9291637031753623, 82], [2.9597297173897488, 22], [2.963106478005811, 36], [2.964793416074719, 72], [2.968164415931166, 92], [2.969848480983499, 62], [2.978254522367086, 87], [2.989983277545211, 91], [3.0430248109405884, 89], [3.0692018506445615, 68], [3.07571129984594, 24], [3.0789608636681307, 12], [3.083828789021855, 32], [3.1128764832546763, 10], [3.1144823004794877, 44], [3.1400636936215167, 35], [3.144837038703278, 46], [3.1559467676119, 80], [3.1559467676119004, 9], [3.1654383582688834, 84], [3.1764760348537187, 27], [3.190611226708763, 31], [3.2124756808418025, 28], [3.232645975048923, 78], [3.2449961479175906, 41], [3.2465366161495854, 66], [3.306055050963308, 64], [3.3105890714493698, 86], [3.3181320046074116, 18], [3.3376638536557275, 5], [3.3391615714128005, 88], [3.558089374931439, 53], [3.5749125863438955, 74], [3.5791060336346563, 95]])\n",
            "   49]]\n",
            "\n",
            " [[list([[0.14142135623730995, 23], [0.24494897427831722, 1], [0.2645751311064587, 55], [0.31622776601683755, 65], [0.31622776601683755, 76], [0.4898979485566353, 48], [0.5385164807134502, 59], [0.5385164807134506, 69], [0.556776436283002, 73], [0.5916079783099616, 85], [0.6000000000000003, 6], [0.6782329983125266, 3], [0.7348469228349528, 79], [0.7681145747868608, 58], [0.768114574786861, 63], [0.7745966692414833, 50], [0.8246211251235317, 83], [0.9055385138137412, 93], [0.9746794344808961, 57], [0.9899494936611658, 70], [1.004987562112089, 25], [1.0099504938362078, 2], [1.0488088481701519, 52], [1.0677078252031311, 4], [1.0908712114635708, 99], [1.1489125293076055, 19], [1.170469991071962, 13], [1.183215956619923, 37], [1.1874342087037915, 45], [1.1916375287812981, 16], [1.2124355652982135, 7], [1.2609520212918495, 81], [1.284523257866513, 75], [1.2884098726725126, 49], [1.303840481040529, 51], [1.3038404810405293, 40], [1.3601470508735438, 97], [1.3928388277184118, 56], [1.417744687875782, 54], [1.459451951932642, 0], [1.473091986265623, 42], [1.5099668870541498, 38], [1.5165750888103098, 29], [1.5362291495737213, 90], [1.5427248620541507, 14], [1.5684387141358116, 30], [1.615549442140351, 8], [1.6217274740226855, 39], [1.640121946685672, 34], [1.7291616465790582, 26], [1.772004514666935, 98], [1.7999999999999992, 71], [1.954482028569206, 11], [2.066397831977182, 61], [2.1023796041628637, 43], [2.128379665379276, 67], [2.1494185260204675, 96], [2.1954498400100144, 20], [2.2158519806160335, 62], [2.5159491250818244, 31], [2.586503431275513, 86], [2.6267851073127395, 64], [2.903446228191595, 53], [3.1543620591175006, 15], [3.184336665618132, 77], [3.214031735997639, 47], [3.3181320046074116, 94], [3.330165161069343, 17], [3.3600595232822887, 21], [3.4, 60], [3.4322004603461025, 87], [3.4409301068170506, 33], [3.472751070837068, 72], [3.4856850115866753, 36], [3.4885527085024814, 22], [3.4899856733230297, 46], [3.5014282800023193, 92], [3.536947836765479, 44], [3.539774004085572, 82], [3.5454195802471675, 91], [3.5651086939951777, 89], [3.618010503025109, 28], [3.618010503025109, 68], [3.642801120017397, 80], [3.649657518178932, 18], [3.651027252705737, 12], [3.655133376499413, 10], [3.66742416417845, 24], [3.6918829883949464, 9], [3.722902093797257, 32], [3.7322915213043046, 35], [3.778888725538237, 41], [3.7907782842049733, 84], [3.8052595180880897, 27], [3.8340579025361627, 78], [3.9102429592034307, 66], [3.964845520319802, 88], [3.9912404086950213, 5], [4.166533331199932, 95], [4.22729227756965, 74]])\n",
            "   59]]\n",
            "\n",
            " [[list([[0.10000000000000053, 87], [0.22360679774997896, 72], [0.24494897427831785, 22], [0.2828427124746191, 36], [0.31622776601683816, 89], [0.3316624790355399, 10], [0.3464101615137756, 44], [0.36055512754639923, 92], [0.37416573867739444, 47], [0.37416573867739455, 94], [0.42426406871192796, 80], [0.42426406871192845, 9], [0.42426406871192857, 91], [0.46904157598234314, 15], [0.479583152331272, 60], [0.4999999999999999, 77], [0.5099019513592786, 68], [0.5477225575051661, 21], [0.5477225575051662, 28], [0.6557438524302001, 18], [0.6557438524302001, 41], [0.7071067811865476, 17], [0.768114574786861, 33], [0.7745966692414836, 84], [0.7874007874011811, 82], [0.8062257748298548, 78], [0.812403840463596, 12], [0.8306623862918079, 46], [0.8660254037844388, 27], [0.8660254037844388, 95], [0.8717797887081349, 24], [0.8717797887081349, 35], [0.9219544457292889, 32], [1.0488088481701512, 5], [1.208304597359457, 66], [1.2884098726725126, 74], [1.6278820596099708, 88], [2.3937418407171647, 96], [2.4351591323771844, 43], [2.451530134426253, 56], [2.5199206336708304, 49], [2.7604347483684526, 67], [2.8301943396169813, 2], [2.8653097563788803, 29], [2.924038303442689, 52], [3.096772513440405, 4], [3.10322412983658, 19], [3.135283081318177, 79], [3.264965543462902, 45], [3.301514803843836, 55], [3.4856850115866753, 65], [3.488552708502482, 23], [3.4899856733230292, 59], [3.5468295701936405, 63], [3.5846896657869842, 71], [3.6000000000000005, 85], [3.6262928728937487, 1], [3.6551333764994136, 73], [3.681032463861192, 76], [3.7080992435478315, 93], [3.7986839826445156, 83], [3.849675310984032, 69], [3.923009049186606, 48], [3.961060464067672, 50], [3.9623225512317903, 75], [4.014971979976947, 58], [4.021193852576621, 6], [4.050925820105818, 70], [4.084115571332427, 13], [4.117037770047781, 3], [4.135214625627066, 7], [4.192851058647326, 57], [4.342810150121692, 42], [4.342810150121693, 25], [4.420407221060069, 99], [4.483302354291979, 97], [4.486646854834912, 16], [4.504442251822083, 37], [4.5066617356975, 40], [4.529900661162451, 0], [4.583666654546335, 51], [4.662617290749907, 81], [4.737087712930805, 54], [4.768647607026545, 34], [4.8342527861087286, 38], [4.895916665957459, 30], [4.941659640242334, 8], [4.944694126030447, 14], [4.954795656734998, 90], [4.985980344927164, 39], [5.1254268114958, 98], [5.167204273105526, 26], [5.410175597889592, 11], [5.4836119483420775, 20], [5.499090833947008, 61], [5.640921910468181, 62], [5.832666628567075, 86], [5.9497899122574065, 31], [6.070420084310476, 64], [6.367102951892642, 53]])\n",
            "   44]]\n",
            "\n",
            " [[list([[0.2828427124746188, 2], [0.3741657386773944, 4], [0.469041575982343, 52], [0.4795831523312723, 45], [0.5477225575051662, 19], [0.6000000000000001, 79], [0.6164414002968973, 56], [0.6480740698407856, 49], [0.7280109889280523, 55], [0.7483314773547879, 29], [0.7681145747868606, 59], [0.7681145747868613, 63], [0.8062257748298551, 85], [0.905538513813742, 93], [1.0, 76], [1.0099504938362076, 1], [1.0099504938362083, 65], [1.0862780491200221, 50], [1.1045361017187265, 23], [1.1224972160321824, 83], [1.1532562594670799, 73], [1.1618950038622253, 13], [1.1832159566199232, 70], [1.1999999999999997, 43], [1.22065556157337, 67], [1.2247448713915887, 71], [1.2369316876852987, 58], [1.2409673645990853, 96], [1.2884098726725126, 48], [1.3000000000000005, 75], [1.345362404707371, 7], [1.3820274961085255, 57], [1.4832396974191329, 3], [1.4866068747318508, 69], [1.5033296378372916, 6], [1.5842979517754858, 97], [1.6155494421403516, 99], [1.670329308849007, 25], [1.7233687939614086, 42], [1.7663521732655698, 16], [1.783255450012701, 51], [1.9339079605813718, 40], [1.9570385790780929, 54], [2.0074859899884734, 0], [2.0149441679609885, 37], [2.0663978319771834, 81], [2.0928449536456353, 14], [2.215851980616034, 8], [2.2226110770892875, 38], [2.2248595461286986, 34], [2.2759613353482084, 30], [2.302172886644268, 90], [2.3895606290697047, 39], [2.485960578931211, 98], [2.4959967948697375, 26], [2.626785107312739, 77], [2.640075756488817, 17], [2.6551836094703503, 47], [2.716615541441225, 11], [2.7331300737432893, 15], [2.7604347483684517, 33], [2.773084924772409, 21], [2.782085548648711, 60], [2.7874719729532704, 94], [2.787471972953271, 61], [2.837252191822221, 82], [2.8948229652260253, 92], [2.898275349237887, 72], [2.920616373302046, 91], [2.9257477676655586, 87], [2.9308701779505686, 22], [2.9342801502242417, 36], [2.971531591620725, 12], [2.9782545223670858, 24], [2.9849623113198596, 89], [2.9883105594967865, 68], [2.9999999999999996, 32], [3.0033314835362415, 20], [3.0315012782448236, 35], [3.0347981810987035, 44], [3.0626785662227105, 10], [3.0643106892089125, 62], [3.0999999999999996, 9], [3.1016124838541645, 27], [3.1160872901765764, 84], [3.144837038703277, 80], [3.1511902513177454, 66], [3.152776554086889, 41], [3.152776554086889, 78], [3.1654383582688825, 46], [3.1906112267087634, 88], [3.2046840717924128, 28], [3.2695565448543626, 5], [3.277193921634787, 18], [3.2848135411313684, 31], [3.3734255586866007, 64], [3.45108678534748, 86], [3.485685011586675, 74], [3.5355339059327373, 95], [3.62629287289375, 53]])\n",
            "   56]]\n",
            "\n",
            " [[list([[0.17320508075688787, 81], [0.34641016151377513, 30], [0.3605551275463991, 39], [0.374165738677394, 38], [0.4358898943540671, 8], [0.4358898943540671, 25], [0.45825756949558355, 54], [0.4690415759823433, 37], [0.4898979485566359, 98], [0.5000000000000001, 26], [0.5099019513592781, 16], [0.5291502622129177, 40], [0.5744562646538026, 99], [0.6, 51], [0.6480740698407861, 3], [0.6633249580710799, 14], [0.7071067811865477, 90], [0.7141428428542849, 34], [0.7549834435270746, 0], [0.8602325267042625, 6], [0.8888194417315587, 58], [0.8888194417315589, 57], [0.8944271909999161, 11], [0.9949874371066199, 61], [1.009950493836208, 48], [1.0198039027185568, 20], [1.067707825203131, 70], [1.072380529476361, 97], [1.1, 62], [1.1, 69], [1.104536101718726, 50], [1.104536101718726, 83], [1.1090536506409414, 73], [1.1357816691600549, 7], [1.1357816691600549, 42], [1.1401754250991383, 76], [1.2247448713915894, 1], [1.2489995996796797, 65], [1.2767145334803707, 85], [1.3114877048604, 23], [1.3379088160259656, 59], [1.360147050873544, 31], [1.3601470508735443, 75], [1.3747727084867518, 13], [1.5, 55], [1.5165750888103104, 64], [1.5362291495737215, 93], [1.6093476939431082, 63], [1.6340134638368198, 86], [1.691153452528776, 79], [1.723368793961409, 53], [1.96468827043885, 4], [1.9672315572906, 45], [2.0099751242241783, 52], [2.111871208194288, 2], [2.177154105707724, 19], [2.2405356502408074, 71], [2.3874672772626644, 29], [2.387467277262665, 49], [2.565151067676132, 56], [3.0740852297878796, 67], [3.1272991542223783, 43], [3.1654383582688825, 96], [4.402272140611028, 77], [4.419275958796871, 15], [4.491102314577124, 47], [4.553020975132884, 17], [4.577116996538323, 21], [4.583666654546335, 94], [4.636809247747852, 60], [4.696807426326951, 33], [4.696807426326951, 46], [4.696807426326951, 87], [4.719110085598767, 36], [4.727578661429125, 22], [4.734976240700686, 72], [4.760252094164762, 92], [4.778074926160116, 82], [4.796873982084582, 91], [4.815599651133803, 44], [4.815599651133803, 89], [4.852834223420372, 28], [4.873397172404482, 68], [4.875448697299562, 80], [4.901020301937138, 10], [4.902040391510457, 12], [4.904079934095691, 24], [4.90917508345343, 18], [4.936598018878993, 9], [4.9457052075512955, 32], [4.980963762164908, 35], [5.004997502496879, 84], [5.029910535983716, 27], [5.037856687123999, 41], [5.06951674225463, 78], [5.117616632769594, 66], [5.163332257370235, 88], [5.200961449578337, 5], [5.390732788777422, 95], [5.441507144165117, 74]])\n",
            "   54]]\n",
            "\n",
            " [[list([[0.30000000000000016, 4], [0.38729833462074165, 29], [0.3872983346207417, 2], [0.42426406871192884, 45], [0.5196152422706631, 52], [0.5744562646538026, 49], [0.6244997998398399, 56], [0.6557438524302001, 19], [0.7000000000000002, 79], [0.877496438739212, 71], [0.916515138991168, 63], [0.9165151389911681, 67], [0.9327379053088816, 93], [0.9327379053088817, 43], [0.9746794344808963, 96], [0.9899494936611661, 59], [1.0099504938362076, 85], [1.0295630140987002, 55], [1.174734012447073, 13], [1.1789826122551594, 83], [1.1832159566199234, 75], [1.22065556157337, 76], [1.2206555615733703, 50], [1.260952021291849, 70], [1.2609520212918495, 65], [1.3038404810405293, 7], [1.3152946437965902, 1], [1.319090595827292, 58], [1.3638181696985854, 73], [1.4035668847618203, 23], [1.414213562373095, 57], [1.5588457268119893, 48], [1.6124515496597096, 42], [1.6881943016134133, 3], [1.70293863659264, 99], [1.7146428199482242, 97], [1.7804493814764861, 6], [1.783255450012701, 25], [1.8, 69], [1.8999999999999997, 51], [1.915724406066802, 16], [1.997498435543818, 40], [2.0248456731316584, 54], [2.0639767440550294, 0], [2.128379665379276, 37], [2.2181073012818837, 81], [2.2203603311174516, 14], [2.284731931759172, 34], [2.3021728866442674, 8], [2.360084744241189, 30], [2.3685438564654024, 38], [2.517935662402835, 39], [2.543619468395381, 90], [2.6057628441590768, 98], [2.630589287593181, 17], [2.6570660511172846, 26], [2.658947160061666, 77], [2.7055498516937364, 47], [2.7331300737432898, 33], [2.7386127875258306, 21], [2.7622454633866265, 60], [2.7964262908219126, 82], [2.80713376952364, 94], [2.831960451701259, 15], [2.903446228191595, 92], [2.9103264421710495, 11], [2.9154759474226504, 24], [2.9189039038652846, 91], [2.924038303442689, 72], [2.929163703175362, 12], [2.9376861643136762, 32], [2.9427877939124323, 36], [2.9698484809834995, 22], [2.9765752132274437, 68], [2.98496231131986, 87], [2.986636904613616, 89], [2.9899832775452104, 61], [2.989983277545211, 35], [3.0446674695276665, 27], [3.0545048698602533, 88], [3.056141357987225, 66], [3.062678566222711, 84], [3.0708305065568178, 10], [3.0822070014844885, 44], [3.0886890422961004, 9], [3.1032241298365806, 78], [3.128897569432403, 41], [3.1543620591175006, 20], [3.1937438845342627, 5], [3.215587038162705, 80], [3.24037034920393, 62], [3.272613634390715, 46], [3.2954514106568165, 28], [3.374907406137241, 18], [3.397057550292606, 74], [3.472751070837067, 31], [3.4971416900091428, 95], [3.5651086939951777, 64], [3.70135110466435, 86], [3.7762415176998414, 53]])\n",
            "   56]]\n",
            "\n",
            " [[list([[0.22360679774997896, 83], [0.46904157598234236, 73], [0.529150262212918, 59], [0.5477225575051661, 85], [0.5477225575051669, 75], [0.6, 7], [0.6244997998398397, 70], [0.6480740698407857, 58], [0.6557438524302001, 65], [0.6999999999999998, 79], [0.7745966692414833, 25], [0.7874007874011811, 42], [0.8062257748298549, 76], [0.8366600265340756, 57], [0.854400374531753, 3], [0.8602325267042628, 0], [0.8660254037844385, 40], [0.8660254037844386, 50], [0.8660254037844388, 16], [0.8717797887081347, 99], [0.9165151389911681, 55], [0.9327379053088811, 1], [0.9327379053088819, 52], [0.9433981132056601, 51], [0.9746794344808963, 4], [0.9848857801796101, 23], [1.019803902718557, 45], [1.0535653752852738, 6], [1.0630145812734646, 48], [1.0677078252031311, 13], [1.0677078252031311, 54], [1.0954451150103317, 34], [1.0954451150103321, 97], [1.1269427669584644, 93], [1.1618950038622249, 37], [1.1747340124470729, 69], [1.174734012447073, 63], [1.1958260743101399, 2], [1.2083045973594575, 81], [1.2449899597988734, 38], [1.2489995996796797, 8], [1.2609520212918492, 71], [1.2845232578665127, 30], [1.307669683062202, 29], [1.3674794331177342, 49], [1.4352700094407325, 39], [1.4594519519326423, 14], [1.5066519173319362, 98], [1.5132745950421556, 19], [1.6522711641858305, 56], [1.6643316977093237, 90], [1.6673332000533065, 26], [2.007485989988473, 20], [2.027313493271329, 11], [2.073644135332772, 61], [2.1236760581595306, 43], [2.1283796653792764, 96], [2.1400934559032696, 67], [2.2847319317591723, 62], [2.50199920063936, 31], [2.638181191654584, 86], [2.6551836094703507, 64], [2.874021572639983, 53], [3.371943060017473, 77], [3.4957116585897072, 17], [3.501428280002319, 15], [3.5298725189445577, 47], [3.5468295701936396, 21], [3.6124783736376886, 60], [3.624913792078371, 94], [3.6945906403822333, 33], [3.7067505985701277, 36], [3.714835124201342, 22], [3.7349698793966195, 87], [3.744329045369811, 82], [3.7456641600656084, 72], [3.7589892258425004, 92], [3.7815340802378072, 91], [3.7854986461495397, 46], [3.8131351929875237, 89], [3.8652296180175374, 68], [3.880721582386451, 24], [3.880721582386451, 44], [3.8832975677895196, 80], [3.8845849199110063, 10], [3.892300091205713, 32], [3.893584466786357, 12], [3.9089640571384128, 28], [3.924283374069717, 9], [3.9420806688854046, 84], [3.96232255123179, 35], [3.976179070414209, 27], [4.02119385257662, 18], [4.031128874149275, 78], [4.04103947023535, 41], [4.057092555020159, 66], [4.1303752856126765, 5], [4.155718951036031, 88], [4.341658669218482, 95], [4.379497688091638, 74]])\n",
            "   70]]\n",
            "\n",
            " [[list([[0.0, 7], [0.31622776601683755, 75], [0.3605551275463989, 70], [0.4795831523312718, 83], [0.5099019513592784, 42], [0.5477225575051659, 58], [0.5477225575051662, 57], [0.6324555320336764, 99], [0.6782329983125268, 13], [0.6999999999999998, 50], [0.734846922834953, 85], [0.7416198487095662, 51], [0.7745966692414833, 97], [0.7745966692414836, 25], [0.8124038404635964, 54], [0.824621125123532, 59], [0.830662386291808, 16], [0.9000000000000004, 40], [0.9273618495495699, 73], [0.9486832980505139, 0], [0.9539392014169458, 76], [0.9643650760992953, 93], [0.9746794344808966, 3], [1.0344080432788596, 79], [1.0392304845413258, 45], [1.063014581273465, 65], [1.077032961426901, 8], [1.0999999999999994, 4], [1.1135528725660042, 34], [1.1180339887498942, 71], [1.122497216032182, 63], [1.1357816691600544, 1], [1.161895003862225, 48], [1.1618950038622256, 14], [1.1832159566199232, 55], [1.2124355652982144, 30], [1.2206555615733703, 52], [1.2247448713915896, 81], [1.2369316876852985, 37], [1.2529964086141672, 6], [1.2529964086141672, 38], [1.3076696830622019, 23], [1.38924439894498, 2], [1.4071247279470294, 39], [1.431782106327635, 29], [1.4317821063276355, 98], [1.449137674618944, 69], [1.519868415357066, 19], [1.5684387141358123, 26], [1.621727474022686, 90], [1.640121946685672, 49], [1.8411952639521965, 56], [1.8894443627691189, 11], [1.9339079605813716, 61], [2.032240143290158, 20], [2.121320343559642, 67], [2.2022715545545237, 43], [2.2045407685048604, 62], [2.2248595461286986, 96], [2.3706539182259396, 31], [2.4879710609249464, 64], [2.649528259898355, 53], [2.7055498516937373, 86], [3.766961640367472, 77], [3.823610858861032, 17], [3.885871845545089, 47], [3.9012818406262313, 21], [3.9166312055132275, 15], [3.9534794801541584, 60], [3.982461550347975, 94], [3.9837168574084174, 33], [4.03732584763727, 82], [4.086563348340509, 36], [4.102438299353203, 92], [4.103656905736638, 22], [4.104875150354758, 72], [4.120679555607302, 91], [4.124318125460256, 87], [4.164132562731402, 24], [4.168932717135165, 89], [4.177319714841084, 32], [4.180908992073374, 12], [4.192851058647325, 68], [4.244997055358224, 35], [4.246174749112429, 10], [4.249705872175156, 44], [4.255584566190643, 46], [4.263801121065568, 84], [4.274342054632502, 27], [4.275511665286389, 9], [4.303486958270002, 80], [4.31045241245046, 66], [4.334743360338648, 78], [4.341658669218481, 88], [4.349712634186309, 28], [4.357751713900185, 41], [4.420407221060069, 5], [4.448595283907045, 18], [4.645427859734773, 74], [4.685082710048992, 95]])\n",
            "   57]]\n",
            "\n",
            " [[list([[0.2828427124746193, 6], [0.31622776601683783, 23], [0.31622776601683833, 1], [0.3316624790355399, 69], [0.3464101615137755, 48], [0.374165738677394, 3], [0.3741657386773941, 65], [0.3741657386773946, 76], [0.4582575694955842, 73], [0.5744562646538031, 55], [0.6244997998398405, 59], [0.6403124237432855, 85], [0.6708203932499371, 58], [0.7416198487095663, 25], [0.7483314773547886, 50], [0.7745966692414836, 83], [0.8774964387392118, 99], [0.8774964387392122, 57], [0.9055385138137414, 16], [0.9055385138137415, 70], [0.9165151389911677, 37], [0.9433981132056606, 81], [0.9486832980505137, 79], [0.9643650760992958, 63], [1.0488088481701512, 40], [1.0488088481701512, 51], [1.0488088481701514, 93], [1.1357816691600546, 7], [1.1618950038622247, 54], [1.1789826122551597, 13], [1.1832159566199232, 38], [1.1958260743101397, 97], [1.212435565298214, 0], [1.2165525060596436, 90], [1.2609520212918497, 75], [1.272792206135785, 30], [1.2727922061357864, 52], [1.2884098726725124, 14], [1.288409872672513, 4], [1.2999999999999998, 39], [1.3038404810405302, 2], [1.3228756555322951, 8], [1.367479433117734, 34], [1.3674794331177345, 42], [1.3674794331177345, 45], [1.40356688476182, 26], [1.42828568570857, 19], [1.449137674618944, 98], [1.58113883008419, 49], [1.6431676725154978, 11], [1.7146428199482249, 56], [1.7464249196572974, 61], [1.7492855684535904, 29], [1.860107523773827, 20], [1.8999999999999995, 62], [1.9183326093250876, 71], [2.1886068628239284, 31], [2.2516660498395407, 86], [2.3108440016582685, 64], [2.395829710142188, 43], [2.4062418831031933, 67], [2.4372115213907883, 96], [2.5942243542145698, 53], [3.4539832078341086, 15], [3.478505426185218, 77], [3.5312887166019147, 47], [3.6373066958946425, 17], [3.6373066958946425, 94], [3.670149860700514, 21], [3.7148351242013424, 60], [3.738983819167984, 87], [3.7603191353926335, 46], [3.7682887362833544, 33], [3.786819245752298, 72], [3.7881393849751626, 22], [3.7907782842049738, 36], [3.818376618407357, 92], [3.853569773599539, 44], [3.861346915261565, 82], [3.861346915261565, 91], [3.879432948254165, 89], [3.9025632602175717, 28], [3.9306488014067096, 80], [3.9382737335030438, 68], [3.944616584663204, 18], [3.9648455203198023, 10], [3.9786932528155523, 12], [3.993745109543172, 24], [4.006245124802026, 9], [4.042276586281548, 32], [4.058324777540605, 35], [4.102438299353204, 84], [4.1036569057366385, 41], [4.123105625617661, 27], [4.154515615568198, 78], [4.232020793899766, 66], [4.298837052040936, 88], [4.306971093471606, 5], [4.476605857119878, 95], [4.548626166217664, 74]])\n",
            "   65]]\n",
            "\n",
            " [[list([[0.1999999999999998, 60], [0.264575131106459, 21], [0.3741657386773941, 92], [0.3872983346207416, 91], [0.3872983346207422, 94], [0.4123105625617662, 89], [0.4242640687119287, 72], [0.4358898943540673, 68], [0.4358898943540679, 47], [0.4472135954999577, 33], [0.45825756949558427, 36], [0.4795831523312717, 82], [0.47958315233127186, 17], [0.4999999999999999, 9], [0.5291502622129183, 10], [0.5477225575051661, 77], [0.5567764362830019, 12], [0.556776436283002, 24], [0.5916079783099616, 22], [0.5999999999999999, 41], [0.6164414002968982, 87], [0.6244997998398398, 84], [0.6480740698407855, 78], [0.648074069840786, 32], [0.6557438524302, 35], [0.6633249580710799, 27], [0.6708203932499371, 44], [0.8062257748298554, 15], [0.8660254037844379, 5], [0.9110433579144293, 66], [0.9219544457292886, 80], [0.9591663046625439, 95], [1.0723805294763613, 28], [1.1180339887498947, 74], [1.148912529307606, 18], [1.2489995996796794, 88], [1.2727922061357861, 46], [1.913112646970899, 96], [1.9544820285692062, 43], [2.083266665599966, 56], [2.1587033144922905, 49], [2.2781571499789033, 67], [2.4535688292770597, 29], [2.485960578931211, 2], [2.5961509971494334, 52], [2.7386127875258306, 4], [2.7495454169735036, 19], [2.824889378365107, 79], [2.903446228191595, 45], [3.0413812651491097, 55], [3.1559467676118995, 71], [3.210918871600464, 59], [3.2202484376209237, 63], [3.2465366161495854, 65], [3.271085446759226, 23], [3.312099032335839, 85], [3.3555923471125033, 93], [3.385262175962151, 1], [3.408812109811862, 76], [3.4132096331752027, 73], [3.4928498393145957, 83], [3.60416425818802, 75], [3.649657518178932, 50], [3.6646964403617392, 69], [3.682390527904394, 48], [3.7054014627297813, 58], [3.729611239794303, 13], [3.7336309405188937, 70], [3.7907782842049724, 7], [3.8105117766515306, 6], [3.8639358172723313, 57], [3.8704004960727256, 3], [3.9887341350358256, 42], [4.068169121361598, 25], [4.119465984809196, 99], [4.184495190581535, 97], [4.226109321823088, 16], [4.230839160261236, 40], [4.252058325093859, 37], [4.260281680828159, 0], [4.301162633521313, 51], [4.419275958796871, 81], [4.439594576084623, 54], [4.502221673796171, 34], [4.595650117230424, 38], [4.628174586162453, 30], [4.658325879540847, 14], [4.663689526544408, 8], [4.742362280551751, 39], [4.7455242070818695, 90], [4.876474136094643, 98], [4.928488612140643, 26], [5.182663407939975, 11], [5.277309920783504, 61], [5.278257288158659, 20], [5.426785420486054, 62], [5.69473440996154, 86], [5.736723803705386, 31], [5.853204250664759, 64], [6.126173356998642, 53]])\n",
            "   72]]]\n"
          ]
        },
        {
          "output_type": "stream",
          "name": "stderr",
          "text": [
            "/usr/local/lib/python3.7/dist-packages/numpy/core/_asarray.py:83: VisibleDeprecationWarning: Creating an ndarray from ragged nested sequences (which is a list-or-tuple of lists-or-tuples-or ndarrays with different lengths or shapes) is deprecated. If you meant to do this, you must specify 'dtype=object' when creating the ndarray\n",
            "  return array(a, dtype, copy=False, order=order)\n"
          ]
        }
      ]
    },
    {
      "cell_type": "markdown",
      "metadata": {
        "id": "SxcBnLl8GHWz"
      },
      "source": [
        "## Visualizing Data  \n",
        "\n",
        "We will look into something called **Voronoi** diagrams.  \n",
        "\n",
        "**Note**: Ideally, we should perform data visualization to see what the data looks like before we apply any Machine Learning algorithm.  Only for the purpose of this lab session, we're explaining it after you've applied KNN."
      ]
    },
    {
      "cell_type": "markdown",
      "metadata": {
        "id": "4aDsDfmXG79k"
      },
      "source": [
        "### Voronoi Diagrams  \n",
        "\n",
        "In simple terms, Voronoi diagrams help you to visualize the dataset by partioning the plane into regions that are close to a given set of points. These regions are also called Voronoi cells.  \n",
        "\n",
        "Note that the cells/regions depend on the Distance metric being used. One way of interpreting this is by understanding that the distance metric decides the degree to which a 'point' or 'seed' in the Voronoi diagram has influence.  For each seed there is a corresponding region, called a Voronoi cell, consisting of all points of the plane closer to that seed than to any other. \n",
        "\n",
        "This [link](https://en.wikipedia.org/wiki/Voronoi_diagram#Illustration) provides a wonderful illustration of Voronoi plots for 20 points in two cases: (1) Using Euclidean distance, and (2) Using Manhattan distance.  \n",
        "\n"
      ]
    },
    {
      "cell_type": "markdown",
      "metadata": {
        "id": "AdcdjthOKwra"
      },
      "source": [
        "Since our Iris data is 4-dimensional (as it has 4 attributes), we need to convert into a form that can be represented in 2-D.   \n",
        "\n",
        "While there are methods to visualize data higher than 2-dimensions, that is beyond scope for now.  \n",
        "\n",
        "For simplicity, we just take the first two columns of the iris dataset attributes and observe the Voronoi diagram generated for that.  \n",
        "Alternatively, one can also perform PCA (Principal Component Analysis), to reduce the 4D data to just two dimensions."
      ]
    },
    {
      "cell_type": "code",
      "metadata": {
        "id": "ZNOPcS3f7sZg",
        "cellView": "form"
      },
      "source": [
        "#@title Plotting Voronoi regions\n",
        "import matplotlib.pyplot as plt\n",
        "from scipy.spatial import Voronoi, voronoi_plot_2d\n",
        "\n",
        "def voronoi_finite_polygons_2d(vor, radius=None):\n",
        "    \"\"\"\n",
        "    Reconstruct infinite voronoi regions in a 2D diagram to finite\n",
        "    regions.\n",
        "\n",
        "    Parameters\n",
        "    ----------\n",
        "    vor : Voronoi\n",
        "        Input diagram\n",
        "    radius : float, optional\n",
        "        Distance to 'points at infinity'.\n",
        "\n",
        "    Returns\n",
        "    -------\n",
        "    regions : list of tuples\n",
        "        Indices of vertices in each revised Voronoi regions.\n",
        "    vertices : list of tuples\n",
        "        Coordinates for revised Voronoi vertices. Same as coordinates\n",
        "        of input vertices, with 'points at infinity' appended to the\n",
        "        end.\n",
        "\n",
        "    \"\"\"\n",
        "\n",
        "    if vor.points.shape[1] != 2:\n",
        "        raise ValueError(\"Requires 2D input\")\n",
        "\n",
        "    new_regions = []\n",
        "    new_vertices = vor.vertices.tolist()\n",
        "\n",
        "    center = vor.points.mean(axis=0)\n",
        "    if radius is None:\n",
        "        radius = vor.points.ptp().max()\n",
        "\n",
        "    # Construct a map containing all ridges for a given point\n",
        "    all_ridges = {}\n",
        "    for (p1, p2), (v1, v2) in zip(vor.ridge_points, vor.ridge_vertices):\n",
        "        all_ridges.setdefault(p1, []).append((p2, v1, v2))\n",
        "        all_ridges.setdefault(p2, []).append((p1, v1, v2))\n",
        "\n",
        "    # Reconstruct infinite regions\n",
        "    for p1, region in enumerate(vor.point_region):\n",
        "        vertices = vor.regions[region]\n",
        "\n",
        "        if all(v >= 0 for v in vertices):\n",
        "            # finite region\n",
        "            new_regions.append(vertices)\n",
        "            continue\n",
        "\n",
        "        # reconstruct a non-finite region\n",
        "        ridges = all_ridges[p1]\n",
        "        new_region = [v for v in vertices if v >= 0]\n",
        "\n",
        "        for p2, v1, v2 in ridges:\n",
        "            if v2 < 0:\n",
        "                v1, v2 = v2, v1\n",
        "            if v1 >= 0:\n",
        "                # finite ridge: already in the region\n",
        "                continue\n",
        "\n",
        "            # Compute the missing endpoint of an infinite ridge\n",
        "\n",
        "            t = vor.points[p2] - vor.points[p1] # tangent\n",
        "            t /= np.linalg.norm(t)\n",
        "            n = np.array([-t[1], t[0]])  # normal\n",
        "\n",
        "            midpoint = vor.points[[p1, p2]].mean(axis=0)\n",
        "            direction = np.sign(np.dot(midpoint - center, n)) * n\n",
        "            far_point = vor.vertices[v2] + direction * radius\n",
        "\n",
        "            new_region.append(len(new_vertices))\n",
        "            new_vertices.append(far_point.tolist())\n",
        "\n",
        "        # sort region counterclockwise\n",
        "        vs = np.asarray([new_vertices[v] for v in new_region])\n",
        "        c = vs.mean(axis=0)\n",
        "        angles = np.arctan2(vs[:,1] - c[1], vs[:,0] - c[0])\n",
        "        new_region = np.array(new_region)[np.argsort(angles)]\n",
        "\n",
        "        # finish\n",
        "        new_regions.append(new_region.tolist())\n",
        "\n",
        "    return new_regions, np.asarray(new_vertices)"
      ],
      "execution_count": 161,
      "outputs": []
    },
    {
      "cell_type": "code",
      "metadata": {
        "colab": {
          "base_uri": "https://localhost:8080/",
          "height": 269
        },
        "id": "9NIVhxz8KvG3",
        "outputId": "dc583326-bbd5-4fe5-f111-dfc3221dd972"
      },
      "source": [
        "## Plotting Voronoi regions for the Iris dataset\n",
        "\n",
        "points = []\n",
        "xpts = np.array(df['SepalLengthCm'])\n",
        "ypts = np.array(df['SepalWidthCm'])\n",
        "for i in range(len(xpts)):\n",
        "  points.append([xpts[i],ypts[i]])\n",
        "# print(points)\n",
        "points = np.array(points)\n",
        "# compute Voronoi tesselation\n",
        "vor = Voronoi(points)\n",
        "\n",
        "regions, vertices = voronoi_finite_polygons_2d(vor)\n",
        "\n",
        "for region in regions:\n",
        "    polygon = vertices[region]\n",
        "    plt.fill(*zip(*polygon), alpha=0.4)\n",
        "\n",
        "plt.plot(points[:,0], points[:,1], 'ko')\n",
        "plt.xlim(vor.min_bound[0] - 0.1, vor.max_bound[0] + 0.1)\n",
        "plt.ylim(vor.min_bound[1] - 0.1, vor.max_bound[1] + 0.1)\n",
        "\n",
        "plt.show()"
      ],
      "execution_count": 162,
      "outputs": [
        {
          "output_type": "display_data",
          "data": {
            "image/png": "[encoded data removed]",
            "text/plain": [
              "<Figure size 432x288 with 1 Axes>"
            ]
          },
          "metadata": {
            "needs_background": "light"
          }
        }
      ]
    },
    {
      "cell_type": "markdown",
      "metadata": {
        "id": "WSK-GI0Knurk"
      },
      "source": [
        "## Understanding Decision Boundaries  \n",
        "So you have seen the Voronoi diagram of the dataset, implemented KNN, and also seen your algorithm's performance in terms of accuracy? Impressive!  \n",
        "Wouldn't it also be great to know how exactly these 'votes' or neighbours are decided through some kind of visualization?  \n"
      ]
    },
    {
      "cell_type": "markdown",
      "metadata": {
        "id": "ytP_AImALiZX"
      },
      "source": [
        "### Decision Boundary\n",
        "\n",
        "While the Voronoi diagram gave us a good idea of the points present in our dataset, to understand how KNN performed on our dataset we can plot decision boundaries. Decision boundaries, as the name suggests, divide the plane into different regions of classification.  \n",
        "\n",
        "Note that here again, for simplicity, we have only considered first two attributes of the DataFrame (ie, Sepal Length and Sepal Width).  "
      ]
    },
    {
      "cell_type": "code",
      "metadata": {
        "id": "8P8Pqav4DI4N"
      },
      "source": [
        "from matplotlib.colors import ListedColormap\n",
        "import seaborn as sns\n",
        "\n",
        "\n",
        "def decision_boundary_plot(x_dec,y_dec,k):\n",
        "  h = .02  # step size in the mesh\n",
        "\n",
        "  # Create color maps\n",
        "  n = len(set(y_dec))\n",
        "  cmap_light = ListedColormap(['pink', 'green', 'cyan','yellow'][:n])\n",
        "  cmap_bold = ['pink', 'darkgreen', 'blue','yellow'][:n]\n",
        "\n",
        "  for weights in ['uniform', 'distance']:\n",
        "      # we create an instance of Neighbours Classifier and fit the data.\n",
        "      clf = KNeighborsClassifier(n_neighbors=k, weights=weights)\n",
        "      clf.fit(x_dec, y_dec)\n",
        "\n",
        "      # Plot the decision boundary. For that, we will assign a color to each\n",
        "      # point in the mesh [x_min, x_max]x[y_min, y_max].\n",
        "      x_min, x_max = x_dec[:, 0].min() - 1, x_dec[:, 0].max() + 1\n",
        "      y_min, y_max = x_dec[:, 1].min() - 1, x_dec[:, 1].max() + 1\n",
        "      xx, yy = np.meshgrid(np.arange(x_min, x_max, h),\n",
        "                          np.arange(y_min, y_max, h))\n",
        "      Z = clf.predict(np.c_[xx.ravel(), yy.ravel()])\n",
        "\n",
        "      # Put the result into a color plot\n",
        "      Z = Z.reshape(xx.shape)\n",
        "      plt.figure(figsize=(8, 6))\n",
        "      plt.contourf(xx, yy, Z, cmap=cmap_light)\n",
        "\n",
        "      # Plot also the training points\n",
        "      sns.scatterplot(x=x_dec[:, 0], y=x_dec[:, 1], hue=y_dec,\n",
        "                      palette=cmap_bold, alpha=1.0, edgecolor=\"black\")\n",
        "      plt.xlim(xx.min(), xx.max())\n",
        "      plt.ylim(yy.min(), yy.max())\n",
        "      plt.title(\"Multi-Classification (k = %i, weights = '%s')\"% (k, weights))\n",
        "\n",
        "  plt.show()\n"
      ],
      "execution_count": 163,
      "outputs": []
    },
    {
      "cell_type": "code",
      "metadata": {
        "colab": {
          "base_uri": "https://localhost:8080/",
          "height": 763
        },
        "id": "bgAO62vWKPHt",
        "outputId": "2e7ef765-7626-40d2-a16f-188a8d219478"
      },
      "source": [
        "x_pts = X[:,:2]\n",
        "y_pts = y\n",
        "decision_boundary_plot(x_pts,y_pts,7)"
      ],
      "execution_count": 164,
      "outputs": [
        {
          "output_type": "display_data",
          "data": {
            "image/png": "[encoded data removed]",
            "text/plain": [
              "<Figure size 576x432 with 1 Axes>"
            ]
          },
          "metadata": {
            "needs_background": "light"
          }
        },
        {
          "output_type": "display_data",
          "data": {
            "image/png": "[encoded data removed]",
            "text/plain": [
              "<Figure size 576x432 with 1 Axes>"
            ]
          },
          "metadata": {
            "needs_background": "light"
          }
        }
      ]
    },
    {
      "cell_type": "code",
      "metadata": {
        "id": "TFRJidIgr6gt"
      },
      "source": [
        "## TASK-2\n",
        "## In the above cells, we saw the Voronoi diagram of the data and plotted the KNN decision boundaries\n",
        "## by only considering two attributes of the dataset. You must be already familiar with PCA.\n",
        "## Apply PCA on the dataset above to reduce it to two dimensions. \n",
        "## Plot the Voronoi diagram and Decision boundaries after that."
      ],
      "execution_count": 165,
      "outputs": []
    },
    {
      "cell_type": "markdown",
      "metadata": {
        "id": "gti-Jgu_VBDl"
      },
      "source": [
        "## Confusion Matrix  \n",
        "In classification problems, a confusion matrix, also known as an error matrix, is a table that allows visualization of the performance of an algorithm, typically a supervised learning one. Each row of the matrix represents the instances in an actual class while each column represents the instances in a predicted class."
      ]
    },
    {
      "cell_type": "code",
      "metadata": {
        "id": "LPfc8YFBA8Oh"
      },
      "source": [
        "from sklearn.metrics import confusion_matrix"
      ],
      "execution_count": 166,
      "outputs": []
    },
    {
      "cell_type": "code",
      "metadata": {
        "colab": {
          "base_uri": "https://localhost:8080/",
          "height": 206
        },
        "id": "XMXIM9apA99s",
        "outputId": "8b968075-a65f-45f1-cf45-08a0ebde87a1"
      },
      "source": [
        "# print(confusion_matrix(y_test,predictions))\n",
        "pd.crosstab(y_test, predictions, rownames=['True'], colnames=['Predicted'], margins=True)"
      ],
      "execution_count": 167,
      "outputs": [
        {
          "output_type": "execute_result",
          "data": {
            "text/html": [
              "\n",
              "  <div id=\"df-5530fd5f-bc64-468d-aeba-68098d2f9f08\">\n",
              "    <div class=\"colab-df-container\">\n",
              "      <div>\n",
              "<style scoped>\n",
              "    .dataframe tbody tr th:only-of-type {\n",
              "        vertical-align: middle;\n",
              "    }\n",
              "\n",
              "    .dataframe tbody tr th {\n",
              "        vertical-align: top;\n",
              "    }\n",
              "\n",
              "    .dataframe thead th {\n",
              "        text-align: right;\n",
              "    }\n",
              "</style>\n",
              "<table border=\"1\" class=\"dataframe\">\n",
              "  <thead>\n",
              "    <tr style=\"text-align: right;\">\n",
              "      <th>Predicted</th>\n",
              "      <th>0</th>\n",
              "      <th>1</th>\n",
              "      <th>2</th>\n",
              "      <th>All</th>\n",
              "    </tr>\n",
              "    <tr>\n",
              "      <th>True</th>\n",
              "      <th></th>\n",
              "      <th></th>\n",
              "      <th></th>\n",
              "      <th></th>\n",
              "    </tr>\n",
              "  </thead>\n",
              "  <tbody>\n",
              "    <tr>\n",
              "      <th>0</th>\n",
              "      <td>13</td>\n",
              "      <td>0</td>\n",
              "      <td>0</td>\n",
              "      <td>13</td>\n",
              "    </tr>\n",
              "    <tr>\n",
              "      <th>1</th>\n",
              "      <td>0</td>\n",
              "      <td>22</td>\n",
              "      <td>0</td>\n",
              "      <td>22</td>\n",
              "    </tr>\n",
              "    <tr>\n",
              "      <th>2</th>\n",
              "      <td>0</td>\n",
              "      <td>3</td>\n",
              "      <td>12</td>\n",
              "      <td>15</td>\n",
              "    </tr>\n",
              "    <tr>\n",
              "      <th>All</th>\n",
              "      <td>13</td>\n",
              "      <td>25</td>\n",
              "      <td>12</td>\n",
              "      <td>50</td>\n",
              "    </tr>\n",
              "  </tbody>\n",
              "</table>\n",
              "</div>\n",
              "      <button class=\"colab-df-convert\" onclick=\"convertToInteractive('df-5530fd5f-bc64-468d-aeba-68098d2f9f08')\"\n",
              "              title=\"Convert this dataframe to an interactive table.\"\n",
              "              style=\"display:none;\">\n",
              "        \n",
              "  <svg xmlns=\"http://www.w3.org/2000/svg\" height=\"24px\"viewBox=\"0 0 24 24\"\n",
              "       width=\"24px\">\n",
              "    <path d=\"M0 0h24v24H0V0z\" fill=\"none\"/>\n",
              "    <path d=\"M18.56 5.44l.94 2.06.94-2.06 2.06-.94-2.06-.94-.94-2.06-.94 2.06-2.06.94zm-11 1L8.5 8.5l.94-2.06 2.06-.94-2.06-.94L8.5 2.5l-.94 2.06-2.06.94zm10 10l.94 2.06.94-2.06 2.06-.94-2.06-.94-.94-2.06-.94 2.06-2.06.94z\"/><path d=\"M17.41 7.96l-1.37-1.37c-.4-.4-.92-.59-1.43-.59-.52 0-1.04.2-1.43.59L10.3 9.45l-7.72 7.72c-.78.78-.78 2.05 0 2.83L4 21.41c.39.39.9.59 1.41.59.51 0 1.02-.2 1.41-.59l7.78-7.78 2.81-2.81c.8-.78.8-2.07 0-2.86zM5.41 20L4 18.59l7.72-7.72 1.47 1.35L5.41 20z\"/>\n",
              "  </svg>\n",
              "      </button>\n",
              "      \n",
              "  <style>\n",
              "    .colab-df-container {\n",
              "      display:flex;\n",
              "      flex-wrap:wrap;\n",
              "      gap: 12px;\n",
              "    }\n",
              "\n",
              "    .colab-df-convert {\n",
              "      background-color: #E8F0FE;\n",
              "      border: none;\n",
              "      border-radius: 50%;\n",
              "      cursor: pointer;\n",
              "      display: none;\n",
              "      fill: #1967D2;\n",
              "      height: 32px;\n",
              "      padding: 0 0 0 0;\n",
              "      width: 32px;\n",
              "    }\n",
              "\n",
              "    .colab-df-convert:hover {\n",
              "      background-color: #E2EBFA;\n",
              "      box-shadow: 0px 1px 2px rgba(60, 64, 67, 0.3), 0px 1px 3px 1px rgba(60, 64, 67, 0.15);\n",
              "      fill: #174EA6;\n",
              "    }\n",
              "\n",
              "    [theme=dark] .colab-df-convert {\n",
              "      background-color: #3B4455;\n",
              "      fill: #D2E3FC;\n",
              "    }\n",
              "\n",
              "    [theme=dark] .colab-df-convert:hover {\n",
              "      background-color: #434B5C;\n",
              "      box-shadow: 0px 1px 3px 1px rgba(0, 0, 0, 0.15);\n",
              "      filter: drop-shadow(0px 1px 2px rgba(0, 0, 0, 0.3));\n",
              "      fill: #FFFFFF;\n",
              "    }\n",
              "  </style>\n",
              "\n",
              "      <script>\n",
              "        const buttonEl =\n",
              "          document.querySelector('#df-5530fd5f-bc64-468d-aeba-68098d2f9f08 button.colab-df-convert');\n",
              "        buttonEl.style.display =\n",
              "          google.colab.kernel.accessAllowed ? 'block' : 'none';\n",
              "\n",
              "        async function convertToInteractive(key) {\n",
              "          const element = document.querySelector('#df-5530fd5f-bc64-468d-aeba-68098d2f9f08');\n",
              "          const dataTable =\n",
              "            await google.colab.kernel.invokeFunction('convertToInteractive',\n",
              "                                                     [key], {});\n",
              "          if (!dataTable) return;\n",
              "\n",
              "          const docLinkHtml = 'Like what you see? Visit the ' +\n",
              "            '<a target=\"_blank\" href=https://colab.research.google.com/notebooks/data_table.ipynb>data table notebook</a>'\n",
              "            + ' to learn more about interactive tables.';\n",
              "          element.innerHTML = '';\n",
              "          dataTable['output_type'] = 'display_data';\n",
              "          await google.colab.output.renderOutput(dataTable, element);\n",
              "          const docLink = document.createElement('div');\n",
              "          docLink.innerHTML = docLinkHtml;\n",
              "          element.appendChild(docLink);\n",
              "        }\n",
              "      </script>\n",
              "    </div>\n",
              "  </div>\n",
              "  "
            ],
            "text/plain": [
              "Predicted   0   1   2  All\n",
              "True                      \n",
              "0          13   0   0   13\n",
              "1           0  22   0   22\n",
              "2           0   3  12   15\n",
              "All        13  25  12   50"
            ]
          },
          "metadata": {},
          "execution_count": 167
        }
      ]
    },
    {
      "cell_type": "code",
      "metadata": {
        "colab": {
          "base_uri": "https://localhost:8080/",
          "height": 312
        },
        "id": "5cgYG0E5UHdy",
        "outputId": "dbe7a102-6a5b-45a8-ded0-dc80122f4f1f"
      },
      "source": [
        "from sklearn import metrics\n",
        "\n",
        "cnf_matrix = metrics.confusion_matrix(y_test, predictions)\n",
        "p = sns.heatmap(pd.DataFrame(cnf_matrix), annot=True, cmap=\"viridis\" ,fmt='g')\n",
        "plt.title('Confusion matrix', y=1.1)\n",
        "plt.ylabel('Actual label')\n",
        "plt.xlabel('Predicted label')"
      ],
      "execution_count": 168,
      "outputs": [
        {
          "output_type": "execute_result",
          "data": {
            "text/plain": [
              "Text(0.5, 15.0, 'Predicted label')"
            ]
          },
          "metadata": {},
          "execution_count": 168
        },
        {
          "output_type": "display_data",
          "data": {
            "image/png": "[encoded data removed]",
            "text/plain": [
              "<Figure size 432x288 with 2 Axes>"
            ]
          },
          "metadata": {
            "needs_background": "light"
          }
        }
      ]
    },
    {
      "cell_type": "markdown",
      "metadata": {
        "id": "TTPQOPStVtmI"
      },
      "source": [
        "## Classification Report\n",
        "\n",
        "Precision, Recall, and F1-Score are other metrics besides accuracy that one might look for in an algorithm.  Depending on the use-case, one might consider one metric more important than the other.  \n",
        "\n",
        "Note: *T-> True, F->False, P->Positive, N->Negative*\n",
        "    \n",
        "Mathematically, Accuracy is :  \n",
        "\n",
        "$Accuracy = \\frac{TP+TN}{TP+TN+FP+FN}$  \n",
        "\n",
        "**Precision**: The accuracy of positive predictions\n",
        "\n",
        "\n",
        "$Precision = \\frac{TP}{TP+FP}$ \n",
        "\n",
        "**Recall**:Fraction of positives that were correctly identified\n",
        "\n",
        "\n",
        "$Recall = \\frac{TP}{TP+FN}$\n",
        "\n",
        "\n",
        "**F1-score**: Harmonic mean of precision and recall  \n",
        "\n",
        "\n",
        "$F1 = \\frac{2*Precision*Recall}{Precision+Recall} = \\frac{2*TP}{2*TP+FP+FN}$  \n",
        "\n"
      ]
    },
    {
      "cell_type": "code",
      "metadata": {
        "colab": {
          "base_uri": "https://localhost:8080/"
        },
        "id": "VH3KEfEYW190",
        "outputId": "83d46490-43b3-4508-dfc8-2557ded13f3e"
      },
      "source": [
        "#import classification_report\n",
        "from sklearn.metrics import classification_report\n",
        "print(classification_report(y_test,predictions))"
      ],
      "execution_count": 169,
      "outputs": [
        {
          "output_type": "stream",
          "name": "stdout",
          "text": [
            "              precision    recall  f1-score   support\n",
            "\n",
            "           0       1.00      1.00      1.00        13\n",
            "           1       0.88      1.00      0.94        22\n",
            "           2       1.00      0.80      0.89        15\n",
            "\n",
            "    accuracy                           0.94        50\n",
            "   macro avg       0.96      0.93      0.94        50\n",
            "weighted avg       0.95      0.94      0.94        50\n",
            "\n"
          ]
        }
      ]
    },
    {
      "cell_type": "markdown",
      "metadata": {
        "id": "YtYNFoJh0LU-"
      },
      "source": [
        "# **Car Evaluation Dataset**"
      ]
    },
    {
      "cell_type": "code",
      "metadata": {
        "id": "RsBukCMi4UjJ",
        "colab": {
          "resources": {
            "http://localhost:8080/nbextensions/google.colab/files.js": {
              "data": "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",
              "ok": true,
              "headers": [
                [
                  "content-type",
                  "application/javascript"
                ]
              ],
              "status": 200,
              "status_text": ""
            }
          },
          "base_uri": "https://localhost:8080/",
          "height": 73
        },
        "outputId": "63197762-0f17-457f-b952-36d342c1cfa3"
      },
      "source": [
        "# Upload the Car evaluation data CSV file that has been shared with you.\n",
        "# Run this cell, click on the 'Choose files' button and upload the file.\n",
        "from google.colab import files\n",
        "uploaded = files.upload()"
      ],
      "execution_count": 170,
      "outputs": [
        {
          "output_type": "display_data",
          "data": {
            "text/html": [
              "\n",
              "     <input type=\"file\" id=\"files-823c1493-f2d6-4099-87e5-406fa56eb80b\" name=\"files[]\" multiple disabled\n",
              "        style=\"border:none\" />\n",
              "     <output id=\"result-823c1493-f2d6-4099-87e5-406fa56eb80b\">\n",
              "      Upload widget is only available when the cell has been executed in the\n",
              "      current browser session. Please rerun this cell to enable.\n",
              "      </output>\n",
              "      <script src=\"/nbextensions/google.colab/files.js\"></script> "
            ],
            "text/plain": [
              "<IPython.core.display.HTML object>"
            ]
          },
          "metadata": {}
        },
        {
          "output_type": "stream",
          "name": "stdout",
          "text": [
            "Saving iris.csv to iris (5).csv\n"
          ]
        }
      ]
    },
    {
      "cell_type": "code",
      "metadata": {
        "id": "0T5yvzVH4jrQ",
        "colab": {
          "base_uri": "https://localhost:8080/",
          "height": 424
        },
        "outputId": "a7706015-c9a1-49f3-ddb7-64f567c61614"
      },
      "source": [
        "car_df = pd.read_csv('car_evaluation.csv')\n",
        "car_df"
      ],
      "execution_count": 171,
      "outputs": [
        {
          "output_type": "execute_result",
          "data": {
            "text/html": [
              "\n",
              "  <div id=\"df-7439a35f-596e-4515-b9e7-55d585b7f93c\">\n",
              "    <div class=\"colab-df-container\">\n",
              "      <div>\n",
              "<style scoped>\n",
              "    .dataframe tbody tr th:only-of-type {\n",
              "        vertical-align: middle;\n",
              "    }\n",
              "\n",
              "    .dataframe tbody tr th {\n",
              "        vertical-align: top;\n",
              "    }\n",
              "\n",
              "    .dataframe thead th {\n",
              "        text-align: right;\n",
              "    }\n",
              "</style>\n",
              "<table border=\"1\" class=\"dataframe\">\n",
              "  <thead>\n",
              "    <tr style=\"text-align: right;\">\n",
              "      <th></th>\n",
              "      <th>buying price</th>\n",
              "      <th>maintenance cost</th>\n",
              "      <th>num_doors</th>\n",
              "      <th>num_persons</th>\n",
              "      <th>lug_boot</th>\n",
              "      <th>safety</th>\n",
              "      <th>decision</th>\n",
              "    </tr>\n",
              "  </thead>\n",
              "  <tbody>\n",
              "    <tr>\n",
              "      <th>0</th>\n",
              "      <td>vhigh</td>\n",
              "      <td>vhigh</td>\n",
              "      <td>2</td>\n",
              "      <td>2</td>\n",
              "      <td>small</td>\n",
              "      <td>med</td>\n",
              "      <td>unacc</td>\n",
              "    </tr>\n",
              "    <tr>\n",
              "      <th>1</th>\n",
              "      <td>vhigh</td>\n",
              "      <td>vhigh</td>\n",
              "      <td>2</td>\n",
              "      <td>2</td>\n",
              "      <td>small</td>\n",
              "      <td>high</td>\n",
              "      <td>unacc</td>\n",
              "    </tr>\n",
              "    <tr>\n",
              "      <th>2</th>\n",
              "      <td>vhigh</td>\n",
              "      <td>vhigh</td>\n",
              "      <td>2</td>\n",
              "      <td>2</td>\n",
              "      <td>med</td>\n",
              "      <td>low</td>\n",
              "      <td>unacc</td>\n",
              "    </tr>\n",
              "    <tr>\n",
              "      <th>3</th>\n",
              "      <td>vhigh</td>\n",
              "      <td>vhigh</td>\n",
              "      <td>2</td>\n",
              "      <td>2</td>\n",
              "      <td>med</td>\n",
              "      <td>med</td>\n",
              "      <td>unacc</td>\n",
              "    </tr>\n",
              "    <tr>\n",
              "      <th>4</th>\n",
              "      <td>vhigh</td>\n",
              "      <td>vhigh</td>\n",
              "      <td>2</td>\n",
              "      <td>2</td>\n",
              "      <td>med</td>\n",
              "      <td>high</td>\n",
              "      <td>unacc</td>\n",
              "    </tr>\n",
              "    <tr>\n",
              "      <th>...</th>\n",
              "      <td>...</td>\n",
              "      <td>...</td>\n",
              "      <td>...</td>\n",
              "      <td>...</td>\n",
              "      <td>...</td>\n",
              "      <td>...</td>\n",
              "      <td>...</td>\n",
              "    </tr>\n",
              "    <tr>\n",
              "      <th>1722</th>\n",
              "      <td>low</td>\n",
              "      <td>low</td>\n",
              "      <td>5more</td>\n",
              "      <td>more</td>\n",
              "      <td>med</td>\n",
              "      <td>med</td>\n",
              "      <td>good</td>\n",
              "    </tr>\n",
              "    <tr>\n",
              "      <th>1723</th>\n",
              "      <td>low</td>\n",
              "      <td>low</td>\n",
              "      <td>5more</td>\n",
              "      <td>more</td>\n",
              "      <td>med</td>\n",
              "      <td>high</td>\n",
              "      <td>vgood</td>\n",
              "    </tr>\n",
              "    <tr>\n",
              "      <th>1724</th>\n",
              "      <td>low</td>\n",
              "      <td>low</td>\n",
              "      <td>5more</td>\n",
              "      <td>more</td>\n",
              "      <td>big</td>\n",
              "      <td>low</td>\n",
              "      <td>unacc</td>\n",
              "    </tr>\n",
              "    <tr>\n",
              "      <th>1725</th>\n",
              "      <td>low</td>\n",
              "      <td>low</td>\n",
              "      <td>5more</td>\n",
              "      <td>more</td>\n",
              "      <td>big</td>\n",
              "      <td>med</td>\n",
              "      <td>good</td>\n",
              "    </tr>\n",
              "    <tr>\n",
              "      <th>1726</th>\n",
              "      <td>low</td>\n",
              "      <td>low</td>\n",
              "      <td>5more</td>\n",
              "      <td>more</td>\n",
              "      <td>big</td>\n",
              "      <td>high</td>\n",
              "      <td>vgood</td>\n",
              "    </tr>\n",
              "  </tbody>\n",
              "</table>\n",
              "<p>1727 rows × 7 columns</p>\n",
              "</div>\n",
              "      <button class=\"colab-df-convert\" onclick=\"convertToInteractive('df-7439a35f-596e-4515-b9e7-55d585b7f93c')\"\n",
              "              title=\"Convert this dataframe to an interactive table.\"\n",
              "              style=\"display:none;\">\n",
              "        \n",
              "  <svg xmlns=\"http://www.w3.org/2000/svg\" height=\"24px\"viewBox=\"0 0 24 24\"\n",
              "       width=\"24px\">\n",
              "    <path d=\"M0 0h24v24H0V0z\" fill=\"none\"/>\n",
              "    <path d=\"M18.56 5.44l.94 2.06.94-2.06 2.06-.94-2.06-.94-.94-2.06-.94 2.06-2.06.94zm-11 1L8.5 8.5l.94-2.06 2.06-.94-2.06-.94L8.5 2.5l-.94 2.06-2.06.94zm10 10l.94 2.06.94-2.06 2.06-.94-2.06-.94-.94-2.06-.94 2.06-2.06.94z\"/><path d=\"M17.41 7.96l-1.37-1.37c-.4-.4-.92-.59-1.43-.59-.52 0-1.04.2-1.43.59L10.3 9.45l-7.72 7.72c-.78.78-.78 2.05 0 2.83L4 21.41c.39.39.9.59 1.41.59.51 0 1.02-.2 1.41-.59l7.78-7.78 2.81-2.81c.8-.78.8-2.07 0-2.86zM5.41 20L4 18.59l7.72-7.72 1.47 1.35L5.41 20z\"/>\n",
              "  </svg>\n",
              "      </button>\n",
              "      \n",
              "  <style>\n",
              "    .colab-df-container {\n",
              "      display:flex;\n",
              "      flex-wrap:wrap;\n",
              "      gap: 12px;\n",
              "    }\n",
              "\n",
              "    .colab-df-convert {\n",
              "      background-color: #E8F0FE;\n",
              "      border: none;\n",
              "      border-radius: 50%;\n",
              "      cursor: pointer;\n",
              "      display: none;\n",
              "      fill: #1967D2;\n",
              "      height: 32px;\n",
              "      padding: 0 0 0 0;\n",
              "      width: 32px;\n",
              "    }\n",
              "\n",
              "    .colab-df-convert:hover {\n",
              "      background-color: #E2EBFA;\n",
              "      box-shadow: 0px 1px 2px rgba(60, 64, 67, 0.3), 0px 1px 3px 1px rgba(60, 64, 67, 0.15);\n",
              "      fill: #174EA6;\n",
              "    }\n",
              "\n",
              "    [theme=dark] .colab-df-convert {\n",
              "      background-color: #3B4455;\n",
              "      fill: #D2E3FC;\n",
              "    }\n",
              "\n",
              "    [theme=dark] .colab-df-convert:hover {\n",
              "      background-color: #434B5C;\n",
              "      box-shadow: 0px 1px 3px 1px rgba(0, 0, 0, 0.15);\n",
              "      filter: drop-shadow(0px 1px 2px rgba(0, 0, 0, 0.3));\n",
              "      fill: #FFFFFF;\n",
              "    }\n",
              "  </style>\n",
              "\n",
              "      <script>\n",
              "        const buttonEl =\n",
              "          document.querySelector('#df-7439a35f-596e-4515-b9e7-55d585b7f93c button.colab-df-convert');\n",
              "        buttonEl.style.display =\n",
              "          google.colab.kernel.accessAllowed ? 'block' : 'none';\n",
              "\n",
              "        async function convertToInteractive(key) {\n",
              "          const element = document.querySelector('#df-7439a35f-596e-4515-b9e7-55d585b7f93c');\n",
              "          const dataTable =\n",
              "            await google.colab.kernel.invokeFunction('convertToInteractive',\n",
              "                                                     [key], {});\n",
              "          if (!dataTable) return;\n",
              "\n",
              "          const docLinkHtml = 'Like what you see? Visit the ' +\n",
              "            '<a target=\"_blank\" href=https://colab.research.google.com/notebooks/data_table.ipynb>data table notebook</a>'\n",
              "            + ' to learn more about interactive tables.';\n",
              "          element.innerHTML = '';\n",
              "          dataTable['output_type'] = 'display_data';\n",
              "          await google.colab.output.renderOutput(dataTable, element);\n",
              "          const docLink = document.createElement('div');\n",
              "          docLink.innerHTML = docLinkHtml;\n",
              "          element.appendChild(docLink);\n",
              "        }\n",
              "      </script>\n",
              "    </div>\n",
              "  </div>\n",
              "  "
            ],
            "text/plain": [
              "     buying price maintenance cost num_doors  ... lug_boot safety decision\n",
              "0           vhigh            vhigh         2  ...    small    med    unacc\n",
              "1           vhigh            vhigh         2  ...    small   high    unacc\n",
              "2           vhigh            vhigh         2  ...      med    low    unacc\n",
              "3           vhigh            vhigh         2  ...      med    med    unacc\n",
              "4           vhigh            vhigh         2  ...      med   high    unacc\n",
              "...           ...              ...       ...  ...      ...    ...      ...\n",
              "1722          low              low     5more  ...      med    med     good\n",
              "1723          low              low     5more  ...      med   high    vgood\n",
              "1724          low              low     5more  ...      big    low    unacc\n",
              "1725          low              low     5more  ...      big    med     good\n",
              "1726          low              low     5more  ...      big   high    vgood\n",
              "\n",
              "[1727 rows x 7 columns]"
            ]
          },
          "metadata": {},
          "execution_count": 171
        }
      ]
    },
    {
      "cell_type": "code",
      "metadata": {
        "id": "qwjBankjB9Os",
        "colab": {
          "base_uri": "https://localhost:8080/",
          "height": 424
        },
        "outputId": "4f6f94b6-76c2-4dfa-8e9d-95d2292de652"
      },
      "source": [
        "for x in car_df.columns:\n",
        "  # print(x)\n",
        "  le = preprocessing.LabelEncoder()\n",
        "  le.fit(car_df[x])\n",
        "  car_df[x]=le.transform(car_df[x])\n",
        "\n",
        "car_df"
      ],
      "execution_count": 172,
      "outputs": [
        {
          "output_type": "execute_result",
          "data": {
            "text/html": [
              "\n",
              "  <div id=\"df-cd0ba7c6-233a-4aba-b923-dc08e8775c09\">\n",
              "    <div class=\"colab-df-container\">\n",
              "      <div>\n",
              "<style scoped>\n",
              "    .dataframe tbody tr th:only-of-type {\n",
              "        vertical-align: middle;\n",
              "    }\n",
              "\n",
              "    .dataframe tbody tr th {\n",
              "        vertical-align: top;\n",
              "    }\n",
              "\n",
              "    .dataframe thead th {\n",
              "        text-align: right;\n",
              "    }\n",
              "</style>\n",
              "<table border=\"1\" class=\"dataframe\">\n",
              "  <thead>\n",
              "    <tr style=\"text-align: right;\">\n",
              "      <th></th>\n",
              "      <th>buying price</th>\n",
              "      <th>maintenance cost</th>\n",
              "      <th>num_doors</th>\n",
              "      <th>num_persons</th>\n",
              "      <th>lug_boot</th>\n",
              "      <th>safety</th>\n",
              "      <th>decision</th>\n",
              "    </tr>\n",
              "  </thead>\n",
              "  <tbody>\n",
              "    <tr>\n",
              "      <th>0</th>\n",
              "      <td>3</td>\n",
              "      <td>3</td>\n",
              "      <td>0</td>\n",
              "      <td>0</td>\n",
              "      <td>2</td>\n",
              "      <td>2</td>\n",
              "      <td>2</td>\n",
              "    </tr>\n",
              "    <tr>\n",
              "      <th>1</th>\n",
              "      <td>3</td>\n",
              "      <td>3</td>\n",
              "      <td>0</td>\n",
              "      <td>0</td>\n",
              "      <td>2</td>\n",
              "      <td>0</td>\n",
              "      <td>2</td>\n",
              "    </tr>\n",
              "    <tr>\n",
              "      <th>2</th>\n",
              "      <td>3</td>\n",
              "      <td>3</td>\n",
              "      <td>0</td>\n",
              "      <td>0</td>\n",
              "      <td>1</td>\n",
              "      <td>1</td>\n",
              "      <td>2</td>\n",
              "    </tr>\n",
              "    <tr>\n",
              "      <th>3</th>\n",
              "      <td>3</td>\n",
              "      <td>3</td>\n",
              "      <td>0</td>\n",
              "      <td>0</td>\n",
              "      <td>1</td>\n",
              "      <td>2</td>\n",
              "      <td>2</td>\n",
              "    </tr>\n",
              "    <tr>\n",
              "      <th>4</th>\n",
              "      <td>3</td>\n",
              "      <td>3</td>\n",
              "      <td>0</td>\n",
              "      <td>0</td>\n",
              "      <td>1</td>\n",
              "      <td>0</td>\n",
              "      <td>2</td>\n",
              "    </tr>\n",
              "    <tr>\n",
              "      <th>...</th>\n",
              "      <td>...</td>\n",
              "      <td>...</td>\n",
              "      <td>...</td>\n",
              "      <td>...</td>\n",
              "      <td>...</td>\n",
              "      <td>...</td>\n",
              "      <td>...</td>\n",
              "    </tr>\n",
              "    <tr>\n",
              "      <th>1722</th>\n",
              "      <td>1</td>\n",
              "      <td>1</td>\n",
              "      <td>3</td>\n",
              "      <td>2</td>\n",
              "      <td>1</td>\n",
              "      <td>2</td>\n",
              "      <td>1</td>\n",
              "    </tr>\n",
              "    <tr>\n",
              "      <th>1723</th>\n",
              "      <td>1</td>\n",
              "      <td>1</td>\n",
              "      <td>3</td>\n",
              "      <td>2</td>\n",
              "      <td>1</td>\n",
              "      <td>0</td>\n",
              "      <td>3</td>\n",
              "    </tr>\n",
              "    <tr>\n",
              "      <th>1724</th>\n",
              "      <td>1</td>\n",
              "      <td>1</td>\n",
              "      <td>3</td>\n",
              "      <td>2</td>\n",
              "      <td>0</td>\n",
              "      <td>1</td>\n",
              "      <td>2</td>\n",
              "    </tr>\n",
              "    <tr>\n",
              "      <th>1725</th>\n",
              "      <td>1</td>\n",
              "      <td>1</td>\n",
              "      <td>3</td>\n",
              "      <td>2</td>\n",
              "      <td>0</td>\n",
              "      <td>2</td>\n",
              "      <td>1</td>\n",
              "    </tr>\n",
              "    <tr>\n",
              "      <th>1726</th>\n",
              "      <td>1</td>\n",
              "      <td>1</td>\n",
              "      <td>3</td>\n",
              "      <td>2</td>\n",
              "      <td>0</td>\n",
              "      <td>0</td>\n",
              "      <td>3</td>\n",
              "    </tr>\n",
              "  </tbody>\n",
              "</table>\n",
              "<p>1727 rows × 7 columns</p>\n",
              "</div>\n",
              "      <button class=\"colab-df-convert\" onclick=\"convertToInteractive('df-cd0ba7c6-233a-4aba-b923-dc08e8775c09')\"\n",
              "              title=\"Convert this dataframe to an interactive table.\"\n",
              "              style=\"display:none;\">\n",
              "        \n",
              "  <svg xmlns=\"http://www.w3.org/2000/svg\" height=\"24px\"viewBox=\"0 0 24 24\"\n",
              "       width=\"24px\">\n",
              "    <path d=\"M0 0h24v24H0V0z\" fill=\"none\"/>\n",
              "    <path d=\"M18.56 5.44l.94 2.06.94-2.06 2.06-.94-2.06-.94-.94-2.06-.94 2.06-2.06.94zm-11 1L8.5 8.5l.94-2.06 2.06-.94-2.06-.94L8.5 2.5l-.94 2.06-2.06.94zm10 10l.94 2.06.94-2.06 2.06-.94-2.06-.94-.94-2.06-.94 2.06-2.06.94z\"/><path d=\"M17.41 7.96l-1.37-1.37c-.4-.4-.92-.59-1.43-.59-.52 0-1.04.2-1.43.59L10.3 9.45l-7.72 7.72c-.78.78-.78 2.05 0 2.83L4 21.41c.39.39.9.59 1.41.59.51 0 1.02-.2 1.41-.59l7.78-7.78 2.81-2.81c.8-.78.8-2.07 0-2.86zM5.41 20L4 18.59l7.72-7.72 1.47 1.35L5.41 20z\"/>\n",
              "  </svg>\n",
              "      </button>\n",
              "      \n",
              "  <style>\n",
              "    .colab-df-container {\n",
              "      display:flex;\n",
              "      flex-wrap:wrap;\n",
              "      gap: 12px;\n",
              "    }\n",
              "\n",
              "    .colab-df-convert {\n",
              "      background-color: #E8F0FE;\n",
              "      border: none;\n",
              "      border-radius: 50%;\n",
              "      cursor: pointer;\n",
              "      display: none;\n",
              "      fill: #1967D2;\n",
              "      height: 32px;\n",
              "      padding: 0 0 0 0;\n",
              "      width: 32px;\n",
              "    }\n",
              "\n",
              "    .colab-df-convert:hover {\n",
              "      background-color: #E2EBFA;\n",
              "      box-shadow: 0px 1px 2px rgba(60, 64, 67, 0.3), 0px 1px 3px 1px rgba(60, 64, 67, 0.15);\n",
              "      fill: #174EA6;\n",
              "    }\n",
              "\n",
              "    [theme=dark] .colab-df-convert {\n",
              "      background-color: #3B4455;\n",
              "      fill: #D2E3FC;\n",
              "    }\n",
              "\n",
              "    [theme=dark] .colab-df-convert:hover {\n",
              "      background-color: #434B5C;\n",
              "      box-shadow: 0px 1px 3px 1px rgba(0, 0, 0, 0.15);\n",
              "      filter: drop-shadow(0px 1px 2px rgba(0, 0, 0, 0.3));\n",
              "      fill: #FFFFFF;\n",
              "    }\n",
              "  </style>\n",
              "\n",
              "      <script>\n",
              "        const buttonEl =\n",
              "          document.querySelector('#df-cd0ba7c6-233a-4aba-b923-dc08e8775c09 button.colab-df-convert');\n",
              "        buttonEl.style.display =\n",
              "          google.colab.kernel.accessAllowed ? 'block' : 'none';\n",
              "\n",
              "        async function convertToInteractive(key) {\n",
              "          const element = document.querySelector('#df-cd0ba7c6-233a-4aba-b923-dc08e8775c09');\n",
              "          const dataTable =\n",
              "            await google.colab.kernel.invokeFunction('convertToInteractive',\n",
              "                                                     [key], {});\n",
              "          if (!dataTable) return;\n",
              "\n",
              "          const docLinkHtml = 'Like what you see? Visit the ' +\n",
              "            '<a target=\"_blank\" href=https://colab.research.google.com/notebooks/data_table.ipynb>data table notebook</a>'\n",
              "            + ' to learn more about interactive tables.';\n",
              "          element.innerHTML = '';\n",
              "          dataTable['output_type'] = 'display_data';\n",
              "          await google.colab.output.renderOutput(dataTable, element);\n",
              "          const docLink = document.createElement('div');\n",
              "          docLink.innerHTML = docLinkHtml;\n",
              "          element.appendChild(docLink);\n",
              "        }\n",
              "      </script>\n",
              "    </div>\n",
              "  </div>\n",
              "  "
            ],
            "text/plain": [
              "      buying price  maintenance cost  num_doors  ...  lug_boot  safety  decision\n",
              "0                3                 3          0  ...         2       2         2\n",
              "1                3                 3          0  ...         2       0         2\n",
              "2                3                 3          0  ...         1       1         2\n",
              "3                3                 3          0  ...         1       2         2\n",
              "4                3                 3          0  ...         1       0         2\n",
              "...            ...               ...        ...  ...       ...     ...       ...\n",
              "1722             1                 1          3  ...         1       2         1\n",
              "1723             1                 1          3  ...         1       0         3\n",
              "1724             1                 1          3  ...         0       1         2\n",
              "1725             1                 1          3  ...         0       2         1\n",
              "1726             1                 1          3  ...         0       0         3\n",
              "\n",
              "[1727 rows x 7 columns]"
            ]
          },
          "metadata": {},
          "execution_count": 172
        }
      ]
    },
    {
      "cell_type": "code",
      "metadata": {
        "id": "W5Klx4yMCgKa"
      },
      "source": [
        "dataset = car_df.values\n",
        "X = dataset[:,0:6]\n",
        "y = np.array(dataset[:,6])\n",
        "X_train, X_test, y_train, y_test = train_test_split(X, y, test_size=0.2, random_state=19)"
      ],
      "execution_count": 173,
      "outputs": []
    },
    {
      "cell_type": "code",
      "metadata": {
        "id": "1HL5ufCHDANh",
        "colab": {
          "base_uri": "https://localhost:8080/"
        },
        "outputId": "9e4a75e1-c131-4b4a-e809-c3c038584039"
      },
      "source": [
        "knn = KNeighborsClassifier(n_neighbors=5)\n",
        "knn.fit(X_train, y_train)\n",
        "predictions = knn.predict(X_test)\n",
        "score = accuracy_score(y_test, predictions)\n",
        "print(\"The accuracy of the classifier on Car evaluation dataset is {:.2f} %\".format(100*score))"
      ],
      "execution_count": 174,
      "outputs": [
        {
          "output_type": "stream",
          "name": "stdout",
          "text": [
            "The accuracy of the classifier on Car evaluation dataset is 89.88 %\n"
          ]
        }
      ]
    },
    {
      "cell_type": "code",
      "metadata": {
        "id": "WYCimUC_A56C",
        "outputId": "9feae2fc-7e85-4221-c465-029eda2aaa2a",
        "colab": {
          "base_uri": "https://localhost:8080/",
          "height": 312
        }
      },
      "source": [
        "## TASK-3\n",
        "## Plot a Confusion Matrix for the results of the Car evaluation dataset\n",
        "\n",
        "from sklearn import metrics\n",
        "\n",
        "cnf_matrix = metrics.confusion_matrix(y_test, predictions)\n",
        "p = sns.heatmap(pd.DataFrame(cnf_matrix), annot=True, cmap=\"viridis\" ,fmt='g')\n",
        "plt.title('Confusion matrix', y=1.1)\n",
        "plt.ylabel('Actual label')\n",
        "plt.xlabel('Predicted label')"
      ],
      "execution_count": 175,
      "outputs": [
        {
          "output_type": "execute_result",
          "data": {
            "text/plain": [
              "Text(0.5, 15.0, 'Predicted label')"
            ]
          },
          "metadata": {},
          "execution_count": 175
        },
        {
          "output_type": "display_data",
          "data": {
            "image/png": "[encoded data removed]",
            "text/plain": [
              "<Figure size 432x288 with 2 Axes>"
            ]
          },
          "metadata": {
            "needs_background": "light"
          }
        }
      ]
    },
    {
      "cell_type": "code",
      "metadata": {
        "id": "a8TRknp0XTqJ",
        "outputId": "18b6b32d-31c4-47ac-f506-41ed457f38b1",
        "colab": {
          "base_uri": "https://localhost:8080/"
        }
      },
      "source": [
        "## TASK-4\n",
        "## Print a Classification Report for the results of the Car evaluation dataset\n",
        "\n",
        "#import classification_report\n",
        "from sklearn.metrics import classification_report\n",
        "print(classification_report(y_test,predictions))"
      ],
      "execution_count": 176,
      "outputs": [
        {
          "output_type": "stream",
          "name": "stdout",
          "text": [
            "              precision    recall  f1-score   support\n",
            "\n",
            "           0       0.77      0.78      0.77        72\n",
            "           1       0.75      0.40      0.52        15\n",
            "           2       0.94      0.99      0.96       242\n",
            "           3       1.00      0.59      0.74        17\n",
            "\n",
            "    accuracy                           0.90       346\n",
            "   macro avg       0.86      0.69      0.75       346\n",
            "weighted avg       0.90      0.90      0.89       346\n",
            "\n"
          ]
        }
      ]
    },
    {
      "cell_type": "markdown",
      "metadata": {
        "id": "xr9dI1Kqsprz"
      },
      "source": [
        "### Questions to Think About and Answer\n",
        "1. In the section on Decision boundaries, you must have seen that we ran the KNN algorithm twice: first with the _weights_ set to 'uniform' and then set to 'distance'. Find out the difference between these two.  \n",
        "2. What do you think could be the drawbacks of using KNN ?"
      ]
    },
    {
      "cell_type": "markdown",
      "source": [
        "### ANSWERS\n",
        "\n",
        "1)\n",
        "\n",
        "Uniform Weights -All points in each neighborhood are weighted equally.\n",
        "\n",
        "Distance Weights-Weight points by the inverse of their distance. In this case, closer neighbors of a query point will have a greater influence than neighbors which are further away.\n",
        "\n",
        "2)\n",
        "\n",
        "Accuracy depends on the data\n",
        "\n",
        "Sensitive to the scale of the data and irrelevant features\n",
        "\n",
        "Require high memory – need to store all of the training data, so it can be computationally expensive\n",
        "\n",
        "Generally with large data, the prediction stage might be slow"
      ],
      "metadata": {
        "id": "6-SvuzVYsiw2"
      }
    },
    {
      "cell_type": "markdown",
      "metadata": {
        "id": "TRlrn4EctZrC"
      },
      "source": [
        "### Useful Resources for further reading\n",
        "1. Interactive KNN visualization, with class boundaries: http://vision.stanford.edu/teaching/cs231n-demos/knn/  \n"
      ]
    }
  ]
}